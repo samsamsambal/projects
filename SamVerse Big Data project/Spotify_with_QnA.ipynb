{
  "nbformat": 4,
  "nbformat_minor": 0,
  "metadata": {
    "colab": {
      "provenance": [],
      "include_colab_link": true
    },
    "kernelspec": {
      "name": "python3",
      "display_name": "Python 3"
    },
    "language_info": {
      "name": "python"
    }
  },
  "cells": [
    {
      "cell_type": "markdown",
      "metadata": {
        "id": "view-in-github",
        "colab_type": "text"
      },
      "source": [
        "<a href=\"https://colab.research.google.com/github/drshahizan/Python-big-data/blob/main/Project/SamVerse/Spotify_with_QnA.ipynb\" target=\"_parent\"><img src=\"https://colab.research.google.com/assets/colab-badge.svg\" alt=\"Open In Colab\"/></a>"
      ]
    },
    {
      "cell_type": "markdown",
      "source": [
        "# **Spotify Charts (Pandas vs PySpark vs Koalas)**\n",
        "#### Group Members:\n",
        "|Name |Matric|\n",
        "|:---:|:---:|\n",
        "|LUQMAN ARIFF BIN NOOR AZHAR |A20EC0202|\n",
        "|AHMAD AIMAN HAFIZI BIN MUHAMMAD\t| A20EC0177|\n",
        "|LEE CAI XUAN\t| A20EC0062|\n",
        "|MYZA NAZIFA BINTI NAZRY\t| A20EC0219|\n",
        "\n",
        "\n",
        "---\n",
        "For this assignment, we have decided to use the dataset, *Spotify Charts* which we retreived from Kaggle with a size of 3.48GB. The dataset has provided information such as the title of the song, the rank of the song, the artist, the date, the url, the region and others of all the \"Top 200\" and \"Viral 50\" charts which has been published globally by Spotify. We will analyse the dataset by using 3 different libraries which are **Pandas, PySpark and Koalas**.\n",
        "\n",
        "The dataset can be found in the link [here](https://www.kaggle.com/datasets/dhruvildave/spotify-charts).\n",
        "\n",
        "\n",
        "The objective that we would like to accomplish in this project are as below:\n",
        "\n",
        "\n",
        "1.   To compare the time completion between the 3 libraries.\n",
        "2.   To perform data analyzation and data visualization.\n",
        "3.   To ask and answer different possible questions based on dataset.\n",
        "\n",
        "\n",
        "\n",
        "\n",
        "---\n",
        "#### Attribute Information:\n",
        "| Attribute | Description |\n",
        "| --- | --- |\n",
        "| **Title** |   Song Title  |\n",
        "|**Rank** |   Latest Ranking of the song on Spotify |\n",
        "| **Date** | Latest Date of Song Ranking |\n",
        "| **Artist** | Artist Name |\n",
        "| **Url** | Spotify Url  |\n",
        "| **Region** |  Region of Account on Spotify   |\n",
        "| **Chart** | Song Charting on Spotify  |\n",
        "| **Trend** | Position Changes of Song Ranking on Spotify  |\n",
        "| **Stream** | Total Number of Song Streaming on Spotify  |"
      ],
      "metadata": {
        "id": "0pOWGPhM2Udf"
      }
    },
    {
      "cell_type": "markdown",
      "source": [
        "## Downloading the Dataset"
      ],
      "metadata": {
        "id": "f06Q3t-84aCr"
      }
    },
    {
      "cell_type": "code",
      "source": [
        "from google.colab import drive\n",
        "drive.mount(\"/content/drive\")"
      ],
      "metadata": {
        "colab": {
          "base_uri": "https://localhost:8080/"
        },
        "id": "mZAfGSBST7fY",
        "outputId": "b67d3bd4-51b3-48be-bc5a-7562d48133c8"
      },
      "execution_count": 1,
      "outputs": [
        {
          "output_type": "stream",
          "name": "stdout",
          "text": [
            "Mounted at /content/drive\n"
          ]
        }
      ]
    },
    {
      "cell_type": "code",
      "source": [
        "charts = \"/content/drive/MyDrive/Colab Notebooks/charts.csv\""
      ],
      "metadata": {
        "id": "hx77yod7UKDB"
      },
      "execution_count": 2,
      "outputs": []
    },
    {
      "cell_type": "markdown",
      "source": [
        "## Data Preparation and Cleaning\n",
        "\n",
        "> We will be begin our data cleansing using these three methods\n",
        "\n",
        "*   Importing data from Google Drive\n",
        "*   Removing null data\n",
        "*   Removng duplicates\n",
        "\n",
        "\n",
        "\n"
      ],
      "metadata": {
        "id": "qGCmWE9gb6gi"
      }
    },
    {
      "cell_type": "markdown",
      "source": [
        "Import Data"
      ],
      "metadata": {
        "id": "ny4XvHZKcIUX"
      }
    },
    {
      "cell_type": "markdown",
      "source": [
        "**1. Pandas**"
      ],
      "metadata": {
        "id": "uvuSVrbeWdnk"
      }
    },
    {
      "cell_type": "code",
      "source": [
        "import pandas as pd\n",
        "import numpy as np"
      ],
      "metadata": {
        "id": "JEcoDOtoWdXF"
      },
      "execution_count": 3,
      "outputs": []
    },
    {
      "cell_type": "code",
      "source": [
        "%%time\n",
        "df = pd.read_csv(charts)\n",
        "df.head(5)"
      ],
      "metadata": {
        "colab": {
          "base_uri": "https://localhost:8080/",
          "height": 242
        },
        "id": "-Hz-x5VdXNvo",
        "outputId": "530216e9-7c81-465c-8b58-b75130357e02"
      },
      "execution_count": 4,
      "outputs": [
        {
          "output_type": "stream",
          "name": "stdout",
          "text": [
            "CPU times: user 1min 1s, sys: 8.92 s, total: 1min 10s\n",
            "Wall time: 1min 48s\n"
          ]
        },
        {
          "output_type": "execute_result",
          "data": {
            "text/plain": [
              "                         title  rank        date  \\\n",
              "0      Chantaje (feat. Maluma)     1  2017-01-01   \n",
              "1  Vente Pa' Ca (feat. Maluma)     2  2017-01-01   \n",
              "2   Reggaetón Lento (Bailemos)     3  2017-01-01   \n",
              "3                       Safari     4  2017-01-01   \n",
              "4                  Shaky Shaky     5  2017-01-01   \n",
              "\n",
              "                                  artist  \\\n",
              "0                                Shakira   \n",
              "1                           Ricky Martin   \n",
              "2                                   CNCO   \n",
              "3  J Balvin, Pharrell Williams, BIA, Sky   \n",
              "4                           Daddy Yankee   \n",
              "\n",
              "                                                 url     region   chart  \\\n",
              "0  https://open.spotify.com/track/6mICuAdrwEjh6Y6...  Argentina  top200   \n",
              "1  https://open.spotify.com/track/7DM4BPaS7uofFul...  Argentina  top200   \n",
              "2  https://open.spotify.com/track/3AEZUABDXNtecAO...  Argentina  top200   \n",
              "3  https://open.spotify.com/track/6rQSrBHf7HlZjtc...  Argentina  top200   \n",
              "4  https://open.spotify.com/track/58IL315gMSTD37D...  Argentina  top200   \n",
              "\n",
              "           trend   streams  \n",
              "0  SAME_POSITION  253019.0  \n",
              "1        MOVE_UP  223988.0  \n",
              "2      MOVE_DOWN  210943.0  \n",
              "3  SAME_POSITION  173865.0  \n",
              "4        MOVE_UP  153956.0  "
            ],
            "text/html": [
              "\n",
              "  <div id=\"df-2fa3c178-4f95-4145-b8ea-f5cbe7e6b159\">\n",
              "    <div class=\"colab-df-container\">\n",
              "      <div>\n",
              "<style scoped>\n",
              "    .dataframe tbody tr th:only-of-type {\n",
              "        vertical-align: middle;\n",
              "    }\n",
              "\n",
              "    .dataframe tbody tr th {\n",
              "        vertical-align: top;\n",
              "    }\n",
              "\n",
              "    .dataframe thead th {\n",
              "        text-align: right;\n",
              "    }\n",
              "</style>\n",
              "<table border=\"1\" class=\"dataframe\">\n",
              "  <thead>\n",
              "    <tr style=\"text-align: right;\">\n",
              "      <th></th>\n",
              "      <th>title</th>\n",
              "      <th>rank</th>\n",
              "      <th>date</th>\n",
              "      <th>artist</th>\n",
              "      <th>url</th>\n",
              "      <th>region</th>\n",
              "      <th>chart</th>\n",
              "      <th>trend</th>\n",
              "      <th>streams</th>\n",
              "    </tr>\n",
              "  </thead>\n",
              "  <tbody>\n",
              "    <tr>\n",
              "      <th>0</th>\n",
              "      <td>Chantaje (feat. Maluma)</td>\n",
              "      <td>1</td>\n",
              "      <td>2017-01-01</td>\n",
              "      <td>Shakira</td>\n",
              "      <td>https://open.spotify.com/track/6mICuAdrwEjh6Y6...</td>\n",
              "      <td>Argentina</td>\n",
              "      <td>top200</td>\n",
              "      <td>SAME_POSITION</td>\n",
              "      <td>253019.0</td>\n",
              "    </tr>\n",
              "    <tr>\n",
              "      <th>1</th>\n",
              "      <td>Vente Pa' Ca (feat. Maluma)</td>\n",
              "      <td>2</td>\n",
              "      <td>2017-01-01</td>\n",
              "      <td>Ricky Martin</td>\n",
              "      <td>https://open.spotify.com/track/7DM4BPaS7uofFul...</td>\n",
              "      <td>Argentina</td>\n",
              "      <td>top200</td>\n",
              "      <td>MOVE_UP</td>\n",
              "      <td>223988.0</td>\n",
              "    </tr>\n",
              "    <tr>\n",
              "      <th>2</th>\n",
              "      <td>Reggaetón Lento (Bailemos)</td>\n",
              "      <td>3</td>\n",
              "      <td>2017-01-01</td>\n",
              "      <td>CNCO</td>\n",
              "      <td>https://open.spotify.com/track/3AEZUABDXNtecAO...</td>\n",
              "      <td>Argentina</td>\n",
              "      <td>top200</td>\n",
              "      <td>MOVE_DOWN</td>\n",
              "      <td>210943.0</td>\n",
              "    </tr>\n",
              "    <tr>\n",
              "      <th>3</th>\n",
              "      <td>Safari</td>\n",
              "      <td>4</td>\n",
              "      <td>2017-01-01</td>\n",
              "      <td>J Balvin, Pharrell Williams, BIA, Sky</td>\n",
              "      <td>https://open.spotify.com/track/6rQSrBHf7HlZjtc...</td>\n",
              "      <td>Argentina</td>\n",
              "      <td>top200</td>\n",
              "      <td>SAME_POSITION</td>\n",
              "      <td>173865.0</td>\n",
              "    </tr>\n",
              "    <tr>\n",
              "      <th>4</th>\n",
              "      <td>Shaky Shaky</td>\n",
              "      <td>5</td>\n",
              "      <td>2017-01-01</td>\n",
              "      <td>Daddy Yankee</td>\n",
              "      <td>https://open.spotify.com/track/58IL315gMSTD37D...</td>\n",
              "      <td>Argentina</td>\n",
              "      <td>top200</td>\n",
              "      <td>MOVE_UP</td>\n",
              "      <td>153956.0</td>\n",
              "    </tr>\n",
              "  </tbody>\n",
              "</table>\n",
              "</div>\n",
              "      <button class=\"colab-df-convert\" onclick=\"convertToInteractive('df-2fa3c178-4f95-4145-b8ea-f5cbe7e6b159')\"\n",
              "              title=\"Convert this dataframe to an interactive table.\"\n",
              "              style=\"display:none;\">\n",
              "        \n",
              "  <svg xmlns=\"http://www.w3.org/2000/svg\" height=\"24px\"viewBox=\"0 0 24 24\"\n",
              "       width=\"24px\">\n",
              "    <path d=\"M0 0h24v24H0V0z\" fill=\"none\"/>\n",
              "    <path d=\"M18.56 5.44l.94 2.06.94-2.06 2.06-.94-2.06-.94-.94-2.06-.94 2.06-2.06.94zm-11 1L8.5 8.5l.94-2.06 2.06-.94-2.06-.94L8.5 2.5l-.94 2.06-2.06.94zm10 10l.94 2.06.94-2.06 2.06-.94-2.06-.94-.94-2.06-.94 2.06-2.06.94z\"/><path d=\"M17.41 7.96l-1.37-1.37c-.4-.4-.92-.59-1.43-.59-.52 0-1.04.2-1.43.59L10.3 9.45l-7.72 7.72c-.78.78-.78 2.05 0 2.83L4 21.41c.39.39.9.59 1.41.59.51 0 1.02-.2 1.41-.59l7.78-7.78 2.81-2.81c.8-.78.8-2.07 0-2.86zM5.41 20L4 18.59l7.72-7.72 1.47 1.35L5.41 20z\"/>\n",
              "  </svg>\n",
              "      </button>\n",
              "      \n",
              "  <style>\n",
              "    .colab-df-container {\n",
              "      display:flex;\n",
              "      flex-wrap:wrap;\n",
              "      gap: 12px;\n",
              "    }\n",
              "\n",
              "    .colab-df-convert {\n",
              "      background-color: #E8F0FE;\n",
              "      border: none;\n",
              "      border-radius: 50%;\n",
              "      cursor: pointer;\n",
              "      display: none;\n",
              "      fill: #1967D2;\n",
              "      height: 32px;\n",
              "      padding: 0 0 0 0;\n",
              "      width: 32px;\n",
              "    }\n",
              "\n",
              "    .colab-df-convert:hover {\n",
              "      background-color: #E2EBFA;\n",
              "      box-shadow: 0px 1px 2px rgba(60, 64, 67, 0.3), 0px 1px 3px 1px rgba(60, 64, 67, 0.15);\n",
              "      fill: #174EA6;\n",
              "    }\n",
              "\n",
              "    [theme=dark] .colab-df-convert {\n",
              "      background-color: #3B4455;\n",
              "      fill: #D2E3FC;\n",
              "    }\n",
              "\n",
              "    [theme=dark] .colab-df-convert:hover {\n",
              "      background-color: #434B5C;\n",
              "      box-shadow: 0px 1px 3px 1px rgba(0, 0, 0, 0.15);\n",
              "      filter: drop-shadow(0px 1px 2px rgba(0, 0, 0, 0.3));\n",
              "      fill: #FFFFFF;\n",
              "    }\n",
              "  </style>\n",
              "\n",
              "      <script>\n",
              "        const buttonEl =\n",
              "          document.querySelector('#df-2fa3c178-4f95-4145-b8ea-f5cbe7e6b159 button.colab-df-convert');\n",
              "        buttonEl.style.display =\n",
              "          google.colab.kernel.accessAllowed ? 'block' : 'none';\n",
              "\n",
              "        async function convertToInteractive(key) {\n",
              "          const element = document.querySelector('#df-2fa3c178-4f95-4145-b8ea-f5cbe7e6b159');\n",
              "          const dataTable =\n",
              "            await google.colab.kernel.invokeFunction('convertToInteractive',\n",
              "                                                     [key], {});\n",
              "          if (!dataTable) return;\n",
              "\n",
              "          const docLinkHtml = 'Like what you see? Visit the ' +\n",
              "            '<a target=\"_blank\" href=https://colab.research.google.com/notebooks/data_table.ipynb>data table notebook</a>'\n",
              "            + ' to learn more about interactive tables.';\n",
              "          element.innerHTML = '';\n",
              "          dataTable['output_type'] = 'display_data';\n",
              "          await google.colab.output.renderOutput(dataTable, element);\n",
              "          const docLink = document.createElement('div');\n",
              "          docLink.innerHTML = docLinkHtml;\n",
              "          element.appendChild(docLink);\n",
              "        }\n",
              "      </script>\n",
              "    </div>\n",
              "  </div>\n",
              "  "
            ]
          },
          "metadata": {},
          "execution_count": 4
        }
      ]
    },
    {
      "cell_type": "markdown",
      "source": [
        "**2. PySpark**"
      ],
      "metadata": {
        "id": "A1r2YJcbUy97"
      }
    },
    {
      "cell_type": "code",
      "execution_count": 5,
      "metadata": {
        "colab": {
          "base_uri": "https://localhost:8080/"
        },
        "id": "oALzNGWVTBmo",
        "outputId": "d7363935-c822-49ce-da26-b3fe48aa075c"
      },
      "outputs": [
        {
          "output_type": "stream",
          "name": "stdout",
          "text": [
            "Looking in indexes: https://pypi.org/simple, https://us-python.pkg.dev/colab-wheels/public/simple/\n",
            "Collecting pyspark\n",
            "  Downloading pyspark-3.3.1.tar.gz (281.4 MB)\n",
            "\u001b[2K     \u001b[90m━━━━━━━━━━━━━━━━━━━━━━━━━━━━━━━━━━━━━━━\u001b[0m \u001b[32m281.4/281.4 MB\u001b[0m \u001b[31m4.3 MB/s\u001b[0m eta \u001b[36m0:00:00\u001b[0m\n",
            "\u001b[?25h  Preparing metadata (setup.py) ... \u001b[?25l\u001b[?25hdone\n",
            "Collecting py4j==0.10.9.5\n",
            "  Downloading py4j-0.10.9.5-py2.py3-none-any.whl (199 kB)\n",
            "\u001b[2K     \u001b[90m━━━━━━━━━━━━━━━━━━━━━━━━━━━━━━━━━━━━━━\u001b[0m \u001b[32m199.7/199.7 KB\u001b[0m \u001b[31m16.3 MB/s\u001b[0m eta \u001b[36m0:00:00\u001b[0m\n",
            "\u001b[?25hBuilding wheels for collected packages: pyspark\n",
            "  Building wheel for pyspark (setup.py) ... \u001b[?25l\u001b[?25hdone\n",
            "  Created wheel for pyspark: filename=pyspark-3.3.1-py2.py3-none-any.whl size=281845512 sha256=bd5cc95a401b579e9f1e5d6af94773ded6769b7a0ffb5ead32d9f436c32fefaf\n",
            "  Stored in directory: /root/.cache/pip/wheels/43/dc/11/ec201cd671da62fa9c5cc77078235e40722170ceba231d7598\n",
            "Successfully built pyspark\n",
            "Installing collected packages: py4j, pyspark\n",
            "Successfully installed py4j-0.10.9.5 pyspark-3.3.1\n"
          ]
        }
      ],
      "source": [
        "!pip install pyspark"
      ]
    },
    {
      "cell_type": "code",
      "source": [
        "from pyspark.sql import SparkSession\n",
        "import pyspark.sql.functions as func\n",
        "spark = SparkSession.builder.getOrCreate()"
      ],
      "metadata": {
        "id": "8og-xCT1Uh0m"
      },
      "execution_count": 6,
      "outputs": []
    },
    {
      "cell_type": "code",
      "source": [
        "%%time\n",
        "df_py = spark.read.csv(charts, header = True)\n",
        "df_py.show(5)"
      ],
      "metadata": {
        "colab": {
          "base_uri": "https://localhost:8080/"
        },
        "id": "08Sx1hcXUSd-",
        "outputId": "187e5e77-d2c6-4ea8-b9fd-c8a5723eee9f"
      },
      "execution_count": 7,
      "outputs": [
        {
          "output_type": "stream",
          "name": "stdout",
          "text": [
            "+--------------------+----+----------+--------------------+--------------------+---------+------+-------------+-------+\n",
            "|               title|rank|      date|              artist|                 url|   region| chart|        trend|streams|\n",
            "+--------------------+----+----------+--------------------+--------------------+---------+------+-------------+-------+\n",
            "|Chantaje (feat. M...|   1|2017-01-01|             Shakira|https://open.spot...|Argentina|top200|SAME_POSITION| 253019|\n",
            "|Vente Pa' Ca (fea...|   2|2017-01-01|        Ricky Martin|https://open.spot...|Argentina|top200|      MOVE_UP| 223988|\n",
            "|Reggaetón Lento (...|   3|2017-01-01|                CNCO|https://open.spot...|Argentina|top200|    MOVE_DOWN| 210943|\n",
            "|              Safari|   4|2017-01-01|J Balvin, Pharrel...|https://open.spot...|Argentina|top200|SAME_POSITION| 173865|\n",
            "|         Shaky Shaky|   5|2017-01-01|        Daddy Yankee|https://open.spot...|Argentina|top200|      MOVE_UP| 153956|\n",
            "+--------------------+----+----------+--------------------+--------------------+---------+------+-------------+-------+\n",
            "only showing top 5 rows\n",
            "\n",
            "CPU times: user 96.1 ms, sys: 15.9 ms, total: 112 ms\n",
            "Wall time: 15.5 s\n"
          ]
        }
      ]
    },
    {
      "cell_type": "markdown",
      "source": [
        "**3. Koalas**"
      ],
      "metadata": {
        "id": "ofxsjW1TU-GH"
      }
    },
    {
      "cell_type": "code",
      "source": [
        "!pip install koalas"
      ],
      "metadata": {
        "colab": {
          "base_uri": "https://localhost:8080/"
        },
        "id": "MSvePqNHVBzZ",
        "outputId": "d09c745a-83c6-4ebb-dc4f-a219397be1ba"
      },
      "execution_count": 8,
      "outputs": [
        {
          "output_type": "stream",
          "name": "stdout",
          "text": [
            "Looking in indexes: https://pypi.org/simple, https://us-python.pkg.dev/colab-wheels/public/simple/\n",
            "Collecting koalas\n",
            "  Downloading koalas-1.8.2-py3-none-any.whl (390 kB)\n",
            "\u001b[2K     \u001b[90m━━━━━━━━━━━━━━━━━━━━━━━━━━━━━━━━━━━━━━━\u001b[0m \u001b[32m390.8/390.8 KB\u001b[0m \u001b[31m6.5 MB/s\u001b[0m eta \u001b[36m0:00:00\u001b[0m\n",
            "\u001b[?25hRequirement already satisfied: numpy>=1.14 in /usr/local/lib/python3.8/dist-packages (from koalas) (1.21.6)\n",
            "Requirement already satisfied: pyarrow>=0.10 in /usr/local/lib/python3.8/dist-packages (from koalas) (9.0.0)\n",
            "Requirement already satisfied: pandas>=0.23.2 in /usr/local/lib/python3.8/dist-packages (from koalas) (1.3.5)\n",
            "Requirement already satisfied: python-dateutil>=2.7.3 in /usr/local/lib/python3.8/dist-packages (from pandas>=0.23.2->koalas) (2.8.2)\n",
            "Requirement already satisfied: pytz>=2017.3 in /usr/local/lib/python3.8/dist-packages (from pandas>=0.23.2->koalas) (2022.7)\n",
            "Requirement already satisfied: six>=1.5 in /usr/local/lib/python3.8/dist-packages (from python-dateutil>=2.7.3->pandas>=0.23.2->koalas) (1.15.0)\n",
            "Installing collected packages: koalas\n",
            "Successfully installed koalas-1.8.2\n"
          ]
        }
      ]
    },
    {
      "cell_type": "code",
      "source": [
        "import databricks.koalas as ks"
      ],
      "metadata": {
        "id": "86u6KZ6aVKRO",
        "colab": {
          "base_uri": "https://localhost:8080/"
        },
        "outputId": "9d5f7151-ece7-4f52-b71d-322af0d4b606"
      },
      "execution_count": 9,
      "outputs": [
        {
          "output_type": "stream",
          "name": "stderr",
          "text": [
            "WARNING:root:Found pyspark version \"3.3.1\" installed. The pyspark version 3.2 and above has a built-in \"pandas APIs on Spark\" module ported from Koalas. Try `import pyspark.pandas as ps` instead. \n",
            "WARNING:root:'PYARROW_IGNORE_TIMEZONE' environment variable was not set. It is required to set this environment variable to '1' in both driver and executor sides if you use pyarrow>=2.0.0. Koalas will set it for you but it does not work if there is a Spark context already launched.\n"
          ]
        }
      ]
    },
    {
      "cell_type": "code",
      "source": [
        "%%time\n",
        "df_ks = ks.read_csv(charts)\n",
        "df_ks.head(5)"
      ],
      "metadata": {
        "colab": {
          "base_uri": "https://localhost:8080/",
          "height": 242
        },
        "id": "ZA-4XVR3VOyy",
        "outputId": "2a140d20-13b5-4149-9a1b-b1083b3caf7f"
      },
      "execution_count": 10,
      "outputs": [
        {
          "output_type": "stream",
          "name": "stdout",
          "text": [
            "CPU times: user 649 ms, sys: 94 ms, total: 743 ms\n",
            "Wall time: 1min 43s\n"
          ]
        },
        {
          "output_type": "execute_result",
          "data": {
            "text/plain": [
              "                         title rank        date                                 artist                                                    url     region   chart          trend streams\n",
              "0      Chantaje (feat. Maluma)    1  2017-01-01                                Shakira  https://open.spotify.com/track/6mICuAdrwEjh6Y6lroV2Kg  Argentina  top200  SAME_POSITION  253019\n",
              "1  Vente Pa' Ca (feat. Maluma)    2  2017-01-01                           Ricky Martin  https://open.spotify.com/track/7DM4BPaS7uofFul3ywMe46  Argentina  top200        MOVE_UP  223988\n",
              "2   Reggaetón Lento (Bailemos)    3  2017-01-01                                   CNCO  https://open.spotify.com/track/3AEZUABDXNtecAOSC1qTfo  Argentina  top200      MOVE_DOWN  210943\n",
              "3                       Safari    4  2017-01-01  J Balvin, Pharrell Williams, BIA, Sky  https://open.spotify.com/track/6rQSrBHf7HlZjtcMZ4S4bO  Argentina  top200  SAME_POSITION  173865\n",
              "4                  Shaky Shaky    5  2017-01-01                           Daddy Yankee  https://open.spotify.com/track/58IL315gMSTD37DOZPJ2hf  Argentina  top200        MOVE_UP  153956"
            ],
            "text/html": [
              "<div>\n",
              "<style scoped>\n",
              "    .dataframe tbody tr th:only-of-type {\n",
              "        vertical-align: middle;\n",
              "    }\n",
              "\n",
              "    .dataframe tbody tr th {\n",
              "        vertical-align: top;\n",
              "    }\n",
              "\n",
              "    .dataframe thead th {\n",
              "        text-align: right;\n",
              "    }\n",
              "</style>\n",
              "<table border=\"1\" class=\"dataframe\">\n",
              "  <thead>\n",
              "    <tr style=\"text-align: right;\">\n",
              "      <th></th>\n",
              "      <th>title</th>\n",
              "      <th>rank</th>\n",
              "      <th>date</th>\n",
              "      <th>artist</th>\n",
              "      <th>url</th>\n",
              "      <th>region</th>\n",
              "      <th>chart</th>\n",
              "      <th>trend</th>\n",
              "      <th>streams</th>\n",
              "    </tr>\n",
              "  </thead>\n",
              "  <tbody>\n",
              "    <tr>\n",
              "      <th>0</th>\n",
              "      <td>Chantaje (feat. Maluma)</td>\n",
              "      <td>1</td>\n",
              "      <td>2017-01-01</td>\n",
              "      <td>Shakira</td>\n",
              "      <td>https://open.spotify.com/track/6mICuAdrwEjh6Y6...</td>\n",
              "      <td>Argentina</td>\n",
              "      <td>top200</td>\n",
              "      <td>SAME_POSITION</td>\n",
              "      <td>253019</td>\n",
              "    </tr>\n",
              "    <tr>\n",
              "      <th>1</th>\n",
              "      <td>Vente Pa' Ca (feat. Maluma)</td>\n",
              "      <td>2</td>\n",
              "      <td>2017-01-01</td>\n",
              "      <td>Ricky Martin</td>\n",
              "      <td>https://open.spotify.com/track/7DM4BPaS7uofFul...</td>\n",
              "      <td>Argentina</td>\n",
              "      <td>top200</td>\n",
              "      <td>MOVE_UP</td>\n",
              "      <td>223988</td>\n",
              "    </tr>\n",
              "    <tr>\n",
              "      <th>2</th>\n",
              "      <td>Reggaetón Lento (Bailemos)</td>\n",
              "      <td>3</td>\n",
              "      <td>2017-01-01</td>\n",
              "      <td>CNCO</td>\n",
              "      <td>https://open.spotify.com/track/3AEZUABDXNtecAO...</td>\n",
              "      <td>Argentina</td>\n",
              "      <td>top200</td>\n",
              "      <td>MOVE_DOWN</td>\n",
              "      <td>210943</td>\n",
              "    </tr>\n",
              "    <tr>\n",
              "      <th>3</th>\n",
              "      <td>Safari</td>\n",
              "      <td>4</td>\n",
              "      <td>2017-01-01</td>\n",
              "      <td>J Balvin, Pharrell Williams, BIA, Sky</td>\n",
              "      <td>https://open.spotify.com/track/6rQSrBHf7HlZjtc...</td>\n",
              "      <td>Argentina</td>\n",
              "      <td>top200</td>\n",
              "      <td>SAME_POSITION</td>\n",
              "      <td>173865</td>\n",
              "    </tr>\n",
              "    <tr>\n",
              "      <th>4</th>\n",
              "      <td>Shaky Shaky</td>\n",
              "      <td>5</td>\n",
              "      <td>2017-01-01</td>\n",
              "      <td>Daddy Yankee</td>\n",
              "      <td>https://open.spotify.com/track/58IL315gMSTD37D...</td>\n",
              "      <td>Argentina</td>\n",
              "      <td>top200</td>\n",
              "      <td>MOVE_UP</td>\n",
              "      <td>153956</td>\n",
              "    </tr>\n",
              "  </tbody>\n",
              "</table>\n",
              "</div>"
            ]
          },
          "metadata": {},
          "execution_count": 10
        }
      ]
    },
    {
      "cell_type": "code",
      "source": [
        "# I remove column 'rank','date','url,'chart' from the table. \n",
        "# There will be error and I don't know why\n",
        "# So, there should it will always be\n",
        "# To get the table with all column, use \"df_ks\" instead of \"df_ks_eda\"\n",
        "df_ks_eda = df_ks.drop(columns=['rank','date','url','chart'])\n",
        "df_ks_eda.head(10)"
      ],
      "metadata": {
        "colab": {
          "base_uri": "https://localhost:8080/",
          "height": 362
        },
        "id": "H8vgQTFPZAuC",
        "outputId": "4aa2d337-d772-44d8-f663-b9654a008bf1"
      },
      "execution_count": null,
      "outputs": [
        {
          "output_type": "execute_result",
          "data": {
            "text/plain": [
              "                         title                                 artist     region          trend streams\n",
              "0      Chantaje (feat. Maluma)                                Shakira  Argentina  SAME_POSITION  253019\n",
              "1  Vente Pa' Ca (feat. Maluma)                           Ricky Martin  Argentina        MOVE_UP  223988\n",
              "2   Reggaetón Lento (Bailemos)                                   CNCO  Argentina      MOVE_DOWN  210943\n",
              "3                       Safari  J Balvin, Pharrell Williams, BIA, Sky  Argentina  SAME_POSITION  173865\n",
              "4                  Shaky Shaky                           Daddy Yankee  Argentina        MOVE_UP  153956\n",
              "5                  Traicionera                        Sebastian Yatra  Argentina      MOVE_DOWN  151140\n",
              "6      Cuando Se Pone a Bailar                                 Rombai  Argentina      MOVE_DOWN  148369\n",
              "7    Otra vez (feat. J Balvin)                          Zion & Lennox  Argentina      MOVE_DOWN  143004\n",
              "8                 La Bicicleta                  Carlos Vives, Shakira  Argentina        MOVE_UP  126389\n",
              "9       Dile Que Tu Me Quieres                                  Ozuna  Argentina      MOVE_DOWN  112012"
            ],
            "text/html": [
              "<div>\n",
              "<style scoped>\n",
              "    .dataframe tbody tr th:only-of-type {\n",
              "        vertical-align: middle;\n",
              "    }\n",
              "\n",
              "    .dataframe tbody tr th {\n",
              "        vertical-align: top;\n",
              "    }\n",
              "\n",
              "    .dataframe thead th {\n",
              "        text-align: right;\n",
              "    }\n",
              "</style>\n",
              "<table border=\"1\" class=\"dataframe\">\n",
              "  <thead>\n",
              "    <tr style=\"text-align: right;\">\n",
              "      <th></th>\n",
              "      <th>title</th>\n",
              "      <th>artist</th>\n",
              "      <th>region</th>\n",
              "      <th>trend</th>\n",
              "      <th>streams</th>\n",
              "    </tr>\n",
              "  </thead>\n",
              "  <tbody>\n",
              "    <tr>\n",
              "      <th>0</th>\n",
              "      <td>Chantaje (feat. Maluma)</td>\n",
              "      <td>Shakira</td>\n",
              "      <td>Argentina</td>\n",
              "      <td>SAME_POSITION</td>\n",
              "      <td>253019</td>\n",
              "    </tr>\n",
              "    <tr>\n",
              "      <th>1</th>\n",
              "      <td>Vente Pa' Ca (feat. Maluma)</td>\n",
              "      <td>Ricky Martin</td>\n",
              "      <td>Argentina</td>\n",
              "      <td>MOVE_UP</td>\n",
              "      <td>223988</td>\n",
              "    </tr>\n",
              "    <tr>\n",
              "      <th>2</th>\n",
              "      <td>Reggaetón Lento (Bailemos)</td>\n",
              "      <td>CNCO</td>\n",
              "      <td>Argentina</td>\n",
              "      <td>MOVE_DOWN</td>\n",
              "      <td>210943</td>\n",
              "    </tr>\n",
              "    <tr>\n",
              "      <th>3</th>\n",
              "      <td>Safari</td>\n",
              "      <td>J Balvin, Pharrell Williams, BIA, Sky</td>\n",
              "      <td>Argentina</td>\n",
              "      <td>SAME_POSITION</td>\n",
              "      <td>173865</td>\n",
              "    </tr>\n",
              "    <tr>\n",
              "      <th>4</th>\n",
              "      <td>Shaky Shaky</td>\n",
              "      <td>Daddy Yankee</td>\n",
              "      <td>Argentina</td>\n",
              "      <td>MOVE_UP</td>\n",
              "      <td>153956</td>\n",
              "    </tr>\n",
              "    <tr>\n",
              "      <th>5</th>\n",
              "      <td>Traicionera</td>\n",
              "      <td>Sebastian Yatra</td>\n",
              "      <td>Argentina</td>\n",
              "      <td>MOVE_DOWN</td>\n",
              "      <td>151140</td>\n",
              "    </tr>\n",
              "    <tr>\n",
              "      <th>6</th>\n",
              "      <td>Cuando Se Pone a Bailar</td>\n",
              "      <td>Rombai</td>\n",
              "      <td>Argentina</td>\n",
              "      <td>MOVE_DOWN</td>\n",
              "      <td>148369</td>\n",
              "    </tr>\n",
              "    <tr>\n",
              "      <th>7</th>\n",
              "      <td>Otra vez (feat. J Balvin)</td>\n",
              "      <td>Zion &amp; Lennox</td>\n",
              "      <td>Argentina</td>\n",
              "      <td>MOVE_DOWN</td>\n",
              "      <td>143004</td>\n",
              "    </tr>\n",
              "    <tr>\n",
              "      <th>8</th>\n",
              "      <td>La Bicicleta</td>\n",
              "      <td>Carlos Vives, Shakira</td>\n",
              "      <td>Argentina</td>\n",
              "      <td>MOVE_UP</td>\n",
              "      <td>126389</td>\n",
              "    </tr>\n",
              "    <tr>\n",
              "      <th>9</th>\n",
              "      <td>Dile Que Tu Me Quieres</td>\n",
              "      <td>Ozuna</td>\n",
              "      <td>Argentina</td>\n",
              "      <td>MOVE_DOWN</td>\n",
              "      <td>112012</td>\n",
              "    </tr>\n",
              "  </tbody>\n",
              "</table>\n",
              "</div>"
            ]
          },
          "metadata": {},
          "execution_count": 36
        }
      ]
    },
    {
      "cell_type": "markdown",
      "source": [
        "Removing null"
      ],
      "metadata": {
        "id": "_5JK1MsdcLGu"
      }
    },
    {
      "cell_type": "markdown",
      "source": [
        "**1. Pandas**"
      ],
      "metadata": {
        "id": "6Q3psxVwchVi"
      }
    },
    {
      "cell_type": "code",
      "source": [
        "df.isnull().sum()"
      ],
      "metadata": {
        "colab": {
          "base_uri": "https://localhost:8080/"
        },
        "id": "HVZP5xhpVysB",
        "outputId": "d7de14eb-7f4e-49fb-9fba-318b9b638541"
      },
      "execution_count": null,
      "outputs": [
        {
          "output_type": "execute_result",
          "data": {
            "text/plain": [
              "title           11\n",
              "rank             0\n",
              "date             0\n",
              "artist          18\n",
              "url              0\n",
              "region           0\n",
              "chart            0\n",
              "trend            0\n",
              "streams    5851610\n",
              "dtype: int64"
            ]
          },
          "metadata": {},
          "execution_count": 5
        }
      ]
    },
    {
      "cell_type": "code",
      "source": [
        "%%time\n",
        "df = df.dropna()"
      ],
      "metadata": {
        "colab": {
          "base_uri": "https://localhost:8080/"
        },
        "id": "MYWbTyhWdRce",
        "outputId": "3b5de41b-00c4-490e-fc41-7e8a0964d1dd"
      },
      "execution_count": null,
      "outputs": [
        {
          "output_type": "stream",
          "name": "stdout",
          "text": [
            "CPU times: user 11.6 s, sys: 980 ms, total: 12.5 s\n",
            "Wall time: 12.5 s\n"
          ]
        }
      ]
    },
    {
      "cell_type": "code",
      "source": [
        "df.isnull().sum()"
      ],
      "metadata": {
        "colab": {
          "base_uri": "https://localhost:8080/"
        },
        "id": "LuyuQHpAded-",
        "outputId": "13bfe903-cb1c-4927-bfe3-2af000b18631"
      },
      "execution_count": null,
      "outputs": [
        {
          "output_type": "execute_result",
          "data": {
            "text/plain": [
              "title      0\n",
              "rank       0\n",
              "date       0\n",
              "artist     0\n",
              "url        0\n",
              "region     0\n",
              "chart      0\n",
              "trend      0\n",
              "streams    0\n",
              "dtype: int64"
            ]
          },
          "metadata": {},
          "execution_count": 7
        }
      ]
    },
    {
      "cell_type": "markdown",
      "source": [
        "**2. Pyspark**"
      ],
      "metadata": {
        "id": "hoIK1bd-dwvG"
      }
    },
    {
      "cell_type": "code",
      "source": [
        "from pyspark.sql.functions import col,isnan,when,count\n",
        "df_py1 = df_py.select([count(when(col(c).contains('None') | \\\n",
        "                            col(c).contains('NULL') | \\\n",
        "                            (col(c) == '' ) | \\\n",
        "                            col(c).isNull() | \\\n",
        "                            isnan(c), c \n",
        "                           )).alias(c)\n",
        "                    for c in df.columns])\n",
        "df_py1.show(5)"
      ],
      "metadata": {
        "id": "ni3-1dRsd0KY",
        "colab": {
          "base_uri": "https://localhost:8080/"
        },
        "outputId": "c17f65c6-3e22-4ecd-bf88-8de6c7c13424"
      },
      "execution_count": null,
      "outputs": [
        {
          "output_type": "stream",
          "name": "stdout",
          "text": [
            "+-----+----+----+------+---+------+-----+-----+-------+\n",
            "|title|rank|date|artist|url|region|chart|trend|streams|\n",
            "+-----+----+----+------+---+------+-----+-----+-------+\n",
            "|  341|   0|   0|   121|  7|     0|    0|    0|5848001|\n",
            "+-----+----+----+------+---+------+-----+-----+-------+\n",
            "\n"
          ]
        }
      ]
    },
    {
      "cell_type": "code",
      "source": [
        "%%time\n",
        "df_py = df_py.dropna()"
      ],
      "metadata": {
        "id": "_D5UYZbHhj_O",
        "colab": {
          "base_uri": "https://localhost:8080/"
        },
        "outputId": "76c61cbf-f7fb-4a63-aa9d-e3937a6bd4c7"
      },
      "execution_count": null,
      "outputs": [
        {
          "output_type": "stream",
          "name": "stdout",
          "text": [
            "CPU times: user 4.71 ms, sys: 102 µs, total: 4.81 ms\n",
            "Wall time: 49.7 ms\n"
          ]
        }
      ]
    },
    {
      "cell_type": "code",
      "source": [
        "df_py1 = df_py.select([count(when(col(c).contains('None') | \\\n",
        "                            col(c).contains('NULL') | \\\n",
        "                            (col(c) == '' ) | \\\n",
        "                            col(c).isNull() | \\\n",
        "                            isnan(c), c \n",
        "                           )).alias(c)\n",
        "                    for c in df.columns])\n",
        "df_py1.show()"
      ],
      "metadata": {
        "id": "pwv75iufhtX-",
        "colab": {
          "base_uri": "https://localhost:8080/"
        },
        "outputId": "b8ca2ce2-77ce-46fe-c3b0-71b9a59ad97e"
      },
      "execution_count": null,
      "outputs": [
        {
          "output_type": "stream",
          "name": "stdout",
          "text": [
            "+-----+----+----+------+---+------+-----+-----+-------+\n",
            "|title|rank|date|artist|url|region|chart|trend|streams|\n",
            "+-----+----+----+------+---+------+-----+-----+-------+\n",
            "|   69|   0|   0|    66|  0|     0|    0|    0|      0|\n",
            "+-----+----+----+------+---+------+-----+-----+-------+\n",
            "\n"
          ]
        }
      ]
    },
    {
      "cell_type": "markdown",
      "source": [
        "**3. Koalas**"
      ],
      "metadata": {
        "id": "TiUIK56elzkD"
      }
    },
    {
      "cell_type": "code",
      "source": [
        "# Check to see how many null values in dataset\n",
        "df_ks_eda.isnull().sum()"
      ],
      "metadata": {
        "id": "SsNbyBwAl2wi",
        "colab": {
          "base_uri": "https://localhost:8080/"
        },
        "outputId": "f7a83878-37cf-4672-ab43-9b3cb06cf00b"
      },
      "execution_count": null,
      "outputs": [
        {
          "output_type": "execute_result",
          "data": {
            "text/plain": [
              "title            0\n",
              "artist           0\n",
              "region           0\n",
              "trend            0\n",
              "streams    5848001\n",
              "dtype: int64"
            ]
          },
          "metadata": {},
          "execution_count": 102
        }
      ]
    },
    {
      "cell_type": "code",
      "source": [
        "# Column 'stream' is not 100% null values\n",
        "# It also means there are 0 people streaming those songs\n",
        "# SO, we use fillna() function to fill values with 0\n",
        "df_ks_eda.fillna(0).head()"
      ],
      "metadata": {
        "id": "tUasB93tpnbH",
        "colab": {
          "base_uri": "https://localhost:8080/",
          "height": 206
        },
        "outputId": "bd3f325d-1c3d-4aec-a213-bdca55f59e22"
      },
      "execution_count": null,
      "outputs": [
        {
          "output_type": "execute_result",
          "data": {
            "text/plain": [
              "                         title                                 artist     region          trend streams\n",
              "0      Chantaje (feat. Maluma)                                Shakira  Argentina  SAME_POSITION  253019\n",
              "1  Vente Pa' Ca (feat. Maluma)                           Ricky Martin  Argentina        MOVE_UP  223988\n",
              "2   Reggaetón Lento (Bailemos)                                   CNCO  Argentina      MOVE_DOWN  210943\n",
              "3                       Safari  J Balvin, Pharrell Williams, BIA, Sky  Argentina  SAME_POSITION  173865\n",
              "4                  Shaky Shaky                           Daddy Yankee  Argentina        MOVE_UP  153956"
            ],
            "text/html": [
              "<div>\n",
              "<style scoped>\n",
              "    .dataframe tbody tr th:only-of-type {\n",
              "        vertical-align: middle;\n",
              "    }\n",
              "\n",
              "    .dataframe tbody tr th {\n",
              "        vertical-align: top;\n",
              "    }\n",
              "\n",
              "    .dataframe thead th {\n",
              "        text-align: right;\n",
              "    }\n",
              "</style>\n",
              "<table border=\"1\" class=\"dataframe\">\n",
              "  <thead>\n",
              "    <tr style=\"text-align: right;\">\n",
              "      <th></th>\n",
              "      <th>title</th>\n",
              "      <th>artist</th>\n",
              "      <th>region</th>\n",
              "      <th>trend</th>\n",
              "      <th>streams</th>\n",
              "    </tr>\n",
              "  </thead>\n",
              "  <tbody>\n",
              "    <tr>\n",
              "      <th>0</th>\n",
              "      <td>Chantaje (feat. Maluma)</td>\n",
              "      <td>Shakira</td>\n",
              "      <td>Argentina</td>\n",
              "      <td>SAME_POSITION</td>\n",
              "      <td>253019</td>\n",
              "    </tr>\n",
              "    <tr>\n",
              "      <th>1</th>\n",
              "      <td>Vente Pa' Ca (feat. Maluma)</td>\n",
              "      <td>Ricky Martin</td>\n",
              "      <td>Argentina</td>\n",
              "      <td>MOVE_UP</td>\n",
              "      <td>223988</td>\n",
              "    </tr>\n",
              "    <tr>\n",
              "      <th>2</th>\n",
              "      <td>Reggaetón Lento (Bailemos)</td>\n",
              "      <td>CNCO</td>\n",
              "      <td>Argentina</td>\n",
              "      <td>MOVE_DOWN</td>\n",
              "      <td>210943</td>\n",
              "    </tr>\n",
              "    <tr>\n",
              "      <th>3</th>\n",
              "      <td>Safari</td>\n",
              "      <td>J Balvin, Pharrell Williams, BIA, Sky</td>\n",
              "      <td>Argentina</td>\n",
              "      <td>SAME_POSITION</td>\n",
              "      <td>173865</td>\n",
              "    </tr>\n",
              "    <tr>\n",
              "      <th>4</th>\n",
              "      <td>Shaky Shaky</td>\n",
              "      <td>Daddy Yankee</td>\n",
              "      <td>Argentina</td>\n",
              "      <td>MOVE_UP</td>\n",
              "      <td>153956</td>\n",
              "    </tr>\n",
              "  </tbody>\n",
              "</table>\n",
              "</div>"
            ]
          },
          "metadata": {},
          "execution_count": 103
        }
      ]
    },
    {
      "cell_type": "code",
      "source": [
        "# Check again to see how many null values in dataset are still there\n",
        "df_ks_eda.isnull().sum()"
      ],
      "metadata": {
        "colab": {
          "base_uri": "https://localhost:8080/"
        },
        "id": "5fPPfHc_gFzi",
        "outputId": "1757f8e0-d0ae-4bcb-a84f-f0a2f3fb0473"
      },
      "execution_count": null,
      "outputs": [
        {
          "output_type": "execute_result",
          "data": {
            "text/plain": [
              "title            0\n",
              "artist           0\n",
              "region           0\n",
              "trend            0\n",
              "streams    5848001\n",
              "dtype: int64"
            ]
          },
          "metadata": {},
          "execution_count": 73
        }
      ]
    },
    {
      "cell_type": "code",
      "source": [
        "%%time\n",
        "df_ks_eda = df_ks_eda.dropna(how='any') "
      ],
      "metadata": {
        "id": "oLb0G-sSmldz",
        "colab": {
          "base_uri": "https://localhost:8080/"
        },
        "outputId": "af9a1ef8-7b8e-4698-f6a1-501852d08fe5"
      },
      "execution_count": null,
      "outputs": [
        {
          "output_type": "stream",
          "name": "stdout",
          "text": [
            "CPU times: user 79.2 ms, sys: 14.1 ms, total: 93.3 ms\n",
            "Wall time: 575 ms\n"
          ]
        }
      ]
    },
    {
      "cell_type": "markdown",
      "source": [
        "Removing duplicates"
      ],
      "metadata": {
        "id": "Q6USWYucqJsL"
      }
    },
    {
      "cell_type": "markdown",
      "source": [
        "**1. Pandas**"
      ],
      "metadata": {
        "id": "PAdTkRKkqZsg"
      }
    },
    {
      "cell_type": "code",
      "source": [
        "%%time\n",
        "df = df.drop_duplicates()"
      ],
      "metadata": {
        "id": "t2eXqN9TqSav",
        "colab": {
          "base_uri": "https://localhost:8080/"
        },
        "outputId": "3550f62d-b6a7-4014-f584-20a2769c6f89"
      },
      "execution_count": null,
      "outputs": [
        {
          "output_type": "stream",
          "name": "stdout",
          "text": [
            "CPU times: user 38.3 s, sys: 2.41 s, total: 40.7 s\n",
            "Wall time: 41.3 s\n"
          ]
        }
      ]
    },
    {
      "cell_type": "markdown",
      "source": [
        "**2. Pyspark**"
      ],
      "metadata": {
        "id": "qdbZ8LYcrnyv"
      }
    },
    {
      "cell_type": "code",
      "source": [
        "%%time\n",
        "df_py.dropDuplicates()"
      ],
      "metadata": {
        "id": "jHQsya2yrrNo",
        "colab": {
          "base_uri": "https://localhost:8080/"
        },
        "outputId": "64690283-3460-42ce-f205-ded27d128049"
      },
      "execution_count": null,
      "outputs": [
        {
          "output_type": "stream",
          "name": "stdout",
          "text": [
            "CPU times: user 2.33 ms, sys: 0 ns, total: 2.33 ms\n",
            "Wall time: 17.8 ms\n"
          ]
        },
        {
          "output_type": "execute_result",
          "data": {
            "text/plain": [
              "DataFrame[title: string, rank: string, date: string, artist: string, url: string, region: string, chart: string, trend: string, streams: string]"
            ]
          },
          "metadata": {},
          "execution_count": 30
        }
      ]
    },
    {
      "cell_type": "markdown",
      "source": [
        "**3. Koalas**"
      ],
      "metadata": {
        "id": "lWPL5Xfvr643"
      }
    },
    {
      "cell_type": "code",
      "source": [
        "%%time\n",
        "df_ks_eda.drop_duplicates().head(5)"
      ],
      "metadata": {
        "id": "-tGE1CD_r9ZF",
        "colab": {
          "base_uri": "https://localhost:8080/",
          "height": 241
        },
        "outputId": "9d5f5e61-6dea-4dd3-87b6-396dbcb48c86"
      },
      "execution_count": null,
      "outputs": [
        {
          "output_type": "stream",
          "name": "stdout",
          "text": [
            "CPU times: user 70.7 ms, sys: 6.07 ms, total: 76.8 ms\n",
            "Wall time: 354 ms\n"
          ]
        },
        {
          "output_type": "execute_result",
          "data": {
            "text/plain": [
              "        title    artist  region      trend streams\n",
              "61077       !  O.S.T.R.  Poland  MOVE_DOWN   11148\n",
              "22573       !  O.S.T.R.  Poland  MOVE_DOWN   11833\n",
              "2062499     !  O.S.T.R.  Poland  MOVE_DOWN   13001\n",
              "484713      !  O.S.T.R.  Poland  MOVE_DOWN    7757\n",
              "837259      !  O.S.T.R.  Poland  MOVE_DOWN    7786"
            ],
            "text/html": [
              "<div>\n",
              "<style scoped>\n",
              "    .dataframe tbody tr th:only-of-type {\n",
              "        vertical-align: middle;\n",
              "    }\n",
              "\n",
              "    .dataframe tbody tr th {\n",
              "        vertical-align: top;\n",
              "    }\n",
              "\n",
              "    .dataframe thead th {\n",
              "        text-align: right;\n",
              "    }\n",
              "</style>\n",
              "<table border=\"1\" class=\"dataframe\">\n",
              "  <thead>\n",
              "    <tr style=\"text-align: right;\">\n",
              "      <th></th>\n",
              "      <th>title</th>\n",
              "      <th>artist</th>\n",
              "      <th>region</th>\n",
              "      <th>trend</th>\n",
              "      <th>streams</th>\n",
              "    </tr>\n",
              "  </thead>\n",
              "  <tbody>\n",
              "    <tr>\n",
              "      <th>61077</th>\n",
              "      <td>!</td>\n",
              "      <td>O.S.T.R.</td>\n",
              "      <td>Poland</td>\n",
              "      <td>MOVE_DOWN</td>\n",
              "      <td>11148</td>\n",
              "    </tr>\n",
              "    <tr>\n",
              "      <th>22573</th>\n",
              "      <td>!</td>\n",
              "      <td>O.S.T.R.</td>\n",
              "      <td>Poland</td>\n",
              "      <td>MOVE_DOWN</td>\n",
              "      <td>11833</td>\n",
              "    </tr>\n",
              "    <tr>\n",
              "      <th>2062499</th>\n",
              "      <td>!</td>\n",
              "      <td>O.S.T.R.</td>\n",
              "      <td>Poland</td>\n",
              "      <td>MOVE_DOWN</td>\n",
              "      <td>13001</td>\n",
              "    </tr>\n",
              "    <tr>\n",
              "      <th>484713</th>\n",
              "      <td>!</td>\n",
              "      <td>O.S.T.R.</td>\n",
              "      <td>Poland</td>\n",
              "      <td>MOVE_DOWN</td>\n",
              "      <td>7757</td>\n",
              "    </tr>\n",
              "    <tr>\n",
              "      <th>837259</th>\n",
              "      <td>!</td>\n",
              "      <td>O.S.T.R.</td>\n",
              "      <td>Poland</td>\n",
              "      <td>MOVE_DOWN</td>\n",
              "      <td>7786</td>\n",
              "    </tr>\n",
              "  </tbody>\n",
              "</table>\n",
              "</div>"
            ]
          },
          "metadata": {},
          "execution_count": 105
        }
      ]
    },
    {
      "cell_type": "markdown",
      "source": [
        "##Perform exploratory analysis & visualization"
      ],
      "metadata": {
        "id": "wSiAR73qYTvH"
      }
    },
    {
      "cell_type": "markdown",
      "source": [
        "Compute the mean for 'streams' column"
      ],
      "metadata": {
        "id": "Kk8AbzwBcnZM"
      }
    },
    {
      "cell_type": "markdown",
      "source": [
        "**1. Pandas**"
      ],
      "metadata": {
        "id": "zkGkW4-Yousi"
      }
    },
    {
      "cell_type": "code",
      "source": [
        "%time\n",
        "print(\"The median for Rating column is:\",df['streams'].median()), print()\n",
        "%time\n",
        "print(\"The mean for Rating column is:\",round(df['streams'].mean(), 2)), print()\n",
        "%time\n",
        "print(\"The mode for Rating column is:\",df['streams'].mode())"
      ],
      "metadata": {
        "colab": {
          "base_uri": "https://localhost:8080/"
        },
        "id": "g5QQHE_-cziy",
        "outputId": "0e324ae9-0a2c-49cd-9e6d-36e7ea691539"
      },
      "execution_count": null,
      "outputs": [
        {
          "output_type": "stream",
          "name": "stdout",
          "text": [
            "CPU times: user 71 µs, sys: 0 ns, total: 71 µs\n",
            "Wall time: 101 µs\n",
            "The median for Rating column is: 9565.0\n",
            "\n",
            "CPU times: user 5 µs, sys: 1e+03 ns, total: 6 µs\n",
            "Wall time: 10 µs\n",
            "The mean for Rating column is: 55261.33\n",
            "\n",
            "CPU times: user 3 µs, sys: 0 ns, total: 3 µs\n",
            "Wall time: 6.44 µs\n",
            "The mode for Rating column is: 0    1002.0\n",
            "dtype: float64\n"
          ]
        }
      ]
    },
    {
      "cell_type": "markdown",
      "source": [
        "**2. Pyspark**"
      ],
      "metadata": {
        "id": "A-ya_lUVoz7x"
      }
    },
    {
      "cell_type": "code",
      "source": [
        "%%time\n",
        "from pyspark.sql.functions import mean\n",
        "print(df_py.select(mean('streams')).collect())"
      ],
      "metadata": {
        "colab": {
          "base_uri": "https://localhost:8080/"
        },
        "id": "BehPNlbKqJWp",
        "outputId": "867e237b-392c-4fa9-971c-a13834fbbc75"
      },
      "execution_count": null,
      "outputs": [
        {
          "output_type": "stream",
          "name": "stdout",
          "text": [
            "CPU times: user 3 µs, sys: 0 ns, total: 3 µs\n",
            "Wall time: 7.39 µs\n",
            "[Row(avg(streams)=55266.54339716303)]\n"
          ]
        }
      ]
    },
    {
      "cell_type": "markdown",
      "source": [
        "**3. Koalas**"
      ],
      "metadata": {
        "id": "s0e2jl5vKy6d"
      }
    },
    {
      "cell_type": "code",
      "source": [
        "%%time\n",
        "df_ks['streams'].astype(int).mean()"
      ],
      "metadata": {
        "colab": {
          "base_uri": "https://localhost:8080/"
        },
        "id": "EBm35LnaK2Mc",
        "outputId": "298eefa0-3f16-4414-f39d-dcfd18d5f919"
      },
      "execution_count": null,
      "outputs": [
        {
          "output_type": "stream",
          "name": "stdout",
          "text": [
            "CPU times: user 1.67 s, sys: 211 ms, total: 1.88 s\n",
            "Wall time: 2min 46s\n"
          ]
        },
        {
          "output_type": "execute_result",
          "data": {
            "text/plain": [
              "55266.54339716303"
            ]
          },
          "metadata": {},
          "execution_count": 18
        }
      ]
    },
    {
      "cell_type": "markdown",
      "source": [
        "Get the distribution of streams across different region."
      ],
      "metadata": {
        "id": "h63ecF21d2VW"
      }
    },
    {
      "cell_type": "markdown",
      "source": [
        "**1. Pandas**"
      ],
      "metadata": {
        "id": "y4FNsTpztPqx"
      }
    },
    {
      "cell_type": "code",
      "source": [
        "df[\"region\"].value_counts()"
      ],
      "metadata": {
        "colab": {
          "base_uri": "https://localhost:8080/"
        },
        "id": "n9QBSP3ld3Od",
        "outputId": "5025ab3c-4032-448c-9fa9-fc6f3c7ab523"
      },
      "execution_count": null,
      "outputs": [
        {
          "output_type": "execute_result",
          "data": {
            "text/plain": [
              "Brazil           364516\n",
              "Argentina        364385\n",
              "United States    364184\n",
              "Austria          363925\n",
              "Australia        362189\n",
              "                  ...  \n",
              "Russia           100768\n",
              "Ukraine          100766\n",
              "Bulgaria          94842\n",
              "South Korea       59576\n",
              "Luxembourg         8962\n",
              "Name: region, Length: 69, dtype: int64"
            ]
          },
          "metadata": {},
          "execution_count": 10
        }
      ]
    },
    {
      "cell_type": "code",
      "source": [
        "%time\n",
        "df[\"region\"].value_counts().plot(kind='bar',\n",
        "                                       figsize=(20, 8),\n",
        "                                       ylabel=\"Number of Streams\",\n",
        "                                       title=\"Steams Distribution\",\n",
        "                                      );"
      ],
      "metadata": {
        "colab": {
          "base_uri": "https://localhost:8080/",
          "height": 616
        },
        "id": "mKuH-AVJfDxf",
        "outputId": "3864e949-4f6e-471f-e0a1-ad30b3a687a9"
      },
      "execution_count": null,
      "outputs": [
        {
          "output_type": "stream",
          "name": "stdout",
          "text": [
            "CPU times: user 3 µs, sys: 0 ns, total: 3 µs\n",
            "Wall time: 5.96 µs\n"
          ]
        },
        {
          "output_type": "display_data",
          "data": {
            "text/plain": [
              "<Figure size 1440x576 with 1 Axes>"
            ],
            "image/png": "[encoded data removed]"
          },
          "metadata": {
            "needs_background": "light"
          }
        }
      ]
    },
    {
      "cell_type": "markdown",
      "source": [
        "**2. Pyspark**"
      ],
      "metadata": {
        "id": "TovPx2vxQRJk"
      }
    },
    {
      "cell_type": "code",
      "source": [
        "%time\n",
        "from pyspark.sql.functions import count\n",
        "\n",
        "stream_count = df_py.groupby('region').agg(count('*').alias('count_streams'))\n",
        "stream_count.show()"
      ],
      "metadata": {
        "colab": {
          "base_uri": "https://localhost:8080/"
        },
        "id": "fsWk97Y8vWS4",
        "outputId": "3e480e23-7894-4121-9a15-532c7a78f3e2"
      },
      "execution_count": null,
      "outputs": [
        {
          "output_type": "stream",
          "name": "stdout",
          "text": [
            "CPU times: user 4 µs, sys: 0 ns, total: 4 µs\n",
            "Wall time: 8.11 µs\n",
            "+--------------------+-------------+\n",
            "|              region|count_streams|\n",
            "+--------------------+-------------+\n",
            "|            Paraguay|       336666|\n",
            "|              Sweden|       358384|\n",
            "|         Philippines|       358390|\n",
            "|            Malaysia|       358390|\n",
            "|           Singapore|       358388|\n",
            "|              Turkey|       358190|\n",
            "|             Germany|       357115|\n",
            "|              France|       358389|\n",
            "|              Greece|       281450|\n",
            "|https://open.spot...|           24|\n",
            "|              Taiwan|       358187|\n",
            "|            Slovakia|       267599|\n",
            "|           Argentina|       364326|\n",
            "|             Belgium|       358380|\n",
            "|             Ecuador|       358357|\n",
            "|https://open.spot...|           93|\n",
            "|             Finland|       358182|\n",
            "|          Liro Shaq\"|          438|\n",
            "|           Nicaragua|       109980|\n",
            "|                Peru|       358137|\n",
            "+--------------------+-------------+\n",
            "only showing top 20 rows\n",
            "\n"
          ]
        }
      ]
    },
    {
      "cell_type": "markdown",
      "source": [
        "**3. Koalas**"
      ],
      "metadata": {
        "id": "TVqq-RvlMh6k"
      }
    },
    {
      "cell_type": "code",
      "source": [
        "%%time\n",
        "df_ks_eda.groupby('region').agg({'streams':'sum'})"
      ],
      "metadata": {
        "colab": {
          "base_uri": "https://localhost:8080/",
          "height": 1000
        },
        "id": "ttQzDuOZMgqd",
        "outputId": "1561706d-a619-4022-89d3-78606c82c6a3"
      },
      "execution_count": null,
      "outputs": [
        {
          "output_type": "stream",
          "name": "stdout",
          "text": [
            "CPU times: user 18.4 ms, sys: 4.05 ms, total: 22.5 ms\n",
            "Wall time: 112 ms\n"
          ]
        },
        {
          "output_type": "execute_result",
          "data": {
            "text/plain": [
              "                                                                                streams\n",
              "region                                                                                 \n",
              "Paraguay                                                                   2.118856e+09\n",
              "Sweden                                                                     1.476023e+10\n",
              "Philippines                                                                1.878597e+10\n",
              "Malaysia                                                                   3.993399e+09\n",
              "Singapore                                                                  3.956236e+09\n",
              "Turkey                                                                     1.262745e+10\n",
              "Germany                                                                    3.993069e+10\n",
              "France                                                                     2.386982e+10\n",
              "Greece                                                                     1.261763e+09\n",
              "https://open.spotify.com/track/0eKnAWw6WchK2M7uZFDYKp                               NaN\n",
              "Taiwan                                                                     3.292367e+09\n",
              "Slovakia                                                                   6.480705e+08\n",
              "Argentina                                                                  1.953195e+10\n",
              "Belgium                                                                    3.883086e+09\n",
              "Ecuador                                                                    2.684154e+09\n",
              "https://open.spotify.com/track/72FJjSdfMCXiVcZTgR3Q6G                               NaN\n",
              "Finland                                                                    5.042494e+09\n",
              " Liro Shaq\"                                                                         NaN\n",
              "Nicaragua                                                                  2.272136e+08\n",
              "Peru                                                                       7.886222e+09\n",
              "Global                                                                     4.392865e+11\n",
              "United States                                                              1.421188e+11\n",
              "India                                                                      9.548678e+09\n",
              "https://open.spotify.com/track/2xVORRKytYPgrrKza5Jtcd                               NaN\n",
              "Chile                                                                      1.719353e+10\n",
              "Bolivia                                                                    1.170959e+09\n",
              "Italy                                                                      2.559102e+10\n",
              "Lithuania                                                                  2.965116e+08\n",
              "Norway                                                                     8.681797e+09\n",
              "Spain                                                                      2.705211e+10\n",
              "https://open.spotify.com/track/1VRjHqcE8ttKtaj8bTaJyS                               NaN\n",
              "Denmark                                                                    6.740740e+09\n",
              "Ireland                                                                    3.992680e+09\n",
              "https://open.spotify.com/track/3DyiAk1BzIF8rq9rimypG4                               NaN\n",
              "Thailand                                                                   3.269296e+09\n",
              "Morocco                                                                    4.164469e+08\n",
              "Panama                                                                     1.098536e+09\n",
              "Hong Kong                                                                  1.685991e+09\n",
              "Iceland                                                                    4.455491e+08\n",
              "Israel                                                                     1.230534e+09\n",
              " Luigi 21 Plus                                                                      NaN\n",
              "Uruguay                                                                    1.322830e+09\n",
              "Mexico                                                                     4.559523e+10\n",
              "Estonia                                                                    1.934270e+08\n",
              "Indonesia                                                                  1.580678e+10\n",
              "Guatemala                                                                  2.033136e+09\n",
              "Honduras                                                                   7.745457e+08\n",
              " 2nyce                                                                              NaN\n",
              "Saudi Arabia                                                               5.694301e+08\n",
              "Switzerland                                                                3.400002e+09\n",
              "https://open.spotify.com/track/74ctCiq1T0Lm0HUt5YhZjg                               NaN\n",
              "Latvia                                                                     2.610100e+08\n",
              "United Arab Emirates                                                       3.050022e+08\n",
              "Canada                                                                     1.932538e+10\n",
              "Czech Republic                                                             1.795640e+09\n",
              "Brazil                                                                     5.586668e+10\n",
              "Dominican Republic                                                         1.151696e+09\n",
              "Japan                                                                      9.777390e+09\n",
              "https://open.spotify.com/track/06vLMHuc5ak4M8WrJ4e9Ei                               NaN\n",
              "Luxembourg                                                                 1.486445e+07\n",
              "New Zealand                                                                4.090965e+09\n",
              "Poland                                                                     8.839128e+09\n",
              "Portugal                                                                   2.815847e+09\n",
              "Australia                                                                  2.012782e+10\n",
              "Romania                                                                    7.462859e+08\n",
              "Bulgaria                                                                   1.619631e+08\n",
              "Austria                                                                    2.702692e+09\n",
              "Costa Rica                                                                 2.136388e+09\n",
              "El Salvador                                                                9.672939e+08\n",
              "Egypt                                                                      3.157480e+08\n",
              "https://open.spotify.com/track/0dZsHzJqJX2NQTm8Xucrr3                               NaN\n",
              "South Africa                                                               7.950673e+08\n",
              "Colombia                                                                   6.046709e+09\n",
              "Hungary                                                                    1.319015e+09\n",
              "https://open.spotify.com/track/5buC1VFP7FSaB0YokvP0EJ                               NaN\n",
              " Fuego\"                                                                             NaN\n",
              "Vishal Dadlani, Shekhar Ravjiani, Vishal-Shekhar                                    NaN\n",
              "United Kingdom                                                             3.640659e+10\n",
              "Vietnam                                                                    1.387636e+09\n",
              "Netherlands                                                                1.882089e+10\n",
              " Osquel\"                                                                            NaN\n",
              " Ines\"                                                                              NaN\n",
              "https://open.spotify.com/track/5hSAMX0YTjCOeGrZcN1za2                               NaN\n",
              " El Alfa\"                                                                           NaN\n",
              " Nino Freestyle\"                                                                    NaN\n",
              " La Manta\"                                                                          NaN\n",
              "https://open.spotify.com/track/5psDugCQ2V8uayDeSuTvdD                               NaN\n",
              " El Pecho\"                                                                          NaN\n",
              "https://open.spotify.com/track/1PpDb6Yvz49PEz2V1bYgDf                               NaN\n",
              "https://open.spotify.com/track/614NVFo5csQqRnryl4jXs2                               NaN\n",
              "https://open.spotify.com/track/2npQbyWMCXx10S1ebDFCD1                               NaN\n",
              "https://open.spotify.com/track/1y58LPl8eL97CwFzlGeJo8                               NaN\n",
              "https://open.spotify.com/track/0xxZY5C9xxij3D1HkzbnfC                               NaN\n",
              "https://open.spotify.com/track/55djX7EPx5SNMlRJiZeb7N                               NaN\n",
              "https://open.spotify.com/track/0h94GnP9odhbOs6ph1UBqd                               NaN\n",
              " Villaman                                                                           NaN\n",
              "https://open.spotify.com/track/499rs8fMaltXk2BOlq9P0m                               NaN\n",
              "https://open.spotify.com/track/1bqypXWn45G1mCgJUFy8Km                               NaN\n",
              "https://open.spotify.com/track/0efgwb66083LCAI2OQb1C6                               NaN\n",
              "https://open.spotify.com/track/6HX5qNv8VDWdm9YaYZKImS                               NaN\n",
              " Musicologo The Libro\"                                                              NaN\n",
              " Ana Bárbara                                                                        NaN\n",
              "https://open.spotify.com/track/3g8bLZAOEtgAe5gfX6LvVk                               NaN\n",
              " Oshik Levi\"                                                                        NaN\n",
              "Eminem                                                                              NaN\n",
              "2017-11-01                                                                          NaN\n",
              "https://open.spotify.com/track/07opQ0KAzpPlUdUL3VuC9E                               NaN\n",
              " Jonas Karlsson\"                                                                    NaN\n",
              "https://open.spotify.com/track/7pRqu4BtukKJN9nVUFyA0v                               NaN\n",
              "https://open.spotify.com/track/6ZDs4bsbS36R5IDXgf0nFe                               NaN\n",
              "https://open.spotify.com/track/2SuuioSK8HAzWSneSXpvA7                               NaN\n",
              "https://open.spotify.com/track/1Ku3fNFmZicREvkdOLvxqS                               NaN\n",
              "https://open.spotify.com/track/1S4y5ljbxHWf1vRXlRidg3                               NaN\n",
              "https://open.spotify.com/track/6oklNuDesCz9yjI2mZdv4B                               NaN\n",
              "https://open.spotify.com/track/1jE8bK1Mc4nq1ckVeWf1N6                               NaN\n",
              " Washignton Alvez                                                                   NaN\n",
              "https://open.spotify.com/track/7uyLkwRKSSau90viy6wBqy                               NaN\n",
              "https://open.spotify.com/track/3rp5EbCFuspx8IsmrERE4W                               NaN\n",
              "https://open.spotify.com/track/4Z3VIu0oYzM45D1e0BlnTE                               NaN\n",
              "https://open.spotify.com/track/6mzs6XTIfxhFMOcy59Upje                               NaN\n",
              "https://open.spotify.com/track/3wDAj0rwapSLmx7ftyaqkb                               NaN\n",
              "https://open.spotify.com/track/4oAH0son1HaCEIdXhHOaZs                               NaN\n",
              "https://open.spotify.com/track/27eu98qFax0QwIUZHZCJU5                               NaN\n",
              "Johann Sebastian Bach, Ton Koopman, Boys Choir Of Sacraments-Church Breda           NaN\n",
              "https://open.spotify.com/track/0Z64YwiaKyd9RCGmhb9tTJ                               NaN\n",
              "https://open.spotify.com/track/2r1FiNXh5mDNEP8K07YRVp                               NaN\n",
              "https://open.spotify.com/track/1yBGUG74gnxDT5ZvLDDC66                               NaN\n",
              "https://open.spotify.com/track/2icki4ANNBeqsIHZIQjRCz                               NaN\n",
              "https://open.spotify.com/track/0zTQo6wgZ38UbDzyeYfAxm                               NaN\n",
              "https://open.spotify.com/track/0H2VhGUC3P3hvwz8rdGIpC                               NaN\n",
              "https://open.spotify.com/track/48Uv1IplxtrA3UOp7KolVu                               NaN\n",
              "https://open.spotify.com/track/2UPgcSrVfq09ySdz2f8IIt                               NaN\n",
              "https://open.spotify.com/track/6ykKh7dMpvIaDZI9JoObXI                               NaN\n",
              "https://open.spotify.com/track/3EvWSvhEBXHNpi9xanbJn1                               NaN\n",
              "https://open.spotify.com/track/2bp9dlyzNPVdTV4qfFkDFP                               NaN\n",
              "Russia                                                                     2.126223e+09\n",
              "https://open.spotify.com/track/2kY2ROHIGdp3aA6ahqaUKm                               NaN\n",
              "https://open.spotify.com/track/59y2JOeIfn6qnI5B6OkhlF                               NaN\n",
              " Toxic Crow                                                                         NaN\n",
              "https://open.spotify.com/track/4eXVTe9akt6No4PEuI7b10                               NaN\n",
              "https://open.spotify.com/track/5y63Qnr10DFAqC6ZMzOkF4                               NaN\n",
              "https://open.spotify.com/track/03bwIusXcO2bQ2PX9TXqNx                               NaN\n",
              "Ukraine                                                                    4.366766e+08\n",
              "South Korea                                                                1.600647e+08\n",
              "https://open.spotify.com/track/3lSjcTblaKRbx4aHWXMWCH                               NaN\n",
              "https://open.spotify.com/track/0xP2fn9XMV59jdK3sw8jKk                               NaN\n",
              "Johann Sebastian Bach, Collegium Vocale Gent, Philippe Herreweghe                   NaN\n",
              "https://open.spotify.com/track/7jYluIOrDBrC7hHIVGQM7d                               NaN\n",
              " Wisin\"                                                                             NaN\n",
              "https://open.spotify.com/track/6uz932UMBRIqyByQXEf7AE                               NaN\n",
              "https://open.spotify.com/track/2kVxduvzLlmpoxxWsZAstk                               NaN\n",
              " Zion & Lennox                                                                      NaN\n",
              " El BAI                                                                             NaN\n",
              " De La Ghetto\"                                                                      NaN\n",
              "https://open.spotify.com/track/6Zt5p8qcOO5NW0udr3t2Tm                               NaN\n",
              " Tomas Augulis\"                                                                     NaN\n",
              " Paulus Music\"                                                                      NaN\n",
              "https://open.spotify.com/track/5R4aROQMMRCnY4cQ7fDWoH                               NaN\n",
              "https://open.spotify.com/track/6WJ2g9aZzlh75OMOCu3lp6                               NaN\n",
              "https://open.spotify.com/track/01GB70JzmoVuwIUU8hvGOM                               NaN\n",
              "https://open.spotify.com/track/0P3w8D7NAJb5xYvSQBpHq9                               NaN\n",
              " 5 & a Half\"\"\"                                                                      NaN\n",
              "https://open.spotify.com/track/2BsToSb9Kn01TUIW7zKIo0                               NaN\n",
              "https://open.spotify.com/track/2vZKdX1f9nzZoYFysd4iap                               NaN\n",
              "https://open.spotify.com/track/500HSQBjUOuQBcU212N5pt                               NaN\n",
              "https://open.spotify.com/track/7gqhW4hpDWe2vNvkO99Zl0                               NaN\n",
              "https://open.spotify.com/track/2dOaby2Vsl50srYaV8Gsog                               NaN\n",
              "https://open.spotify.com/track/0TlMpuc0dhTgKAzuoB7FaA                               NaN\n",
              " Yardena Arazi\"                                                                     NaN\n",
              "https://open.spotify.com/track/7Jup5N4vO82Ugm0cTtk5uz                               NaN\n",
              "https://open.spotify.com/track/2iHr1co9ElgzHredwMNKOy                               NaN\n",
              "https://open.spotify.com/track/2SmOuiSWgy7fzDRVsHop7N                               NaN\n",
              "https://open.spotify.com/track/17O74a5yPcSzacIQz38Alg                               NaN\n",
              "https://open.spotify.com/track/5QwWU85xGka6yWMp3oWhlK                               NaN\n",
              "https://open.spotify.com/track/3DNRdudZ2SstnDCVKFdXxG                               NaN\n",
              " Quimico Ultra Mega                                                                 NaN\n",
              "https://open.spotify.com/track/0aPMyfh81a0MqeQEKgcZyD                               NaN\n",
              "https://open.spotify.com/track/7gx31fxScFDZ8yct1m5EG1                               NaN\n",
              "https://open.spotify.com/track/70l3uMgEzmTdENi0jOjff8                               NaN\n",
              "https://open.spotify.com/track/0gLG6Bwfse8KxydNwWgq3t                               NaN\n",
              "https://open.spotify.com/track/69HtXgvDkXQd6QeFTdClAJ                               NaN\n",
              "https://open.spotify.com/track/5QhOn1BUflYGZnbWpSl0IO                               NaN\n",
              "https://open.spotify.com/track/6JNHdUEMA2X2LbubU5IUKR                               NaN\n",
              "https://open.spotify.com/track/18wydTTj4UeMJvNrmacxPH                               NaN\n",
              "https://open.spotify.com/track/0WRkuI0kFwUKPTPqVK3Eri                               NaN\n",
              "https://open.spotify.com/track/47sx1KBjTVU20yWfvyDLgE                               NaN\n",
              "https://open.spotify.com/track/7bG1X55JjekNsFaX4Q4GR3                               NaN\n",
              "https://open.spotify.com/track/7qRzXkKK18D83FseIgsjjN                               NaN\n",
              " Shelley FKA DRAM                                                                   NaN\n",
              "https://open.spotify.com/track/1DCUxn2zUV6HBq89iWGSdk                               NaN\n",
              "https://open.spotify.com/track/6rMmikqMjiI1GRBsYNu39q                               NaN\n",
              "https://open.spotify.com/track/06xNYgXm8JHuaGKgvDJx1P                               NaN\n",
              "https://open.spotify.com/track/1SeI3VeE7yEwfYYbannzlk                               NaN\n",
              "https://open.spotify.com/track/2S86EYDRSpL5lWZOLRoz7x                               NaN\n",
              "https://open.spotify.com/track/7yNZNz5AslLutGcbA8bBxp                               NaN\n",
              "https://open.spotify.com/track/5wlqpBKmqRTh05z5uyl1Z2                               NaN\n",
              "https://open.spotify.com/track/55MIRLbZzpYSmMlRt9ZDWM                               NaN\n",
              "https://open.spotify.com/track/09tSyS9UM1YqakklSEwVUE                               NaN\n",
              "https://open.spotify.com/track/4nN3sSVDpCqf3TW4tpDBAS                               NaN\n",
              "https://open.spotify.com/track/4hmmkDXYEg5aTLz9Wd6V0e                               NaN\n",
              "https://open.spotify.com/track/524T2iIvtNh6DTfsuKYh1T                               NaN\n",
              "https://open.spotify.com/track/4gcY464quTJkbdhSyCPsuN                               NaN\n",
              "https://open.spotify.com/track/7olSysV8LDJ4OPV8x0scqg                               NaN\n",
              "https://open.spotify.com/track/5xnBbIBiFLNq3gvgDYNNWP                               NaN\n",
              "https://open.spotify.com/track/3UZVQUtHYscYUa5K5xs2gT                               NaN\n",
              "https://open.spotify.com/track/2eM6rWu3STYZ5jWktu6caT                               NaN\n",
              "https://open.spotify.com/track/7iRjMrb8LbLLElfM8qR50z                               NaN"
            ],
            "text/html": [
              "<div>\n",
              "<style scoped>\n",
              "    .dataframe tbody tr th:only-of-type {\n",
              "        vertical-align: middle;\n",
              "    }\n",
              "\n",
              "    .dataframe tbody tr th {\n",
              "        vertical-align: top;\n",
              "    }\n",
              "\n",
              "    .dataframe thead th {\n",
              "        text-align: right;\n",
              "    }\n",
              "</style>\n",
              "<table border=\"1\" class=\"dataframe\">\n",
              "  <thead>\n",
              "    <tr style=\"text-align: right;\">\n",
              "      <th></th>\n",
              "      <th>streams</th>\n",
              "    </tr>\n",
              "    <tr>\n",
              "      <th>region</th>\n",
              "      <th></th>\n",
              "    </tr>\n",
              "  </thead>\n",
              "  <tbody>\n",
              "    <tr>\n",
              "      <th>Paraguay</th>\n",
              "      <td>2.118856e+09</td>\n",
              "    </tr>\n",
              "    <tr>\n",
              "      <th>Sweden</th>\n",
              "      <td>1.476023e+10</td>\n",
              "    </tr>\n",
              "    <tr>\n",
              "      <th>Philippines</th>\n",
              "      <td>1.878597e+10</td>\n",
              "    </tr>\n",
              "    <tr>\n",
              "      <th>Malaysia</th>\n",
              "      <td>3.993399e+09</td>\n",
              "    </tr>\n",
              "    <tr>\n",
              "      <th>Singapore</th>\n",
              "      <td>3.956236e+09</td>\n",
              "    </tr>\n",
              "    <tr>\n",
              "      <th>Turkey</th>\n",
              "      <td>1.262745e+10</td>\n",
              "    </tr>\n",
              "    <tr>\n",
              "      <th>Germany</th>\n",
              "      <td>3.993069e+10</td>\n",
              "    </tr>\n",
              "    <tr>\n",
              "      <th>France</th>\n",
              "      <td>2.386982e+10</td>\n",
              "    </tr>\n",
              "    <tr>\n",
              "      <th>Greece</th>\n",
              "      <td>1.261763e+09</td>\n",
              "    </tr>\n",
              "    <tr>\n",
              "      <th>https://open.spotify.com/track/0eKnAWw6WchK2M7uZFDYKp</th>\n",
              "      <td>NaN</td>\n",
              "    </tr>\n",
              "    <tr>\n",
              "      <th>Taiwan</th>\n",
              "      <td>3.292367e+09</td>\n",
              "    </tr>\n",
              "    <tr>\n",
              "      <th>Slovakia</th>\n",
              "      <td>6.480705e+08</td>\n",
              "    </tr>\n",
              "    <tr>\n",
              "      <th>Argentina</th>\n",
              "      <td>1.953195e+10</td>\n",
              "    </tr>\n",
              "    <tr>\n",
              "      <th>Belgium</th>\n",
              "      <td>3.883086e+09</td>\n",
              "    </tr>\n",
              "    <tr>\n",
              "      <th>Ecuador</th>\n",
              "      <td>2.684154e+09</td>\n",
              "    </tr>\n",
              "    <tr>\n",
              "      <th>https://open.spotify.com/track/72FJjSdfMCXiVcZTgR3Q6G</th>\n",
              "      <td>NaN</td>\n",
              "    </tr>\n",
              "    <tr>\n",
              "      <th>Finland</th>\n",
              "      <td>5.042494e+09</td>\n",
              "    </tr>\n",
              "    <tr>\n",
              "      <th>Liro Shaq\"</th>\n",
              "      <td>NaN</td>\n",
              "    </tr>\n",
              "    <tr>\n",
              "      <th>Nicaragua</th>\n",
              "      <td>2.272136e+08</td>\n",
              "    </tr>\n",
              "    <tr>\n",
              "      <th>Peru</th>\n",
              "      <td>7.886222e+09</td>\n",
              "    </tr>\n",
              "    <tr>\n",
              "      <th>Global</th>\n",
              "      <td>4.392865e+11</td>\n",
              "    </tr>\n",
              "    <tr>\n",
              "      <th>United States</th>\n",
              "      <td>1.421188e+11</td>\n",
              "    </tr>\n",
              "    <tr>\n",
              "      <th>India</th>\n",
              "      <td>9.548678e+09</td>\n",
              "    </tr>\n",
              "    <tr>\n",
              "      <th>https://open.spotify.com/track/2xVORRKytYPgrrKza5Jtcd</th>\n",
              "      <td>NaN</td>\n",
              "    </tr>\n",
              "    <tr>\n",
              "      <th>Chile</th>\n",
              "      <td>1.719353e+10</td>\n",
              "    </tr>\n",
              "    <tr>\n",
              "      <th>Bolivia</th>\n",
              "      <td>1.170959e+09</td>\n",
              "    </tr>\n",
              "    <tr>\n",
              "      <th>Italy</th>\n",
              "      <td>2.559102e+10</td>\n",
              "    </tr>\n",
              "    <tr>\n",
              "      <th>Lithuania</th>\n",
              "      <td>2.965116e+08</td>\n",
              "    </tr>\n",
              "    <tr>\n",
              "      <th>Norway</th>\n",
              "      <td>8.681797e+09</td>\n",
              "    </tr>\n",
              "    <tr>\n",
              "      <th>Spain</th>\n",
              "      <td>2.705211e+10</td>\n",
              "    </tr>\n",
              "    <tr>\n",
              "      <th>https://open.spotify.com/track/1VRjHqcE8ttKtaj8bTaJyS</th>\n",
              "      <td>NaN</td>\n",
              "    </tr>\n",
              "    <tr>\n",
              "      <th>Denmark</th>\n",
              "      <td>6.740740e+09</td>\n",
              "    </tr>\n",
              "    <tr>\n",
              "      <th>Ireland</th>\n",
              "      <td>3.992680e+09</td>\n",
              "    </tr>\n",
              "    <tr>\n",
              "      <th>https://open.spotify.com/track/3DyiAk1BzIF8rq9rimypG4</th>\n",
              "      <td>NaN</td>\n",
              "    </tr>\n",
              "    <tr>\n",
              "      <th>Thailand</th>\n",
              "      <td>3.269296e+09</td>\n",
              "    </tr>\n",
              "    <tr>\n",
              "      <th>Morocco</th>\n",
              "      <td>4.164469e+08</td>\n",
              "    </tr>\n",
              "    <tr>\n",
              "      <th>Panama</th>\n",
              "      <td>1.098536e+09</td>\n",
              "    </tr>\n",
              "    <tr>\n",
              "      <th>Hong Kong</th>\n",
              "      <td>1.685991e+09</td>\n",
              "    </tr>\n",
              "    <tr>\n",
              "      <th>Iceland</th>\n",
              "      <td>4.455491e+08</td>\n",
              "    </tr>\n",
              "    <tr>\n",
              "      <th>Israel</th>\n",
              "      <td>1.230534e+09</td>\n",
              "    </tr>\n",
              "    <tr>\n",
              "      <th>Luigi 21 Plus</th>\n",
              "      <td>NaN</td>\n",
              "    </tr>\n",
              "    <tr>\n",
              "      <th>Uruguay</th>\n",
              "      <td>1.322830e+09</td>\n",
              "    </tr>\n",
              "    <tr>\n",
              "      <th>Mexico</th>\n",
              "      <td>4.559523e+10</td>\n",
              "    </tr>\n",
              "    <tr>\n",
              "      <th>Estonia</th>\n",
              "      <td>1.934270e+08</td>\n",
              "    </tr>\n",
              "    <tr>\n",
              "      <th>Indonesia</th>\n",
              "      <td>1.580678e+10</td>\n",
              "    </tr>\n",
              "    <tr>\n",
              "      <th>Guatemala</th>\n",
              "      <td>2.033136e+09</td>\n",
              "    </tr>\n",
              "    <tr>\n",
              "      <th>Honduras</th>\n",
              "      <td>7.745457e+08</td>\n",
              "    </tr>\n",
              "    <tr>\n",
              "      <th>2nyce</th>\n",
              "      <td>NaN</td>\n",
              "    </tr>\n",
              "    <tr>\n",
              "      <th>Saudi Arabia</th>\n",
              "      <td>5.694301e+08</td>\n",
              "    </tr>\n",
              "    <tr>\n",
              "      <th>Switzerland</th>\n",
              "      <td>3.400002e+09</td>\n",
              "    </tr>\n",
              "    <tr>\n",
              "      <th>https://open.spotify.com/track/74ctCiq1T0Lm0HUt5YhZjg</th>\n",
              "      <td>NaN</td>\n",
              "    </tr>\n",
              "    <tr>\n",
              "      <th>Latvia</th>\n",
              "      <td>2.610100e+08</td>\n",
              "    </tr>\n",
              "    <tr>\n",
              "      <th>United Arab Emirates</th>\n",
              "      <td>3.050022e+08</td>\n",
              "    </tr>\n",
              "    <tr>\n",
              "      <th>Canada</th>\n",
              "      <td>1.932538e+10</td>\n",
              "    </tr>\n",
              "    <tr>\n",
              "      <th>Czech Republic</th>\n",
              "      <td>1.795640e+09</td>\n",
              "    </tr>\n",
              "    <tr>\n",
              "      <th>Brazil</th>\n",
              "      <td>5.586668e+10</td>\n",
              "    </tr>\n",
              "    <tr>\n",
              "      <th>Dominican Republic</th>\n",
              "      <td>1.151696e+09</td>\n",
              "    </tr>\n",
              "    <tr>\n",
              "      <th>Japan</th>\n",
              "      <td>9.777390e+09</td>\n",
              "    </tr>\n",
              "    <tr>\n",
              "      <th>https://open.spotify.com/track/06vLMHuc5ak4M8WrJ4e9Ei</th>\n",
              "      <td>NaN</td>\n",
              "    </tr>\n",
              "    <tr>\n",
              "      <th>Luxembourg</th>\n",
              "      <td>1.486445e+07</td>\n",
              "    </tr>\n",
              "    <tr>\n",
              "      <th>New Zealand</th>\n",
              "      <td>4.090965e+09</td>\n",
              "    </tr>\n",
              "    <tr>\n",
              "      <th>Poland</th>\n",
              "      <td>8.839128e+09</td>\n",
              "    </tr>\n",
              "    <tr>\n",
              "      <th>Portugal</th>\n",
              "      <td>2.815847e+09</td>\n",
              "    </tr>\n",
              "    <tr>\n",
              "      <th>Australia</th>\n",
              "      <td>2.012782e+10</td>\n",
              "    </tr>\n",
              "    <tr>\n",
              "      <th>Romania</th>\n",
              "      <td>7.462859e+08</td>\n",
              "    </tr>\n",
              "    <tr>\n",
              "      <th>Bulgaria</th>\n",
              "      <td>1.619631e+08</td>\n",
              "    </tr>\n",
              "    <tr>\n",
              "      <th>Austria</th>\n",
              "      <td>2.702692e+09</td>\n",
              "    </tr>\n",
              "    <tr>\n",
              "      <th>Costa Rica</th>\n",
              "      <td>2.136388e+09</td>\n",
              "    </tr>\n",
              "    <tr>\n",
              "      <th>El Salvador</th>\n",
              "      <td>9.672939e+08</td>\n",
              "    </tr>\n",
              "    <tr>\n",
              "      <th>Egypt</th>\n",
              "      <td>3.157480e+08</td>\n",
              "    </tr>\n",
              "    <tr>\n",
              "      <th>https://open.spotify.com/track/0dZsHzJqJX2NQTm8Xucrr3</th>\n",
              "      <td>NaN</td>\n",
              "    </tr>\n",
              "    <tr>\n",
              "      <th>South Africa</th>\n",
              "      <td>7.950673e+08</td>\n",
              "    </tr>\n",
              "    <tr>\n",
              "      <th>Colombia</th>\n",
              "      <td>6.046709e+09</td>\n",
              "    </tr>\n",
              "    <tr>\n",
              "      <th>Hungary</th>\n",
              "      <td>1.319015e+09</td>\n",
              "    </tr>\n",
              "    <tr>\n",
              "      <th>https://open.spotify.com/track/5buC1VFP7FSaB0YokvP0EJ</th>\n",
              "      <td>NaN</td>\n",
              "    </tr>\n",
              "    <tr>\n",
              "      <th>Fuego\"</th>\n",
              "      <td>NaN</td>\n",
              "    </tr>\n",
              "    <tr>\n",
              "      <th>Vishal Dadlani, Shekhar Ravjiani, Vishal-Shekhar</th>\n",
              "      <td>NaN</td>\n",
              "    </tr>\n",
              "    <tr>\n",
              "      <th>United Kingdom</th>\n",
              "      <td>3.640659e+10</td>\n",
              "    </tr>\n",
              "    <tr>\n",
              "      <th>Vietnam</th>\n",
              "      <td>1.387636e+09</td>\n",
              "    </tr>\n",
              "    <tr>\n",
              "      <th>Netherlands</th>\n",
              "      <td>1.882089e+10</td>\n",
              "    </tr>\n",
              "    <tr>\n",
              "      <th>Osquel\"</th>\n",
              "      <td>NaN</td>\n",
              "    </tr>\n",
              "    <tr>\n",
              "      <th>Ines\"</th>\n",
              "      <td>NaN</td>\n",
              "    </tr>\n",
              "    <tr>\n",
              "      <th>https://open.spotify.com/track/5hSAMX0YTjCOeGrZcN1za2</th>\n",
              "      <td>NaN</td>\n",
              "    </tr>\n",
              "    <tr>\n",
              "      <th>El Alfa\"</th>\n",
              "      <td>NaN</td>\n",
              "    </tr>\n",
              "    <tr>\n",
              "      <th>Nino Freestyle\"</th>\n",
              "      <td>NaN</td>\n",
              "    </tr>\n",
              "    <tr>\n",
              "      <th>La Manta\"</th>\n",
              "      <td>NaN</td>\n",
              "    </tr>\n",
              "    <tr>\n",
              "      <th>https://open.spotify.com/track/5psDugCQ2V8uayDeSuTvdD</th>\n",
              "      <td>NaN</td>\n",
              "    </tr>\n",
              "    <tr>\n",
              "      <th>El Pecho\"</th>\n",
              "      <td>NaN</td>\n",
              "    </tr>\n",
              "    <tr>\n",
              "      <th>https://open.spotify.com/track/1PpDb6Yvz49PEz2V1bYgDf</th>\n",
              "      <td>NaN</td>\n",
              "    </tr>\n",
              "    <tr>\n",
              "      <th>https://open.spotify.com/track/614NVFo5csQqRnryl4jXs2</th>\n",
              "      <td>NaN</td>\n",
              "    </tr>\n",
              "    <tr>\n",
              "      <th>https://open.spotify.com/track/2npQbyWMCXx10S1ebDFCD1</th>\n",
              "      <td>NaN</td>\n",
              "    </tr>\n",
              "    <tr>\n",
              "      <th>https://open.spotify.com/track/1y58LPl8eL97CwFzlGeJo8</th>\n",
              "      <td>NaN</td>\n",
              "    </tr>\n",
              "    <tr>\n",
              "      <th>https://open.spotify.com/track/0xxZY5C9xxij3D1HkzbnfC</th>\n",
              "      <td>NaN</td>\n",
              "    </tr>\n",
              "    <tr>\n",
              "      <th>https://open.spotify.com/track/55djX7EPx5SNMlRJiZeb7N</th>\n",
              "      <td>NaN</td>\n",
              "    </tr>\n",
              "    <tr>\n",
              "      <th>https://open.spotify.com/track/0h94GnP9odhbOs6ph1UBqd</th>\n",
              "      <td>NaN</td>\n",
              "    </tr>\n",
              "    <tr>\n",
              "      <th>Villaman</th>\n",
              "      <td>NaN</td>\n",
              "    </tr>\n",
              "    <tr>\n",
              "      <th>https://open.spotify.com/track/499rs8fMaltXk2BOlq9P0m</th>\n",
              "      <td>NaN</td>\n",
              "    </tr>\n",
              "    <tr>\n",
              "      <th>https://open.spotify.com/track/1bqypXWn45G1mCgJUFy8Km</th>\n",
              "      <td>NaN</td>\n",
              "    </tr>\n",
              "    <tr>\n",
              "      <th>https://open.spotify.com/track/0efgwb66083LCAI2OQb1C6</th>\n",
              "      <td>NaN</td>\n",
              "    </tr>\n",
              "    <tr>\n",
              "      <th>https://open.spotify.com/track/6HX5qNv8VDWdm9YaYZKImS</th>\n",
              "      <td>NaN</td>\n",
              "    </tr>\n",
              "    <tr>\n",
              "      <th>Musicologo The Libro\"</th>\n",
              "      <td>NaN</td>\n",
              "    </tr>\n",
              "    <tr>\n",
              "      <th>Ana Bárbara</th>\n",
              "      <td>NaN</td>\n",
              "    </tr>\n",
              "    <tr>\n",
              "      <th>https://open.spotify.com/track/3g8bLZAOEtgAe5gfX6LvVk</th>\n",
              "      <td>NaN</td>\n",
              "    </tr>\n",
              "    <tr>\n",
              "      <th>Oshik Levi\"</th>\n",
              "      <td>NaN</td>\n",
              "    </tr>\n",
              "    <tr>\n",
              "      <th>Eminem</th>\n",
              "      <td>NaN</td>\n",
              "    </tr>\n",
              "    <tr>\n",
              "      <th>2017-11-01</th>\n",
              "      <td>NaN</td>\n",
              "    </tr>\n",
              "    <tr>\n",
              "      <th>https://open.spotify.com/track/07opQ0KAzpPlUdUL3VuC9E</th>\n",
              "      <td>NaN</td>\n",
              "    </tr>\n",
              "    <tr>\n",
              "      <th>Jonas Karlsson\"</th>\n",
              "      <td>NaN</td>\n",
              "    </tr>\n",
              "    <tr>\n",
              "      <th>https://open.spotify.com/track/7pRqu4BtukKJN9nVUFyA0v</th>\n",
              "      <td>NaN</td>\n",
              "    </tr>\n",
              "    <tr>\n",
              "      <th>https://open.spotify.com/track/6ZDs4bsbS36R5IDXgf0nFe</th>\n",
              "      <td>NaN</td>\n",
              "    </tr>\n",
              "    <tr>\n",
              "      <th>https://open.spotify.com/track/2SuuioSK8HAzWSneSXpvA7</th>\n",
              "      <td>NaN</td>\n",
              "    </tr>\n",
              "    <tr>\n",
              "      <th>https://open.spotify.com/track/1Ku3fNFmZicREvkdOLvxqS</th>\n",
              "      <td>NaN</td>\n",
              "    </tr>\n",
              "    <tr>\n",
              "      <th>https://open.spotify.com/track/1S4y5ljbxHWf1vRXlRidg3</th>\n",
              "      <td>NaN</td>\n",
              "    </tr>\n",
              "    <tr>\n",
              "      <th>https://open.spotify.com/track/6oklNuDesCz9yjI2mZdv4B</th>\n",
              "      <td>NaN</td>\n",
              "    </tr>\n",
              "    <tr>\n",
              "      <th>https://open.spotify.com/track/1jE8bK1Mc4nq1ckVeWf1N6</th>\n",
              "      <td>NaN</td>\n",
              "    </tr>\n",
              "    <tr>\n",
              "      <th>Washignton Alvez</th>\n",
              "      <td>NaN</td>\n",
              "    </tr>\n",
              "    <tr>\n",
              "      <th>https://open.spotify.com/track/7uyLkwRKSSau90viy6wBqy</th>\n",
              "      <td>NaN</td>\n",
              "    </tr>\n",
              "    <tr>\n",
              "      <th>https://open.spotify.com/track/3rp5EbCFuspx8IsmrERE4W</th>\n",
              "      <td>NaN</td>\n",
              "    </tr>\n",
              "    <tr>\n",
              "      <th>https://open.spotify.com/track/4Z3VIu0oYzM45D1e0BlnTE</th>\n",
              "      <td>NaN</td>\n",
              "    </tr>\n",
              "    <tr>\n",
              "      <th>https://open.spotify.com/track/6mzs6XTIfxhFMOcy59Upje</th>\n",
              "      <td>NaN</td>\n",
              "    </tr>\n",
              "    <tr>\n",
              "      <th>https://open.spotify.com/track/3wDAj0rwapSLmx7ftyaqkb</th>\n",
              "      <td>NaN</td>\n",
              "    </tr>\n",
              "    <tr>\n",
              "      <th>https://open.spotify.com/track/4oAH0son1HaCEIdXhHOaZs</th>\n",
              "      <td>NaN</td>\n",
              "    </tr>\n",
              "    <tr>\n",
              "      <th>https://open.spotify.com/track/27eu98qFax0QwIUZHZCJU5</th>\n",
              "      <td>NaN</td>\n",
              "    </tr>\n",
              "    <tr>\n",
              "      <th>Johann Sebastian Bach, Ton Koopman, Boys Choir Of Sacraments-Church Breda</th>\n",
              "      <td>NaN</td>\n",
              "    </tr>\n",
              "    <tr>\n",
              "      <th>https://open.spotify.com/track/0Z64YwiaKyd9RCGmhb9tTJ</th>\n",
              "      <td>NaN</td>\n",
              "    </tr>\n",
              "    <tr>\n",
              "      <th>https://open.spotify.com/track/2r1FiNXh5mDNEP8K07YRVp</th>\n",
              "      <td>NaN</td>\n",
              "    </tr>\n",
              "    <tr>\n",
              "      <th>https://open.spotify.com/track/1yBGUG74gnxDT5ZvLDDC66</th>\n",
              "      <td>NaN</td>\n",
              "    </tr>\n",
              "    <tr>\n",
              "      <th>https://open.spotify.com/track/2icki4ANNBeqsIHZIQjRCz</th>\n",
              "      <td>NaN</td>\n",
              "    </tr>\n",
              "    <tr>\n",
              "      <th>https://open.spotify.com/track/0zTQo6wgZ38UbDzyeYfAxm</th>\n",
              "      <td>NaN</td>\n",
              "    </tr>\n",
              "    <tr>\n",
              "      <th>https://open.spotify.com/track/0H2VhGUC3P3hvwz8rdGIpC</th>\n",
              "      <td>NaN</td>\n",
              "    </tr>\n",
              "    <tr>\n",
              "      <th>https://open.spotify.com/track/48Uv1IplxtrA3UOp7KolVu</th>\n",
              "      <td>NaN</td>\n",
              "    </tr>\n",
              "    <tr>\n",
              "      <th>https://open.spotify.com/track/2UPgcSrVfq09ySdz2f8IIt</th>\n",
              "      <td>NaN</td>\n",
              "    </tr>\n",
              "    <tr>\n",
              "      <th>https://open.spotify.com/track/6ykKh7dMpvIaDZI9JoObXI</th>\n",
              "      <td>NaN</td>\n",
              "    </tr>\n",
              "    <tr>\n",
              "      <th>https://open.spotify.com/track/3EvWSvhEBXHNpi9xanbJn1</th>\n",
              "      <td>NaN</td>\n",
              "    </tr>\n",
              "    <tr>\n",
              "      <th>https://open.spotify.com/track/2bp9dlyzNPVdTV4qfFkDFP</th>\n",
              "      <td>NaN</td>\n",
              "    </tr>\n",
              "    <tr>\n",
              "      <th>Russia</th>\n",
              "      <td>2.126223e+09</td>\n",
              "    </tr>\n",
              "    <tr>\n",
              "      <th>https://open.spotify.com/track/2kY2ROHIGdp3aA6ahqaUKm</th>\n",
              "      <td>NaN</td>\n",
              "    </tr>\n",
              "    <tr>\n",
              "      <th>https://open.spotify.com/track/59y2JOeIfn6qnI5B6OkhlF</th>\n",
              "      <td>NaN</td>\n",
              "    </tr>\n",
              "    <tr>\n",
              "      <th>Toxic Crow</th>\n",
              "      <td>NaN</td>\n",
              "    </tr>\n",
              "    <tr>\n",
              "      <th>https://open.spotify.com/track/4eXVTe9akt6No4PEuI7b10</th>\n",
              "      <td>NaN</td>\n",
              "    </tr>\n",
              "    <tr>\n",
              "      <th>https://open.spotify.com/track/5y63Qnr10DFAqC6ZMzOkF4</th>\n",
              "      <td>NaN</td>\n",
              "    </tr>\n",
              "    <tr>\n",
              "      <th>https://open.spotify.com/track/03bwIusXcO2bQ2PX9TXqNx</th>\n",
              "      <td>NaN</td>\n",
              "    </tr>\n",
              "    <tr>\n",
              "      <th>Ukraine</th>\n",
              "      <td>4.366766e+08</td>\n",
              "    </tr>\n",
              "    <tr>\n",
              "      <th>South Korea</th>\n",
              "      <td>1.600647e+08</td>\n",
              "    </tr>\n",
              "    <tr>\n",
              "      <th>https://open.spotify.com/track/3lSjcTblaKRbx4aHWXMWCH</th>\n",
              "      <td>NaN</td>\n",
              "    </tr>\n",
              "    <tr>\n",
              "      <th>https://open.spotify.com/track/0xP2fn9XMV59jdK3sw8jKk</th>\n",
              "      <td>NaN</td>\n",
              "    </tr>\n",
              "    <tr>\n",
              "      <th>Johann Sebastian Bach, Collegium Vocale Gent, Philippe Herreweghe</th>\n",
              "      <td>NaN</td>\n",
              "    </tr>\n",
              "    <tr>\n",
              "      <th>https://open.spotify.com/track/7jYluIOrDBrC7hHIVGQM7d</th>\n",
              "      <td>NaN</td>\n",
              "    </tr>\n",
              "    <tr>\n",
              "      <th>Wisin\"</th>\n",
              "      <td>NaN</td>\n",
              "    </tr>\n",
              "    <tr>\n",
              "      <th>https://open.spotify.com/track/6uz932UMBRIqyByQXEf7AE</th>\n",
              "      <td>NaN</td>\n",
              "    </tr>\n",
              "    <tr>\n",
              "      <th>https://open.spotify.com/track/2kVxduvzLlmpoxxWsZAstk</th>\n",
              "      <td>NaN</td>\n",
              "    </tr>\n",
              "    <tr>\n",
              "      <th>Zion &amp; Lennox</th>\n",
              "      <td>NaN</td>\n",
              "    </tr>\n",
              "    <tr>\n",
              "      <th>El BAI</th>\n",
              "      <td>NaN</td>\n",
              "    </tr>\n",
              "    <tr>\n",
              "      <th>De La Ghetto\"</th>\n",
              "      <td>NaN</td>\n",
              "    </tr>\n",
              "    <tr>\n",
              "      <th>https://open.spotify.com/track/6Zt5p8qcOO5NW0udr3t2Tm</th>\n",
              "      <td>NaN</td>\n",
              "    </tr>\n",
              "    <tr>\n",
              "      <th>Tomas Augulis\"</th>\n",
              "      <td>NaN</td>\n",
              "    </tr>\n",
              "    <tr>\n",
              "      <th>Paulus Music\"</th>\n",
              "      <td>NaN</td>\n",
              "    </tr>\n",
              "    <tr>\n",
              "      <th>https://open.spotify.com/track/5R4aROQMMRCnY4cQ7fDWoH</th>\n",
              "      <td>NaN</td>\n",
              "    </tr>\n",
              "    <tr>\n",
              "      <th>https://open.spotify.com/track/6WJ2g9aZzlh75OMOCu3lp6</th>\n",
              "      <td>NaN</td>\n",
              "    </tr>\n",
              "    <tr>\n",
              "      <th>https://open.spotify.com/track/01GB70JzmoVuwIUU8hvGOM</th>\n",
              "      <td>NaN</td>\n",
              "    </tr>\n",
              "    <tr>\n",
              "      <th>https://open.spotify.com/track/0P3w8D7NAJb5xYvSQBpHq9</th>\n",
              "      <td>NaN</td>\n",
              "    </tr>\n",
              "    <tr>\n",
              "      <th>5 &amp; a Half\"\"\"</th>\n",
              "      <td>NaN</td>\n",
              "    </tr>\n",
              "    <tr>\n",
              "      <th>https://open.spotify.com/track/2BsToSb9Kn01TUIW7zKIo0</th>\n",
              "      <td>NaN</td>\n",
              "    </tr>\n",
              "    <tr>\n",
              "      <th>https://open.spotify.com/track/2vZKdX1f9nzZoYFysd4iap</th>\n",
              "      <td>NaN</td>\n",
              "    </tr>\n",
              "    <tr>\n",
              "      <th>https://open.spotify.com/track/500HSQBjUOuQBcU212N5pt</th>\n",
              "      <td>NaN</td>\n",
              "    </tr>\n",
              "    <tr>\n",
              "      <th>https://open.spotify.com/track/7gqhW4hpDWe2vNvkO99Zl0</th>\n",
              "      <td>NaN</td>\n",
              "    </tr>\n",
              "    <tr>\n",
              "      <th>https://open.spotify.com/track/2dOaby2Vsl50srYaV8Gsog</th>\n",
              "      <td>NaN</td>\n",
              "    </tr>\n",
              "    <tr>\n",
              "      <th>https://open.spotify.com/track/0TlMpuc0dhTgKAzuoB7FaA</th>\n",
              "      <td>NaN</td>\n",
              "    </tr>\n",
              "    <tr>\n",
              "      <th>Yardena Arazi\"</th>\n",
              "      <td>NaN</td>\n",
              "    </tr>\n",
              "    <tr>\n",
              "      <th>https://open.spotify.com/track/7Jup5N4vO82Ugm0cTtk5uz</th>\n",
              "      <td>NaN</td>\n",
              "    </tr>\n",
              "    <tr>\n",
              "      <th>https://open.spotify.com/track/2iHr1co9ElgzHredwMNKOy</th>\n",
              "      <td>NaN</td>\n",
              "    </tr>\n",
              "    <tr>\n",
              "      <th>https://open.spotify.com/track/2SmOuiSWgy7fzDRVsHop7N</th>\n",
              "      <td>NaN</td>\n",
              "    </tr>\n",
              "    <tr>\n",
              "      <th>https://open.spotify.com/track/17O74a5yPcSzacIQz38Alg</th>\n",
              "      <td>NaN</td>\n",
              "    </tr>\n",
              "    <tr>\n",
              "      <th>https://open.spotify.com/track/5QwWU85xGka6yWMp3oWhlK</th>\n",
              "      <td>NaN</td>\n",
              "    </tr>\n",
              "    <tr>\n",
              "      <th>https://open.spotify.com/track/3DNRdudZ2SstnDCVKFdXxG</th>\n",
              "      <td>NaN</td>\n",
              "    </tr>\n",
              "    <tr>\n",
              "      <th>Quimico Ultra Mega</th>\n",
              "      <td>NaN</td>\n",
              "    </tr>\n",
              "    <tr>\n",
              "      <th>https://open.spotify.com/track/0aPMyfh81a0MqeQEKgcZyD</th>\n",
              "      <td>NaN</td>\n",
              "    </tr>\n",
              "    <tr>\n",
              "      <th>https://open.spotify.com/track/7gx31fxScFDZ8yct1m5EG1</th>\n",
              "      <td>NaN</td>\n",
              "    </tr>\n",
              "    <tr>\n",
              "      <th>https://open.spotify.com/track/70l3uMgEzmTdENi0jOjff8</th>\n",
              "      <td>NaN</td>\n",
              "    </tr>\n",
              "    <tr>\n",
              "      <th>https://open.spotify.com/track/0gLG6Bwfse8KxydNwWgq3t</th>\n",
              "      <td>NaN</td>\n",
              "    </tr>\n",
              "    <tr>\n",
              "      <th>https://open.spotify.com/track/69HtXgvDkXQd6QeFTdClAJ</th>\n",
              "      <td>NaN</td>\n",
              "    </tr>\n",
              "    <tr>\n",
              "      <th>https://open.spotify.com/track/5QhOn1BUflYGZnbWpSl0IO</th>\n",
              "      <td>NaN</td>\n",
              "    </tr>\n",
              "    <tr>\n",
              "      <th>https://open.spotify.com/track/6JNHdUEMA2X2LbubU5IUKR</th>\n",
              "      <td>NaN</td>\n",
              "    </tr>\n",
              "    <tr>\n",
              "      <th>https://open.spotify.com/track/18wydTTj4UeMJvNrmacxPH</th>\n",
              "      <td>NaN</td>\n",
              "    </tr>\n",
              "    <tr>\n",
              "      <th>https://open.spotify.com/track/0WRkuI0kFwUKPTPqVK3Eri</th>\n",
              "      <td>NaN</td>\n",
              "    </tr>\n",
              "    <tr>\n",
              "      <th>https://open.spotify.com/track/47sx1KBjTVU20yWfvyDLgE</th>\n",
              "      <td>NaN</td>\n",
              "    </tr>\n",
              "    <tr>\n",
              "      <th>https://open.spotify.com/track/7bG1X55JjekNsFaX4Q4GR3</th>\n",
              "      <td>NaN</td>\n",
              "    </tr>\n",
              "    <tr>\n",
              "      <th>https://open.spotify.com/track/7qRzXkKK18D83FseIgsjjN</th>\n",
              "      <td>NaN</td>\n",
              "    </tr>\n",
              "    <tr>\n",
              "      <th>Shelley FKA DRAM</th>\n",
              "      <td>NaN</td>\n",
              "    </tr>\n",
              "    <tr>\n",
              "      <th>https://open.spotify.com/track/1DCUxn2zUV6HBq89iWGSdk</th>\n",
              "      <td>NaN</td>\n",
              "    </tr>\n",
              "    <tr>\n",
              "      <th>https://open.spotify.com/track/6rMmikqMjiI1GRBsYNu39q</th>\n",
              "      <td>NaN</td>\n",
              "    </tr>\n",
              "    <tr>\n",
              "      <th>https://open.spotify.com/track/06xNYgXm8JHuaGKgvDJx1P</th>\n",
              "      <td>NaN</td>\n",
              "    </tr>\n",
              "    <tr>\n",
              "      <th>https://open.spotify.com/track/1SeI3VeE7yEwfYYbannzlk</th>\n",
              "      <td>NaN</td>\n",
              "    </tr>\n",
              "    <tr>\n",
              "      <th>https://open.spotify.com/track/2S86EYDRSpL5lWZOLRoz7x</th>\n",
              "      <td>NaN</td>\n",
              "    </tr>\n",
              "    <tr>\n",
              "      <th>https://open.spotify.com/track/7yNZNz5AslLutGcbA8bBxp</th>\n",
              "      <td>NaN</td>\n",
              "    </tr>\n",
              "    <tr>\n",
              "      <th>https://open.spotify.com/track/5wlqpBKmqRTh05z5uyl1Z2</th>\n",
              "      <td>NaN</td>\n",
              "    </tr>\n",
              "    <tr>\n",
              "      <th>https://open.spotify.com/track/55MIRLbZzpYSmMlRt9ZDWM</th>\n",
              "      <td>NaN</td>\n",
              "    </tr>\n",
              "    <tr>\n",
              "      <th>https://open.spotify.com/track/09tSyS9UM1YqakklSEwVUE</th>\n",
              "      <td>NaN</td>\n",
              "    </tr>\n",
              "    <tr>\n",
              "      <th>https://open.spotify.com/track/4nN3sSVDpCqf3TW4tpDBAS</th>\n",
              "      <td>NaN</td>\n",
              "    </tr>\n",
              "    <tr>\n",
              "      <th>https://open.spotify.com/track/4hmmkDXYEg5aTLz9Wd6V0e</th>\n",
              "      <td>NaN</td>\n",
              "    </tr>\n",
              "    <tr>\n",
              "      <th>https://open.spotify.com/track/524T2iIvtNh6DTfsuKYh1T</th>\n",
              "      <td>NaN</td>\n",
              "    </tr>\n",
              "    <tr>\n",
              "      <th>https://open.spotify.com/track/4gcY464quTJkbdhSyCPsuN</th>\n",
              "      <td>NaN</td>\n",
              "    </tr>\n",
              "    <tr>\n",
              "      <th>https://open.spotify.com/track/7olSysV8LDJ4OPV8x0scqg</th>\n",
              "      <td>NaN</td>\n",
              "    </tr>\n",
              "    <tr>\n",
              "      <th>https://open.spotify.com/track/5xnBbIBiFLNq3gvgDYNNWP</th>\n",
              "      <td>NaN</td>\n",
              "    </tr>\n",
              "    <tr>\n",
              "      <th>https://open.spotify.com/track/3UZVQUtHYscYUa5K5xs2gT</th>\n",
              "      <td>NaN</td>\n",
              "    </tr>\n",
              "    <tr>\n",
              "      <th>https://open.spotify.com/track/2eM6rWu3STYZ5jWktu6caT</th>\n",
              "      <td>NaN</td>\n",
              "    </tr>\n",
              "    <tr>\n",
              "      <th>https://open.spotify.com/track/7iRjMrb8LbLLElfM8qR50z</th>\n",
              "      <td>NaN</td>\n",
              "    </tr>\n",
              "  </tbody>\n",
              "</table>\n",
              "</div>"
            ]
          },
          "metadata": {},
          "execution_count": 85
        }
      ]
    },
    {
      "cell_type": "markdown",
      "source": [
        "Explore the rating distribution of all trends."
      ],
      "metadata": {
        "id": "sx4kvNR-frqU"
      }
    },
    {
      "cell_type": "markdown",
      "source": [
        "**1. Pandas**"
      ],
      "metadata": {
        "id": "MTCGglKwtRe8"
      }
    },
    {
      "cell_type": "code",
      "source": [
        "df[\"trend\"].value_counts()"
      ],
      "metadata": {
        "colab": {
          "base_uri": "https://localhost:8080/"
        },
        "id": "rBexoMEufsKR",
        "outputId": "543c5dca-c153-49d3-edcf-75cab1880359"
      },
      "execution_count": null,
      "outputs": [
        {
          "output_type": "execute_result",
          "data": {
            "text/plain": [
              "MOVE_DOWN        8975238\n",
              "MOVE_UP          7833695\n",
              "SAME_POSITION    2331423\n",
              "NEW_ENTRY        1181541\n",
              "Name: trend, dtype: int64"
            ]
          },
          "metadata": {},
          "execution_count": 12
        }
      ]
    },
    {
      "cell_type": "code",
      "source": [
        "%time\n",
        "df[\"trend\"].value_counts().plot(kind='bar',\n",
        "                                       figsize=(20, 8),\n",
        "                                       ylabel=\"Number of Streams\",\n",
        "                                       title=\"Trend Distribution\",\n",
        "                                      );"
      ],
      "metadata": {
        "colab": {
          "base_uri": "https://localhost:8080/",
          "height": 604
        },
        "id": "m1HIqNWPf4rq",
        "outputId": "dc2b514f-531b-4ab7-f67a-b7e8396b30d8"
      },
      "execution_count": null,
      "outputs": [
        {
          "output_type": "stream",
          "name": "stdout",
          "text": [
            "CPU times: user 4 µs, sys: 0 ns, total: 4 µs\n",
            "Wall time: 11.9 µs\n"
          ]
        },
        {
          "output_type": "display_data",
          "data": {
            "text/plain": [
              "<Figure size 1440x576 with 1 Axes>"
            ],
            "image/png": "[encoded data removed]"
          },
          "metadata": {
            "needs_background": "light"
          }
        }
      ]
    },
    {
      "cell_type": "markdown",
      "source": [
        "**2. Pyspark**"
      ],
      "metadata": {
        "id": "aj4UFldYz75i"
      }
    },
    {
      "cell_type": "code",
      "source": [
        "%time\n",
        "from pyspark.sql.functions import count\n",
        "\n",
        "df_py.createOrReplaceTempView('Spotify')\n",
        "spotify_df = spark.sql('SELECT trend, COUNT(*) FROM Spotify GROUP BY trend;').show()"
      ],
      "metadata": {
        "colab": {
          "base_uri": "https://localhost:8080/"
        },
        "id": "m3l9wkkA56va",
        "outputId": "42797e18-bc3e-4404-fb64-2c82d527a27e"
      },
      "execution_count": null,
      "outputs": [
        {
          "output_type": "stream",
          "name": "stdout",
          "text": [
            "CPU times: user 3 µs, sys: 0 ns, total: 3 µs\n",
            "Wall time: 7.63 µs\n",
            "+--------------------+--------+\n",
            "|               trend|count(1)|\n",
            "+--------------------+--------+\n",
            "|           NEW_ENTRY| 1180960|\n",
            "|              top200|    2560|\n",
            "|             viral50|    3116|\n",
            "|               India|     177|\n",
            "|https://open.spot...|      21|\n",
            "|             Bolivia|      36|\n",
            "|               Spain|      28|\n",
            "|             Uruguay|      26|\n",
            "|            Jay Maly|       1|\n",
            "|           MOVE_DOWN| 8973763|\n",
            "|             MOVE_UP| 7832235|\n",
            "|  Dominican Republic|     601|\n",
            "|       SAME_POSITION| 2331225|\n",
            "|           Argentina|       4|\n",
            "|          Costa Rica|      53|\n",
            "|              Panama|     110|\n",
            "|https://open.spot...|      10|\n",
            "|           Guatemala|       6|\n",
            "|          Jon Secada|       2|\n",
            "|              Sweden|      11|\n",
            "+--------------------+--------+\n",
            "only showing top 20 rows\n",
            "\n"
          ]
        }
      ]
    },
    {
      "cell_type": "markdown",
      "source": [
        "**3. Koalas**"
      ],
      "metadata": {
        "id": "h8O1kjSwlVlm"
      }
    },
    {
      "cell_type": "code",
      "source": [
        "%time\n",
        "df_ks_eda.groupby(\"trend\").agg({\"streams\": \"sum\"})"
      ],
      "metadata": {
        "colab": {
          "base_uri": "https://localhost:8080/",
          "height": 1000
        },
        "id": "cgX6a0u4lU63",
        "outputId": "c518044d-7ffe-4df4-a9e9-ed3948fb2d8b"
      },
      "execution_count": null,
      "outputs": [
        {
          "output_type": "stream",
          "name": "stdout",
          "text": [
            "CPU times: user 4 µs, sys: 0 ns, total: 4 µs\n",
            "Wall time: 9.54 µs\n"
          ]
        },
        {
          "output_type": "execute_result",
          "data": {
            "text/plain": [
              "                                                            streams\n",
              "trend                                                              \n",
              "NEW_ENTRY                                              4.103430e+10\n",
              "top200                                                          NaN\n",
              "viral50                                                         NaN\n",
              "India                                                           NaN\n",
              "https://open.spotify.com/track/3dqBmUFihufaWii7TGLXyE           NaN\n",
              "Bolivia                                                         NaN\n",
              "Spain                                                           NaN\n",
              "Uruguay                                                         NaN\n",
              " Jay Maly                                                       NaN\n",
              "MOVE_DOWN                                              4.374906e+11\n",
              "MOVE_UP                                                3.991731e+11\n",
              "Dominican Republic                                              NaN\n",
              "SAME_POSITION                                          2.452178e+11\n",
              "Argentina                                                       NaN\n",
              "Costa Rica                                                      NaN\n",
              "Panama                                                          NaN\n",
              "https://open.spotify.com/track/0lhOX6LaImVlcGvCMX6lOh           NaN\n",
              "Guatemala                                                       NaN\n",
              " Jon Secada                                                     NaN\n",
              "Sweden                                                          NaN\n",
              "Germany                                                         NaN\n",
              "France                                                          NaN\n",
              "Greece                                                          NaN\n",
              "Slovakia                                                        NaN\n",
              "Belgium                                                         NaN\n",
              "Finland                                                         NaN\n",
              "Global                                                          NaN\n",
              "United States                                                   NaN\n",
              "Italy                                                           NaN\n",
              "Lithuania                                                       NaN\n",
              "Norway                                                          NaN\n",
              "Denmark                                                         NaN\n",
              "Ireland                                                         NaN\n",
              "Morocco                                                         NaN\n",
              "Iceland                                                         NaN\n",
              "Israel                                                          NaN\n",
              "Estonia                                                         NaN\n",
              "Honduras                                                        NaN\n",
              "Saudi Arabia                                                    NaN\n",
              "Switzerland                                                     NaN\n",
              "Latvia                                                          NaN\n",
              "United Arab Emirates                                            NaN\n",
              "Canada                                                          NaN\n",
              "Czech Republic                                                  NaN\n",
              "New Zealand                                                     NaN\n",
              "Portugal                                                        NaN\n",
              "Australia                                                       NaN\n",
              "Romania                                                         NaN\n",
              "Bulgaria                                                        NaN\n",
              "Austria                                                         NaN\n",
              "Egypt                                                           NaN\n",
              "South Africa                                                    NaN\n",
              "Hungary                                                         NaN\n",
              "United Kingdom                                                  NaN\n",
              "Netherlands                                                     NaN\n",
              "Paraguay                                                        NaN\n",
              "https://open.spotify.com/track/7hiQAkt6wdGogr7xSSMYpJ           NaN\n",
              "Chile                                                           NaN\n",
              " Miguel Ramos                                                   NaN\n",
              " Quimico Ultra Mega                                             NaN\n",
              "https://open.spotify.com/track/2NJyrj4CvQB66ymyzlOEif           NaN\n",
              " Balbi El Chamaco                                               NaN\n",
              "Ecuador                                                         NaN\n",
              "Nicaragua                                                       NaN\n",
              "El Salvador                                                     NaN\n",
              "Colombia                                                        NaN\n",
              "https://open.spotify.com/track/3GU9rrZTMbv0P1BQLU2sDT           NaN\n",
              " Fabolous                                                       NaN"
            ],
            "text/html": [
              "<div>\n",
              "<style scoped>\n",
              "    .dataframe tbody tr th:only-of-type {\n",
              "        vertical-align: middle;\n",
              "    }\n",
              "\n",
              "    .dataframe tbody tr th {\n",
              "        vertical-align: top;\n",
              "    }\n",
              "\n",
              "    .dataframe thead th {\n",
              "        text-align: right;\n",
              "    }\n",
              "</style>\n",
              "<table border=\"1\" class=\"dataframe\">\n",
              "  <thead>\n",
              "    <tr style=\"text-align: right;\">\n",
              "      <th></th>\n",
              "      <th>streams</th>\n",
              "    </tr>\n",
              "    <tr>\n",
              "      <th>trend</th>\n",
              "      <th></th>\n",
              "    </tr>\n",
              "  </thead>\n",
              "  <tbody>\n",
              "    <tr>\n",
              "      <th>NEW_ENTRY</th>\n",
              "      <td>4.103430e+10</td>\n",
              "    </tr>\n",
              "    <tr>\n",
              "      <th>top200</th>\n",
              "      <td>NaN</td>\n",
              "    </tr>\n",
              "    <tr>\n",
              "      <th>viral50</th>\n",
              "      <td>NaN</td>\n",
              "    </tr>\n",
              "    <tr>\n",
              "      <th>India</th>\n",
              "      <td>NaN</td>\n",
              "    </tr>\n",
              "    <tr>\n",
              "      <th>https://open.spotify.com/track/3dqBmUFihufaWii7TGLXyE</th>\n",
              "      <td>NaN</td>\n",
              "    </tr>\n",
              "    <tr>\n",
              "      <th>Bolivia</th>\n",
              "      <td>NaN</td>\n",
              "    </tr>\n",
              "    <tr>\n",
              "      <th>Spain</th>\n",
              "      <td>NaN</td>\n",
              "    </tr>\n",
              "    <tr>\n",
              "      <th>Uruguay</th>\n",
              "      <td>NaN</td>\n",
              "    </tr>\n",
              "    <tr>\n",
              "      <th>Jay Maly</th>\n",
              "      <td>NaN</td>\n",
              "    </tr>\n",
              "    <tr>\n",
              "      <th>MOVE_DOWN</th>\n",
              "      <td>4.374906e+11</td>\n",
              "    </tr>\n",
              "    <tr>\n",
              "      <th>MOVE_UP</th>\n",
              "      <td>3.991731e+11</td>\n",
              "    </tr>\n",
              "    <tr>\n",
              "      <th>Dominican Republic</th>\n",
              "      <td>NaN</td>\n",
              "    </tr>\n",
              "    <tr>\n",
              "      <th>SAME_POSITION</th>\n",
              "      <td>2.452178e+11</td>\n",
              "    </tr>\n",
              "    <tr>\n",
              "      <th>Argentina</th>\n",
              "      <td>NaN</td>\n",
              "    </tr>\n",
              "    <tr>\n",
              "      <th>Costa Rica</th>\n",
              "      <td>NaN</td>\n",
              "    </tr>\n",
              "    <tr>\n",
              "      <th>Panama</th>\n",
              "      <td>NaN</td>\n",
              "    </tr>\n",
              "    <tr>\n",
              "      <th>https://open.spotify.com/track/0lhOX6LaImVlcGvCMX6lOh</th>\n",
              "      <td>NaN</td>\n",
              "    </tr>\n",
              "    <tr>\n",
              "      <th>Guatemala</th>\n",
              "      <td>NaN</td>\n",
              "    </tr>\n",
              "    <tr>\n",
              "      <th>Jon Secada</th>\n",
              "      <td>NaN</td>\n",
              "    </tr>\n",
              "    <tr>\n",
              "      <th>Sweden</th>\n",
              "      <td>NaN</td>\n",
              "    </tr>\n",
              "    <tr>\n",
              "      <th>Germany</th>\n",
              "      <td>NaN</td>\n",
              "    </tr>\n",
              "    <tr>\n",
              "      <th>France</th>\n",
              "      <td>NaN</td>\n",
              "    </tr>\n",
              "    <tr>\n",
              "      <th>Greece</th>\n",
              "      <td>NaN</td>\n",
              "    </tr>\n",
              "    <tr>\n",
              "      <th>Slovakia</th>\n",
              "      <td>NaN</td>\n",
              "    </tr>\n",
              "    <tr>\n",
              "      <th>Belgium</th>\n",
              "      <td>NaN</td>\n",
              "    </tr>\n",
              "    <tr>\n",
              "      <th>Finland</th>\n",
              "      <td>NaN</td>\n",
              "    </tr>\n",
              "    <tr>\n",
              "      <th>Global</th>\n",
              "      <td>NaN</td>\n",
              "    </tr>\n",
              "    <tr>\n",
              "      <th>United States</th>\n",
              "      <td>NaN</td>\n",
              "    </tr>\n",
              "    <tr>\n",
              "      <th>Italy</th>\n",
              "      <td>NaN</td>\n",
              "    </tr>\n",
              "    <tr>\n",
              "      <th>Lithuania</th>\n",
              "      <td>NaN</td>\n",
              "    </tr>\n",
              "    <tr>\n",
              "      <th>Norway</th>\n",
              "      <td>NaN</td>\n",
              "    </tr>\n",
              "    <tr>\n",
              "      <th>Denmark</th>\n",
              "      <td>NaN</td>\n",
              "    </tr>\n",
              "    <tr>\n",
              "      <th>Ireland</th>\n",
              "      <td>NaN</td>\n",
              "    </tr>\n",
              "    <tr>\n",
              "      <th>Morocco</th>\n",
              "      <td>NaN</td>\n",
              "    </tr>\n",
              "    <tr>\n",
              "      <th>Iceland</th>\n",
              "      <td>NaN</td>\n",
              "    </tr>\n",
              "    <tr>\n",
              "      <th>Israel</th>\n",
              "      <td>NaN</td>\n",
              "    </tr>\n",
              "    <tr>\n",
              "      <th>Estonia</th>\n",
              "      <td>NaN</td>\n",
              "    </tr>\n",
              "    <tr>\n",
              "      <th>Honduras</th>\n",
              "      <td>NaN</td>\n",
              "    </tr>\n",
              "    <tr>\n",
              "      <th>Saudi Arabia</th>\n",
              "      <td>NaN</td>\n",
              "    </tr>\n",
              "    <tr>\n",
              "      <th>Switzerland</th>\n",
              "      <td>NaN</td>\n",
              "    </tr>\n",
              "    <tr>\n",
              "      <th>Latvia</th>\n",
              "      <td>NaN</td>\n",
              "    </tr>\n",
              "    <tr>\n",
              "      <th>United Arab Emirates</th>\n",
              "      <td>NaN</td>\n",
              "    </tr>\n",
              "    <tr>\n",
              "      <th>Canada</th>\n",
              "      <td>NaN</td>\n",
              "    </tr>\n",
              "    <tr>\n",
              "      <th>Czech Republic</th>\n",
              "      <td>NaN</td>\n",
              "    </tr>\n",
              "    <tr>\n",
              "      <th>New Zealand</th>\n",
              "      <td>NaN</td>\n",
              "    </tr>\n",
              "    <tr>\n",
              "      <th>Portugal</th>\n",
              "      <td>NaN</td>\n",
              "    </tr>\n",
              "    <tr>\n",
              "      <th>Australia</th>\n",
              "      <td>NaN</td>\n",
              "    </tr>\n",
              "    <tr>\n",
              "      <th>Romania</th>\n",
              "      <td>NaN</td>\n",
              "    </tr>\n",
              "    <tr>\n",
              "      <th>Bulgaria</th>\n",
              "      <td>NaN</td>\n",
              "    </tr>\n",
              "    <tr>\n",
              "      <th>Austria</th>\n",
              "      <td>NaN</td>\n",
              "    </tr>\n",
              "    <tr>\n",
              "      <th>Egypt</th>\n",
              "      <td>NaN</td>\n",
              "    </tr>\n",
              "    <tr>\n",
              "      <th>South Africa</th>\n",
              "      <td>NaN</td>\n",
              "    </tr>\n",
              "    <tr>\n",
              "      <th>Hungary</th>\n",
              "      <td>NaN</td>\n",
              "    </tr>\n",
              "    <tr>\n",
              "      <th>United Kingdom</th>\n",
              "      <td>NaN</td>\n",
              "    </tr>\n",
              "    <tr>\n",
              "      <th>Netherlands</th>\n",
              "      <td>NaN</td>\n",
              "    </tr>\n",
              "    <tr>\n",
              "      <th>Paraguay</th>\n",
              "      <td>NaN</td>\n",
              "    </tr>\n",
              "    <tr>\n",
              "      <th>https://open.spotify.com/track/7hiQAkt6wdGogr7xSSMYpJ</th>\n",
              "      <td>NaN</td>\n",
              "    </tr>\n",
              "    <tr>\n",
              "      <th>Chile</th>\n",
              "      <td>NaN</td>\n",
              "    </tr>\n",
              "    <tr>\n",
              "      <th>Miguel Ramos</th>\n",
              "      <td>NaN</td>\n",
              "    </tr>\n",
              "    <tr>\n",
              "      <th>Quimico Ultra Mega</th>\n",
              "      <td>NaN</td>\n",
              "    </tr>\n",
              "    <tr>\n",
              "      <th>https://open.spotify.com/track/2NJyrj4CvQB66ymyzlOEif</th>\n",
              "      <td>NaN</td>\n",
              "    </tr>\n",
              "    <tr>\n",
              "      <th>Balbi El Chamaco</th>\n",
              "      <td>NaN</td>\n",
              "    </tr>\n",
              "    <tr>\n",
              "      <th>Ecuador</th>\n",
              "      <td>NaN</td>\n",
              "    </tr>\n",
              "    <tr>\n",
              "      <th>Nicaragua</th>\n",
              "      <td>NaN</td>\n",
              "    </tr>\n",
              "    <tr>\n",
              "      <th>El Salvador</th>\n",
              "      <td>NaN</td>\n",
              "    </tr>\n",
              "    <tr>\n",
              "      <th>Colombia</th>\n",
              "      <td>NaN</td>\n",
              "    </tr>\n",
              "    <tr>\n",
              "      <th>https://open.spotify.com/track/3GU9rrZTMbv0P1BQLU2sDT</th>\n",
              "      <td>NaN</td>\n",
              "    </tr>\n",
              "    <tr>\n",
              "      <th>Fabolous</th>\n",
              "      <td>NaN</td>\n",
              "    </tr>\n",
              "  </tbody>\n",
              "</table>\n",
              "</div>"
            ]
          },
          "metadata": {},
          "execution_count": 37
        }
      ]
    },
    {
      "cell_type": "markdown",
      "source": [
        "#  **Asking and Answering Question**"
      ],
      "metadata": {
        "id": "hV6UNNJFO8Wa"
      }
    },
    {
      "cell_type": "code",
      "source": [
        "import seaborn as sns\n",
        "import matplotlib\n",
        "import matplotlib.pyplot as plt\n",
        "%matplotlib inline\n",
        "\n",
        "sns.set_style('darkgrid')\n",
        "matplotlib.rcParams['font.size'] = 14\n",
        "matplotlib.rcParams['figure.figsize'] = (9, 5)\n",
        "matplotlib.rcParams['figure.facecolor'] = '#00000000'"
      ],
      "metadata": {
        "id": "XgaIJK_iQJvC"
      },
      "execution_count": 11,
      "outputs": []
    },
    {
      "cell_type": "code",
      "source": [
        "!pip3 install -U matplotlib\n",
        "\n"
      ],
      "metadata": {
        "colab": {
          "base_uri": "https://localhost:8080/",
          "height": 558
        },
        "id": "xRec55OPtk27",
        "outputId": "8985b8c1-f0ff-448f-f748-d608c0b35ac0"
      },
      "execution_count": null,
      "outputs": [
        {
          "output_type": "stream",
          "name": "stdout",
          "text": [
            "Looking in indexes: https://pypi.org/simple, https://us-python.pkg.dev/colab-wheels/public/simple/\n",
            "Requirement already satisfied: matplotlib in /usr/local/lib/python3.8/dist-packages (3.2.2)\n",
            "Collecting matplotlib\n",
            "  Downloading matplotlib-3.6.3-cp38-cp38-manylinux_2_12_x86_64.manylinux2010_x86_64.whl (9.4 MB)\n",
            "\u001b[2K     \u001b[90m━━━━━━━━━━━━━━━━━━━━━━━━━━━━━━━━━━━━━━━━\u001b[0m \u001b[32m9.4/9.4 MB\u001b[0m \u001b[31m37.7 MB/s\u001b[0m eta \u001b[36m0:00:00\u001b[0m\n",
            "\u001b[?25hRequirement already satisfied: python-dateutil>=2.7 in /usr/local/lib/python3.8/dist-packages (from matplotlib) (2.8.2)\n",
            "Requirement already satisfied: numpy>=1.19 in /usr/local/lib/python3.8/dist-packages (from matplotlib) (1.21.6)\n",
            "Collecting fonttools>=4.22.0\n",
            "  Downloading fonttools-4.38.0-py3-none-any.whl (965 kB)\n",
            "\u001b[2K     \u001b[90m━━━━━━━━━━━━━━━━━━━━━━━━━━━━━━━━━━━━━━\u001b[0m \u001b[32m965.4/965.4 KB\u001b[0m \u001b[31m55.3 MB/s\u001b[0m eta \u001b[36m0:00:00\u001b[0m\n",
            "\u001b[?25hRequirement already satisfied: pyparsing>=2.2.1 in /usr/local/lib/python3.8/dist-packages (from matplotlib) (3.0.9)\n",
            "Requirement already satisfied: kiwisolver>=1.0.1 in /usr/local/lib/python3.8/dist-packages (from matplotlib) (1.4.4)\n",
            "Requirement already satisfied: packaging>=20.0 in /usr/local/lib/python3.8/dist-packages (from matplotlib) (21.3)\n",
            "Collecting contourpy>=1.0.1\n",
            "  Downloading contourpy-1.0.7-cp38-cp38-manylinux_2_17_x86_64.manylinux2014_x86_64.whl (300 kB)\n",
            "\u001b[2K     \u001b[90m━━━━━━━━━━━━━━━━━━━━━━━━━━━━━━━━━━━━━━\u001b[0m \u001b[32m300.0/300.0 KB\u001b[0m \u001b[31m22.6 MB/s\u001b[0m eta \u001b[36m0:00:00\u001b[0m\n",
            "\u001b[?25hRequirement already satisfied: cycler>=0.10 in /usr/local/lib/python3.8/dist-packages (from matplotlib) (0.11.0)\n",
            "Requirement already satisfied: pillow>=6.2.0 in /usr/local/lib/python3.8/dist-packages (from matplotlib) (7.1.2)\n",
            "Requirement already satisfied: six>=1.5 in /usr/local/lib/python3.8/dist-packages (from python-dateutil>=2.7->matplotlib) (1.15.0)\n",
            "Installing collected packages: fonttools, contourpy, matplotlib\n",
            "  Attempting uninstall: matplotlib\n",
            "    Found existing installation: matplotlib 3.2.2\n",
            "    Uninstalling matplotlib-3.2.2:\n",
            "      Successfully uninstalled matplotlib-3.2.2\n",
            "Successfully installed contourpy-1.0.7 fonttools-4.38.0 matplotlib-3.6.3\n"
          ]
        },
        {
          "output_type": "display_data",
          "data": {
            "application/vnd.colab-display-data+json": {
              "pip_warning": {
                "packages": [
                  "matplotlib",
                  "mpl_toolkits"
                ]
              }
            }
          },
          "metadata": {}
        }
      ]
    },
    {
      "cell_type": "markdown",
      "source": [
        "**Q1:What are the ten song titles has the lowest number of streams?**"
      ],
      "metadata": {
        "id": "TgdR1NL2Phmg"
      }
    },
    {
      "cell_type": "markdown",
      "source": [
        "**a) Pandas**\n",
        "\n"
      ],
      "metadata": {
        "id": "-vxGHbC_UrhH"
      }
    },
    {
      "cell_type": "code",
      "source": [
        "%%time\n",
        "lastten = pd.read_csv(charts)\n",
        "lastten.tail(10)"
      ],
      "metadata": {
        "colab": {
          "base_uri": "https://localhost:8080/",
          "height": 615
        },
        "id": "EXW097IXSG0B",
        "outputId": "54f2e7da-d945-4216-c56d-69fbf143d631"
      },
      "execution_count": null,
      "outputs": [
        {
          "output_type": "stream",
          "name": "stdout",
          "text": [
            "CPU times: user 56.5 s, sys: 5 s, total: 1min 1s\n",
            "Wall time: 1min 9s\n"
          ]
        },
        {
          "output_type": "execute_result",
          "data": {
            "text/plain": [
              "                                                 title  rank        date  \\\n",
              "26173504                                      Reckless    41  2021-07-31   \n",
              "26173505                                         Aloha    42  2021-07-31   \n",
              "26173506  Can I Have the Day With You (feat. Michelle)    43  2021-07-31   \n",
              "26173507                                      Your Man    44  2021-07-31   \n",
              "26173508                         As the World Caves In    45  2021-07-31   \n",
              "26173509                                           BYE    46  2021-07-31   \n",
              "26173510                                       Pillars    47  2021-07-31   \n",
              "26173511                                  Gái Độc Thân    48  2021-07-31   \n",
              "26173512                 Renegade (feat. Taylor Swift)    49  2021-07-31   \n",
              "26173513                               Letter to Jarad    50  2021-07-31   \n",
              "\n",
              "                             artist  \\\n",
              "26173504               Madison Beer   \n",
              "26173505              CHO JUNG SEOK   \n",
              "26173506                    Sam Ock   \n",
              "26173507                Josh Turner   \n",
              "26173508              Sarah Cothran   \n",
              "26173509                      Jaden   \n",
              "26173510                     My Anh   \n",
              "26173511                      Tlinh   \n",
              "26173512            Big Red Machine   \n",
              "26173513  LRN Slime, Shiloh Dynasty   \n",
              "\n",
              "                                                        url   region    chart  \\\n",
              "26173504  https://open.spotify.com/track/5ajjAnNRh8bxFva...  Vietnam  viral50   \n",
              "26173505  https://open.spotify.com/track/1hOEq5q9L41E2Yb...  Vietnam  viral50   \n",
              "26173506  https://open.spotify.com/track/11Ymr6CyK8qRVtv...  Vietnam  viral50   \n",
              "26173507  https://open.spotify.com/track/1WzAeadSKJhqykZ...  Vietnam  viral50   \n",
              "26173508  https://open.spotify.com/track/2xXNLutYAOELYVO...  Vietnam  viral50   \n",
              "26173509  https://open.spotify.com/track/3OUyyDN7EZrL7i0...  Vietnam  viral50   \n",
              "26173510  https://open.spotify.com/track/6eky30oFiQbHUAT...  Vietnam  viral50   \n",
              "26173511  https://open.spotify.com/track/2klsSb2iTfgDh95...  Vietnam  viral50   \n",
              "26173512  https://open.spotify.com/track/1aU1wpYBSpP0M6I...  Vietnam  viral50   \n",
              "26173513  https://open.spotify.com/track/508QhA2SncMbh5C...  Vietnam  viral50   \n",
              "\n",
              "                  trend  streams  \n",
              "26173504  SAME_POSITION      NaN  \n",
              "26173505      MOVE_DOWN      NaN  \n",
              "26173506        MOVE_UP      NaN  \n",
              "26173507      NEW_ENTRY      NaN  \n",
              "26173508      MOVE_DOWN      NaN  \n",
              "26173509        MOVE_UP      NaN  \n",
              "26173510      NEW_ENTRY      NaN  \n",
              "26173511      MOVE_DOWN      NaN  \n",
              "26173512      MOVE_DOWN      NaN  \n",
              "26173513      MOVE_DOWN      NaN  "
            ],
            "text/html": [
              "\n",
              "  <div id=\"df-ad9fe9dd-5dc0-43dd-8bfe-3fbcae736584\">\n",
              "    <div class=\"colab-df-container\">\n",
              "      <div>\n",
              "<style scoped>\n",
              "    .dataframe tbody tr th:only-of-type {\n",
              "        vertical-align: middle;\n",
              "    }\n",
              "\n",
              "    .dataframe tbody tr th {\n",
              "        vertical-align: top;\n",
              "    }\n",
              "\n",
              "    .dataframe thead th {\n",
              "        text-align: right;\n",
              "    }\n",
              "</style>\n",
              "<table border=\"1\" class=\"dataframe\">\n",
              "  <thead>\n",
              "    <tr style=\"text-align: right;\">\n",
              "      <th></th>\n",
              "      <th>title</th>\n",
              "      <th>rank</th>\n",
              "      <th>date</th>\n",
              "      <th>artist</th>\n",
              "      <th>url</th>\n",
              "      <th>region</th>\n",
              "      <th>chart</th>\n",
              "      <th>trend</th>\n",
              "      <th>streams</th>\n",
              "    </tr>\n",
              "  </thead>\n",
              "  <tbody>\n",
              "    <tr>\n",
              "      <th>26173504</th>\n",
              "      <td>Reckless</td>\n",
              "      <td>41</td>\n",
              "      <td>2021-07-31</td>\n",
              "      <td>Madison Beer</td>\n",
              "      <td>https://open.spotify.com/track/5ajjAnNRh8bxFva...</td>\n",
              "      <td>Vietnam</td>\n",
              "      <td>viral50</td>\n",
              "      <td>SAME_POSITION</td>\n",
              "      <td>NaN</td>\n",
              "    </tr>\n",
              "    <tr>\n",
              "      <th>26173505</th>\n",
              "      <td>Aloha</td>\n",
              "      <td>42</td>\n",
              "      <td>2021-07-31</td>\n",
              "      <td>CHO JUNG SEOK</td>\n",
              "      <td>https://open.spotify.com/track/1hOEq5q9L41E2Yb...</td>\n",
              "      <td>Vietnam</td>\n",
              "      <td>viral50</td>\n",
              "      <td>MOVE_DOWN</td>\n",
              "      <td>NaN</td>\n",
              "    </tr>\n",
              "    <tr>\n",
              "      <th>26173506</th>\n",
              "      <td>Can I Have the Day With You (feat. Michelle)</td>\n",
              "      <td>43</td>\n",
              "      <td>2021-07-31</td>\n",
              "      <td>Sam Ock</td>\n",
              "      <td>https://open.spotify.com/track/11Ymr6CyK8qRVtv...</td>\n",
              "      <td>Vietnam</td>\n",
              "      <td>viral50</td>\n",
              "      <td>MOVE_UP</td>\n",
              "      <td>NaN</td>\n",
              "    </tr>\n",
              "    <tr>\n",
              "      <th>26173507</th>\n",
              "      <td>Your Man</td>\n",
              "      <td>44</td>\n",
              "      <td>2021-07-31</td>\n",
              "      <td>Josh Turner</td>\n",
              "      <td>https://open.spotify.com/track/1WzAeadSKJhqykZ...</td>\n",
              "      <td>Vietnam</td>\n",
              "      <td>viral50</td>\n",
              "      <td>NEW_ENTRY</td>\n",
              "      <td>NaN</td>\n",
              "    </tr>\n",
              "    <tr>\n",
              "      <th>26173508</th>\n",
              "      <td>As the World Caves In</td>\n",
              "      <td>45</td>\n",
              "      <td>2021-07-31</td>\n",
              "      <td>Sarah Cothran</td>\n",
              "      <td>https://open.spotify.com/track/2xXNLutYAOELYVO...</td>\n",
              "      <td>Vietnam</td>\n",
              "      <td>viral50</td>\n",
              "      <td>MOVE_DOWN</td>\n",
              "      <td>NaN</td>\n",
              "    </tr>\n",
              "    <tr>\n",
              "      <th>26173509</th>\n",
              "      <td>BYE</td>\n",
              "      <td>46</td>\n",
              "      <td>2021-07-31</td>\n",
              "      <td>Jaden</td>\n",
              "      <td>https://open.spotify.com/track/3OUyyDN7EZrL7i0...</td>\n",
              "      <td>Vietnam</td>\n",
              "      <td>viral50</td>\n",
              "      <td>MOVE_UP</td>\n",
              "      <td>NaN</td>\n",
              "    </tr>\n",
              "    <tr>\n",
              "      <th>26173510</th>\n",
              "      <td>Pillars</td>\n",
              "      <td>47</td>\n",
              "      <td>2021-07-31</td>\n",
              "      <td>My Anh</td>\n",
              "      <td>https://open.spotify.com/track/6eky30oFiQbHUAT...</td>\n",
              "      <td>Vietnam</td>\n",
              "      <td>viral50</td>\n",
              "      <td>NEW_ENTRY</td>\n",
              "      <td>NaN</td>\n",
              "    </tr>\n",
              "    <tr>\n",
              "      <th>26173511</th>\n",
              "      <td>Gái Độc Thân</td>\n",
              "      <td>48</td>\n",
              "      <td>2021-07-31</td>\n",
              "      <td>Tlinh</td>\n",
              "      <td>https://open.spotify.com/track/2klsSb2iTfgDh95...</td>\n",
              "      <td>Vietnam</td>\n",
              "      <td>viral50</td>\n",
              "      <td>MOVE_DOWN</td>\n",
              "      <td>NaN</td>\n",
              "    </tr>\n",
              "    <tr>\n",
              "      <th>26173512</th>\n",
              "      <td>Renegade (feat. Taylor Swift)</td>\n",
              "      <td>49</td>\n",
              "      <td>2021-07-31</td>\n",
              "      <td>Big Red Machine</td>\n",
              "      <td>https://open.spotify.com/track/1aU1wpYBSpP0M6I...</td>\n",
              "      <td>Vietnam</td>\n",
              "      <td>viral50</td>\n",
              "      <td>MOVE_DOWN</td>\n",
              "      <td>NaN</td>\n",
              "    </tr>\n",
              "    <tr>\n",
              "      <th>26173513</th>\n",
              "      <td>Letter to Jarad</td>\n",
              "      <td>50</td>\n",
              "      <td>2021-07-31</td>\n",
              "      <td>LRN Slime, Shiloh Dynasty</td>\n",
              "      <td>https://open.spotify.com/track/508QhA2SncMbh5C...</td>\n",
              "      <td>Vietnam</td>\n",
              "      <td>viral50</td>\n",
              "      <td>MOVE_DOWN</td>\n",
              "      <td>NaN</td>\n",
              "    </tr>\n",
              "  </tbody>\n",
              "</table>\n",
              "</div>\n",
              "      <button class=\"colab-df-convert\" onclick=\"convertToInteractive('df-ad9fe9dd-5dc0-43dd-8bfe-3fbcae736584')\"\n",
              "              title=\"Convert this dataframe to an interactive table.\"\n",
              "              style=\"display:none;\">\n",
              "        \n",
              "  <svg xmlns=\"http://www.w3.org/2000/svg\" height=\"24px\"viewBox=\"0 0 24 24\"\n",
              "       width=\"24px\">\n",
              "    <path d=\"M0 0h24v24H0V0z\" fill=\"none\"/>\n",
              "    <path d=\"M18.56 5.44l.94 2.06.94-2.06 2.06-.94-2.06-.94-.94-2.06-.94 2.06-2.06.94zm-11 1L8.5 8.5l.94-2.06 2.06-.94-2.06-.94L8.5 2.5l-.94 2.06-2.06.94zm10 10l.94 2.06.94-2.06 2.06-.94-2.06-.94-.94-2.06-.94 2.06-2.06.94z\"/><path d=\"M17.41 7.96l-1.37-1.37c-.4-.4-.92-.59-1.43-.59-.52 0-1.04.2-1.43.59L10.3 9.45l-7.72 7.72c-.78.78-.78 2.05 0 2.83L4 21.41c.39.39.9.59 1.41.59.51 0 1.02-.2 1.41-.59l7.78-7.78 2.81-2.81c.8-.78.8-2.07 0-2.86zM5.41 20L4 18.59l7.72-7.72 1.47 1.35L5.41 20z\"/>\n",
              "  </svg>\n",
              "      </button>\n",
              "      \n",
              "  <style>\n",
              "    .colab-df-container {\n",
              "      display:flex;\n",
              "      flex-wrap:wrap;\n",
              "      gap: 12px;\n",
              "    }\n",
              "\n",
              "    .colab-df-convert {\n",
              "      background-color: #E8F0FE;\n",
              "      border: none;\n",
              "      border-radius: 50%;\n",
              "      cursor: pointer;\n",
              "      display: none;\n",
              "      fill: #1967D2;\n",
              "      height: 32px;\n",
              "      padding: 0 0 0 0;\n",
              "      width: 32px;\n",
              "    }\n",
              "\n",
              "    .colab-df-convert:hover {\n",
              "      background-color: #E2EBFA;\n",
              "      box-shadow: 0px 1px 2px rgba(60, 64, 67, 0.3), 0px 1px 3px 1px rgba(60, 64, 67, 0.15);\n",
              "      fill: #174EA6;\n",
              "    }\n",
              "\n",
              "    [theme=dark] .colab-df-convert {\n",
              "      background-color: #3B4455;\n",
              "      fill: #D2E3FC;\n",
              "    }\n",
              "\n",
              "    [theme=dark] .colab-df-convert:hover {\n",
              "      background-color: #434B5C;\n",
              "      box-shadow: 0px 1px 3px 1px rgba(0, 0, 0, 0.15);\n",
              "      filter: drop-shadow(0px 1px 2px rgba(0, 0, 0, 0.3));\n",
              "      fill: #FFFFFF;\n",
              "    }\n",
              "  </style>\n",
              "\n",
              "      <script>\n",
              "        const buttonEl =\n",
              "          document.querySelector('#df-ad9fe9dd-5dc0-43dd-8bfe-3fbcae736584 button.colab-df-convert');\n",
              "        buttonEl.style.display =\n",
              "          google.colab.kernel.accessAllowed ? 'block' : 'none';\n",
              "\n",
              "        async function convertToInteractive(key) {\n",
              "          const element = document.querySelector('#df-ad9fe9dd-5dc0-43dd-8bfe-3fbcae736584');\n",
              "          const dataTable =\n",
              "            await google.colab.kernel.invokeFunction('convertToInteractive',\n",
              "                                                     [key], {});\n",
              "          if (!dataTable) return;\n",
              "\n",
              "          const docLinkHtml = 'Like what you see? Visit the ' +\n",
              "            '<a target=\"_blank\" href=https://colab.research.google.com/notebooks/data_table.ipynb>data table notebook</a>'\n",
              "            + ' to learn more about interactive tables.';\n",
              "          element.innerHTML = '';\n",
              "          dataTable['output_type'] = 'display_data';\n",
              "          await google.colab.output.renderOutput(dataTable, element);\n",
              "          const docLink = document.createElement('div');\n",
              "          docLink.innerHTML = docLinkHtml;\n",
              "          element.appendChild(docLink);\n",
              "        }\n",
              "      </script>\n",
              "    </div>\n",
              "  </div>\n",
              "  "
            ]
          },
          "metadata": {},
          "execution_count": 15
        }
      ]
    },
    {
      "cell_type": "markdown",
      "source": [
        "**b) Pyspark**"
      ],
      "metadata": {
        "id": "buw2aCLTitGY"
      }
    },
    {
      "cell_type": "code",
      "source": [
        "%%time\n",
        "df_py = spark.read.csv(charts)\n",
        "df_py.tail(10)"
      ],
      "metadata": {
        "colab": {
          "base_uri": "https://localhost:8080/"
        },
        "id": "W3yt8I-Cjz0f",
        "outputId": "a4ed1d68-5cc8-4c6b-a2be-5b60382140bf"
      },
      "execution_count": null,
      "outputs": [
        {
          "output_type": "stream",
          "name": "stdout",
          "text": [
            "CPU times: user 30.4 ms, sys: 2.49 ms, total: 32.9 ms\n",
            "Wall time: 3.85 s\n"
          ]
        },
        {
          "output_type": "execute_result",
          "data": {
            "text/plain": [
              "[Row(_c0='Reckless', _c1='41', _c2='2021-07-31', _c3='Madison Beer', _c4='https://open.spotify.com/track/5ajjAnNRh8bxFvaVHzpPjh', _c5='Vietnam', _c6='viral50', _c7='SAME_POSITION', _c8=None),\n",
              " Row(_c0='Aloha', _c1='42', _c2='2021-07-31', _c3='CHO JUNG SEOK', _c4='https://open.spotify.com/track/1hOEq5q9L41E2YbLhVvW5x', _c5='Vietnam', _c6='viral50', _c7='MOVE_DOWN', _c8=None),\n",
              " Row(_c0='Can I Have the Day With You (feat. Michelle)', _c1='43', _c2='2021-07-31', _c3='Sam Ock', _c4='https://open.spotify.com/track/11Ymr6CyK8qRVtvfSBdPoX', _c5='Vietnam', _c6='viral50', _c7='MOVE_UP', _c8=None),\n",
              " Row(_c0='Your Man', _c1='44', _c2='2021-07-31', _c3='Josh Turner', _c4='https://open.spotify.com/track/1WzAeadSKJhqykZFbJNmQv', _c5='Vietnam', _c6='viral50', _c7='NEW_ENTRY', _c8=None),\n",
              " Row(_c0='As the World Caves In', _c1='45', _c2='2021-07-31', _c3='Sarah Cothran', _c4='https://open.spotify.com/track/2xXNLutYAOELYVObYb1C1S', _c5='Vietnam', _c6='viral50', _c7='MOVE_DOWN', _c8=None),\n",
              " Row(_c0='BYE', _c1='46', _c2='2021-07-31', _c3='Jaden', _c4='https://open.spotify.com/track/3OUyyDN7EZrL7i0Sbi5SVd', _c5='Vietnam', _c6='viral50', _c7='MOVE_UP', _c8=None),\n",
              " Row(_c0='Pillars', _c1='47', _c2='2021-07-31', _c3='My Anh', _c4='https://open.spotify.com/track/6eky30oFiQbHUATDlOCGys', _c5='Vietnam', _c6='viral50', _c7='NEW_ENTRY', _c8=None),\n",
              " Row(_c0='Gái Độc Thân', _c1='48', _c2='2021-07-31', _c3='Tlinh', _c4='https://open.spotify.com/track/2klsSb2iTfgDh95Ak9uWY2', _c5='Vietnam', _c6='viral50', _c7='MOVE_DOWN', _c8=None),\n",
              " Row(_c0='Renegade (feat. Taylor Swift)', _c1='49', _c2='2021-07-31', _c3='Big Red Machine', _c4='https://open.spotify.com/track/1aU1wpYBSpP0M6IiihY5Ue', _c5='Vietnam', _c6='viral50', _c7='MOVE_DOWN', _c8=None),\n",
              " Row(_c0='Letter to Jarad', _c1='50', _c2='2021-07-31', _c3='LRN Slime, Shiloh Dynasty', _c4='https://open.spotify.com/track/508QhA2SncMbh5CnuxkvUc', _c5='Vietnam', _c6='viral50', _c7='MOVE_DOWN', _c8=None)]"
            ]
          },
          "metadata": {},
          "execution_count": 59
        }
      ]
    },
    {
      "cell_type": "markdown",
      "source": [
        "**c) Koalas**"
      ],
      "metadata": {
        "id": "TyhSVa1ajkDc"
      }
    },
    {
      "cell_type": "code",
      "source": [
        "df_ks.tail(10)"
      ],
      "metadata": {
        "colab": {
          "base_uri": "https://localhost:8080/",
          "height": 537
        },
        "id": "LyX8Mf8i5mRw",
        "outputId": "f8a42bb5-8511-4f8b-ba91-80f65cf0540c"
      },
      "execution_count": null,
      "outputs": [
        {
          "output_type": "execute_result",
          "data": {
            "text/plain": [
              "                                                 title rank        date                     artist                                                    url   region    chart          trend streams\n",
              "26173504                                      Reckless   41  2021-07-31               Madison Beer  https://open.spotify.com/track/5ajjAnNRh8bxFvaVHzpPjh  Vietnam  viral50  SAME_POSITION    None\n",
              "26173505                                         Aloha   42  2021-07-31              CHO JUNG SEOK  https://open.spotify.com/track/1hOEq5q9L41E2YbLhVvW5x  Vietnam  viral50      MOVE_DOWN    None\n",
              "26173506  Can I Have the Day With You (feat. Michelle)   43  2021-07-31                    Sam Ock  https://open.spotify.com/track/11Ymr6CyK8qRVtvfSBdPoX  Vietnam  viral50        MOVE_UP    None\n",
              "26173507                                      Your Man   44  2021-07-31                Josh Turner  https://open.spotify.com/track/1WzAeadSKJhqykZFbJNmQv  Vietnam  viral50      NEW_ENTRY    None\n",
              "26173508                         As the World Caves In   45  2021-07-31              Sarah Cothran  https://open.spotify.com/track/2xXNLutYAOELYVObYb1C1S  Vietnam  viral50      MOVE_DOWN    None\n",
              "26173509                                           BYE   46  2021-07-31                      Jaden  https://open.spotify.com/track/3OUyyDN7EZrL7i0Sbi5SVd  Vietnam  viral50        MOVE_UP    None\n",
              "26173510                                       Pillars   47  2021-07-31                     My Anh  https://open.spotify.com/track/6eky30oFiQbHUATDlOCGys  Vietnam  viral50      NEW_ENTRY    None\n",
              "26173511                                  Gái Độc Thân   48  2021-07-31                      Tlinh  https://open.spotify.com/track/2klsSb2iTfgDh95Ak9uWY2  Vietnam  viral50      MOVE_DOWN    None\n",
              "26173512                 Renegade (feat. Taylor Swift)   49  2021-07-31            Big Red Machine  https://open.spotify.com/track/1aU1wpYBSpP0M6IiihY5Ue  Vietnam  viral50      MOVE_DOWN    None\n",
              "26173513                               Letter to Jarad   50  2021-07-31  LRN Slime, Shiloh Dynasty  https://open.spotify.com/track/508QhA2SncMbh5CnuxkvUc  Vietnam  viral50      MOVE_DOWN    None"
            ],
            "text/html": [
              "<div>\n",
              "<style scoped>\n",
              "    .dataframe tbody tr th:only-of-type {\n",
              "        vertical-align: middle;\n",
              "    }\n",
              "\n",
              "    .dataframe tbody tr th {\n",
              "        vertical-align: top;\n",
              "    }\n",
              "\n",
              "    .dataframe thead th {\n",
              "        text-align: right;\n",
              "    }\n",
              "</style>\n",
              "<table border=\"1\" class=\"dataframe\">\n",
              "  <thead>\n",
              "    <tr style=\"text-align: right;\">\n",
              "      <th></th>\n",
              "      <th>title</th>\n",
              "      <th>rank</th>\n",
              "      <th>date</th>\n",
              "      <th>artist</th>\n",
              "      <th>url</th>\n",
              "      <th>region</th>\n",
              "      <th>chart</th>\n",
              "      <th>trend</th>\n",
              "      <th>streams</th>\n",
              "    </tr>\n",
              "  </thead>\n",
              "  <tbody>\n",
              "    <tr>\n",
              "      <th>26173504</th>\n",
              "      <td>Reckless</td>\n",
              "      <td>41</td>\n",
              "      <td>2021-07-31</td>\n",
              "      <td>Madison Beer</td>\n",
              "      <td>https://open.spotify.com/track/5ajjAnNRh8bxFva...</td>\n",
              "      <td>Vietnam</td>\n",
              "      <td>viral50</td>\n",
              "      <td>SAME_POSITION</td>\n",
              "      <td>None</td>\n",
              "    </tr>\n",
              "    <tr>\n",
              "      <th>26173505</th>\n",
              "      <td>Aloha</td>\n",
              "      <td>42</td>\n",
              "      <td>2021-07-31</td>\n",
              "      <td>CHO JUNG SEOK</td>\n",
              "      <td>https://open.spotify.com/track/1hOEq5q9L41E2Yb...</td>\n",
              "      <td>Vietnam</td>\n",
              "      <td>viral50</td>\n",
              "      <td>MOVE_DOWN</td>\n",
              "      <td>None</td>\n",
              "    </tr>\n",
              "    <tr>\n",
              "      <th>26173506</th>\n",
              "      <td>Can I Have the Day With You (feat. Michelle)</td>\n",
              "      <td>43</td>\n",
              "      <td>2021-07-31</td>\n",
              "      <td>Sam Ock</td>\n",
              "      <td>https://open.spotify.com/track/11Ymr6CyK8qRVtv...</td>\n",
              "      <td>Vietnam</td>\n",
              "      <td>viral50</td>\n",
              "      <td>MOVE_UP</td>\n",
              "      <td>None</td>\n",
              "    </tr>\n",
              "    <tr>\n",
              "      <th>26173507</th>\n",
              "      <td>Your Man</td>\n",
              "      <td>44</td>\n",
              "      <td>2021-07-31</td>\n",
              "      <td>Josh Turner</td>\n",
              "      <td>https://open.spotify.com/track/1WzAeadSKJhqykZ...</td>\n",
              "      <td>Vietnam</td>\n",
              "      <td>viral50</td>\n",
              "      <td>NEW_ENTRY</td>\n",
              "      <td>None</td>\n",
              "    </tr>\n",
              "    <tr>\n",
              "      <th>26173508</th>\n",
              "      <td>As the World Caves In</td>\n",
              "      <td>45</td>\n",
              "      <td>2021-07-31</td>\n",
              "      <td>Sarah Cothran</td>\n",
              "      <td>https://open.spotify.com/track/2xXNLutYAOELYVO...</td>\n",
              "      <td>Vietnam</td>\n",
              "      <td>viral50</td>\n",
              "      <td>MOVE_DOWN</td>\n",
              "      <td>None</td>\n",
              "    </tr>\n",
              "    <tr>\n",
              "      <th>26173509</th>\n",
              "      <td>BYE</td>\n",
              "      <td>46</td>\n",
              "      <td>2021-07-31</td>\n",
              "      <td>Jaden</td>\n",
              "      <td>https://open.spotify.com/track/3OUyyDN7EZrL7i0...</td>\n",
              "      <td>Vietnam</td>\n",
              "      <td>viral50</td>\n",
              "      <td>MOVE_UP</td>\n",
              "      <td>None</td>\n",
              "    </tr>\n",
              "    <tr>\n",
              "      <th>26173510</th>\n",
              "      <td>Pillars</td>\n",
              "      <td>47</td>\n",
              "      <td>2021-07-31</td>\n",
              "      <td>My Anh</td>\n",
              "      <td>https://open.spotify.com/track/6eky30oFiQbHUAT...</td>\n",
              "      <td>Vietnam</td>\n",
              "      <td>viral50</td>\n",
              "      <td>NEW_ENTRY</td>\n",
              "      <td>None</td>\n",
              "    </tr>\n",
              "    <tr>\n",
              "      <th>26173511</th>\n",
              "      <td>Gái Độc Thân</td>\n",
              "      <td>48</td>\n",
              "      <td>2021-07-31</td>\n",
              "      <td>Tlinh</td>\n",
              "      <td>https://open.spotify.com/track/2klsSb2iTfgDh95...</td>\n",
              "      <td>Vietnam</td>\n",
              "      <td>viral50</td>\n",
              "      <td>MOVE_DOWN</td>\n",
              "      <td>None</td>\n",
              "    </tr>\n",
              "    <tr>\n",
              "      <th>26173512</th>\n",
              "      <td>Renegade (feat. Taylor Swift)</td>\n",
              "      <td>49</td>\n",
              "      <td>2021-07-31</td>\n",
              "      <td>Big Red Machine</td>\n",
              "      <td>https://open.spotify.com/track/1aU1wpYBSpP0M6I...</td>\n",
              "      <td>Vietnam</td>\n",
              "      <td>viral50</td>\n",
              "      <td>MOVE_DOWN</td>\n",
              "      <td>None</td>\n",
              "    </tr>\n",
              "    <tr>\n",
              "      <th>26173513</th>\n",
              "      <td>Letter to Jarad</td>\n",
              "      <td>50</td>\n",
              "      <td>2021-07-31</td>\n",
              "      <td>LRN Slime, Shiloh Dynasty</td>\n",
              "      <td>https://open.spotify.com/track/508QhA2SncMbh5C...</td>\n",
              "      <td>Vietnam</td>\n",
              "      <td>viral50</td>\n",
              "      <td>MOVE_DOWN</td>\n",
              "      <td>None</td>\n",
              "    </tr>\n",
              "  </tbody>\n",
              "</table>\n",
              "</div>"
            ]
          },
          "metadata": {},
          "execution_count": 106
        }
      ]
    },
    {
      "cell_type": "markdown",
      "source": [
        "**Answer:** The songs that has the lowest stream are Reckless, Aloha, Can I Have the Day With You(feat.Michelle), Your Man, As the World Caves In, Bye, Pillars, Gái Độc Thân, Renegade(feat. Taylor Swift) and Letter To Jarad. "
      ],
      "metadata": {
        "id": "GQyujjvI76NY"
      }
    },
    {
      "cell_type": "markdown",
      "source": [
        "**Q2: What is first five row of Ed Sheeran's songs that are more than 80000 streams on Spotify?**"
      ],
      "metadata": {
        "id": "pT_ltSxKU3nN"
      }
    },
    {
      "cell_type": "markdown",
      "source": [
        "**a) Pandas**"
      ],
      "metadata": {
        "id": "7iNTOFq3dGUW"
      }
    },
    {
      "cell_type": "code",
      "source": [
        "ed = df.loc[(df['streams'] >80000) & (df['artist'].str.contains('Ed Sheeran', regex=False)),['title','artist', 'date', 'streams']]\n",
        "ed.head(5)"
      ],
      "metadata": {
        "colab": {
          "base_uri": "https://localhost:8080/",
          "height": 206
        },
        "id": "VfuaQxugZyb4",
        "outputId": "fcd9a6ea-b80d-44ab-9647-24eac9ce01a3"
      },
      "execution_count": null,
      "outputs": [
        {
          "output_type": "execute_result",
          "data": {
            "text/plain": [
              "                   title      artist        date   streams\n",
              "3357          Photograph  Ed Sheeran  2017-01-01  472142.0\n",
              "3375   Thinking out Loud  Ed Sheeran  2017-01-01  436476.0\n",
              "11507       Shape of You  Ed Sheeran  2018-03-01   81955.0\n",
              "12268       Shape of You  Ed Sheeran  2018-03-01  140385.0\n",
              "12315            Perfect  Ed Sheeran  2018-03-01   88683.0"
            ],
            "text/html": [
              "\n",
              "  <div id=\"df-9b0790d2-3a9e-4e73-8a2f-c8fd8f1bcbf2\">\n",
              "    <div class=\"colab-df-container\">\n",
              "      <div>\n",
              "<style scoped>\n",
              "    .dataframe tbody tr th:only-of-type {\n",
              "        vertical-align: middle;\n",
              "    }\n",
              "\n",
              "    .dataframe tbody tr th {\n",
              "        vertical-align: top;\n",
              "    }\n",
              "\n",
              "    .dataframe thead th {\n",
              "        text-align: right;\n",
              "    }\n",
              "</style>\n",
              "<table border=\"1\" class=\"dataframe\">\n",
              "  <thead>\n",
              "    <tr style=\"text-align: right;\">\n",
              "      <th></th>\n",
              "      <th>title</th>\n",
              "      <th>artist</th>\n",
              "      <th>date</th>\n",
              "      <th>streams</th>\n",
              "    </tr>\n",
              "  </thead>\n",
              "  <tbody>\n",
              "    <tr>\n",
              "      <th>3357</th>\n",
              "      <td>Photograph</td>\n",
              "      <td>Ed Sheeran</td>\n",
              "      <td>2017-01-01</td>\n",
              "      <td>472142.0</td>\n",
              "    </tr>\n",
              "    <tr>\n",
              "      <th>3375</th>\n",
              "      <td>Thinking out Loud</td>\n",
              "      <td>Ed Sheeran</td>\n",
              "      <td>2017-01-01</td>\n",
              "      <td>436476.0</td>\n",
              "    </tr>\n",
              "    <tr>\n",
              "      <th>11507</th>\n",
              "      <td>Shape of You</td>\n",
              "      <td>Ed Sheeran</td>\n",
              "      <td>2018-03-01</td>\n",
              "      <td>81955.0</td>\n",
              "    </tr>\n",
              "    <tr>\n",
              "      <th>12268</th>\n",
              "      <td>Shape of You</td>\n",
              "      <td>Ed Sheeran</td>\n",
              "      <td>2018-03-01</td>\n",
              "      <td>140385.0</td>\n",
              "    </tr>\n",
              "    <tr>\n",
              "      <th>12315</th>\n",
              "      <td>Perfect</td>\n",
              "      <td>Ed Sheeran</td>\n",
              "      <td>2018-03-01</td>\n",
              "      <td>88683.0</td>\n",
              "    </tr>\n",
              "  </tbody>\n",
              "</table>\n",
              "</div>\n",
              "      <button class=\"colab-df-convert\" onclick=\"convertToInteractive('df-9b0790d2-3a9e-4e73-8a2f-c8fd8f1bcbf2')\"\n",
              "              title=\"Convert this dataframe to an interactive table.\"\n",
              "              style=\"display:none;\">\n",
              "        \n",
              "  <svg xmlns=\"http://www.w3.org/2000/svg\" height=\"24px\"viewBox=\"0 0 24 24\"\n",
              "       width=\"24px\">\n",
              "    <path d=\"M0 0h24v24H0V0z\" fill=\"none\"/>\n",
              "    <path d=\"M18.56 5.44l.94 2.06.94-2.06 2.06-.94-2.06-.94-.94-2.06-.94 2.06-2.06.94zm-11 1L8.5 8.5l.94-2.06 2.06-.94-2.06-.94L8.5 2.5l-.94 2.06-2.06.94zm10 10l.94 2.06.94-2.06 2.06-.94-2.06-.94-.94-2.06-.94 2.06-2.06.94z\"/><path d=\"M17.41 7.96l-1.37-1.37c-.4-.4-.92-.59-1.43-.59-.52 0-1.04.2-1.43.59L10.3 9.45l-7.72 7.72c-.78.78-.78 2.05 0 2.83L4 21.41c.39.39.9.59 1.41.59.51 0 1.02-.2 1.41-.59l7.78-7.78 2.81-2.81c.8-.78.8-2.07 0-2.86zM5.41 20L4 18.59l7.72-7.72 1.47 1.35L5.41 20z\"/>\n",
              "  </svg>\n",
              "      </button>\n",
              "      \n",
              "  <style>\n",
              "    .colab-df-container {\n",
              "      display:flex;\n",
              "      flex-wrap:wrap;\n",
              "      gap: 12px;\n",
              "    }\n",
              "\n",
              "    .colab-df-convert {\n",
              "      background-color: #E8F0FE;\n",
              "      border: none;\n",
              "      border-radius: 50%;\n",
              "      cursor: pointer;\n",
              "      display: none;\n",
              "      fill: #1967D2;\n",
              "      height: 32px;\n",
              "      padding: 0 0 0 0;\n",
              "      width: 32px;\n",
              "    }\n",
              "\n",
              "    .colab-df-convert:hover {\n",
              "      background-color: #E2EBFA;\n",
              "      box-shadow: 0px 1px 2px rgba(60, 64, 67, 0.3), 0px 1px 3px 1px rgba(60, 64, 67, 0.15);\n",
              "      fill: #174EA6;\n",
              "    }\n",
              "\n",
              "    [theme=dark] .colab-df-convert {\n",
              "      background-color: #3B4455;\n",
              "      fill: #D2E3FC;\n",
              "    }\n",
              "\n",
              "    [theme=dark] .colab-df-convert:hover {\n",
              "      background-color: #434B5C;\n",
              "      box-shadow: 0px 1px 3px 1px rgba(0, 0, 0, 0.15);\n",
              "      filter: drop-shadow(0px 1px 2px rgba(0, 0, 0, 0.3));\n",
              "      fill: #FFFFFF;\n",
              "    }\n",
              "  </style>\n",
              "\n",
              "      <script>\n",
              "        const buttonEl =\n",
              "          document.querySelector('#df-9b0790d2-3a9e-4e73-8a2f-c8fd8f1bcbf2 button.colab-df-convert');\n",
              "        buttonEl.style.display =\n",
              "          google.colab.kernel.accessAllowed ? 'block' : 'none';\n",
              "\n",
              "        async function convertToInteractive(key) {\n",
              "          const element = document.querySelector('#df-9b0790d2-3a9e-4e73-8a2f-c8fd8f1bcbf2');\n",
              "          const dataTable =\n",
              "            await google.colab.kernel.invokeFunction('convertToInteractive',\n",
              "                                                     [key], {});\n",
              "          if (!dataTable) return;\n",
              "\n",
              "          const docLinkHtml = 'Like what you see? Visit the ' +\n",
              "            '<a target=\"_blank\" href=https://colab.research.google.com/notebooks/data_table.ipynb>data table notebook</a>'\n",
              "            + ' to learn more about interactive tables.';\n",
              "          element.innerHTML = '';\n",
              "          dataTable['output_type'] = 'display_data';\n",
              "          await google.colab.output.renderOutput(dataTable, element);\n",
              "          const docLink = document.createElement('div');\n",
              "          docLink.innerHTML = docLinkHtml;\n",
              "          element.appendChild(docLink);\n",
              "        }\n",
              "      </script>\n",
              "    </div>\n",
              "  </div>\n",
              "  "
            ]
          },
          "metadata": {},
          "execution_count": 16
        }
      ]
    },
    {
      "cell_type": "markdown",
      "source": [
        "**b) Pyspark**"
      ],
      "metadata": {
        "id": "KXyIvv8_i6ya"
      }
    },
    {
      "cell_type": "code",
      "source": [
        "sheeran = df_py.filter((col(\"streams\") > 80000) & (col(\"artist\").rlike(\"Ed Sheeran\"))).select(\"title\", \"artist\", \"date\", \"streams\")\n",
        "sheeran.show(5)"
      ],
      "metadata": {
        "colab": {
          "base_uri": "https://localhost:8080/"
        },
        "id": "CGBhxB-pnykX",
        "outputId": "7ba7f271-414f-497e-c94c-a88ce51b093e"
      },
      "execution_count": null,
      "outputs": [
        {
          "output_type": "stream",
          "name": "stdout",
          "text": [
            "+-----------------+----------+----------+-------+\n",
            "|            title|    artist|      date|streams|\n",
            "+-----------------+----------+----------+-------+\n",
            "|       Photograph|Ed Sheeran|2017-01-01| 472142|\n",
            "|Thinking out Loud|Ed Sheeran|2017-01-01| 436476|\n",
            "|     Shape of You|Ed Sheeran|2018-03-01|  81955|\n",
            "|     Shape of You|Ed Sheeran|2018-03-01| 140385|\n",
            "|          Perfect|Ed Sheeran|2018-03-01|  88683|\n",
            "+-----------------+----------+----------+-------+\n",
            "only showing top 5 rows\n",
            "\n"
          ]
        }
      ]
    },
    {
      "cell_type": "markdown",
      "source": [
        "**c) Koalas**"
      ],
      "metadata": {
        "id": "diaQYqAfjRS3"
      }
    },
    {
      "cell_type": "code",
      "source": [
        "ed_sheeran = df_ks[(df_ks['streams'] > 80000) & (df_ks['artist'].str.contains('Ed Sheeran', regex=False))][['title','artist','date','streams']]\n",
        "ed_sheeran.head(5)"
      ],
      "metadata": {
        "colab": {
          "base_uri": "https://localhost:8080/",
          "height": 261
        },
        "id": "Y0au9ibi8WHR",
        "outputId": "08ce21be-d8b9-4be5-a8ca-5b5b8d0bf4a8"
      },
      "execution_count": null,
      "outputs": [
        {
          "output_type": "stream",
          "name": "stderr",
          "text": [
            "/usr/local/lib/python3.8/dist-packages/pyspark/sql/pandas/functions.py:394: UserWarning: In Python 3.6+ and Spark 3.0+, it is preferred to specify type hints for pandas UDF instead of specifying pandas UDF type which will be deprecated in the future releases. See SPARK-28264 for more details.\n",
            "  warnings.warn(\n"
          ]
        },
        {
          "output_type": "execute_result",
          "data": {
            "text/plain": [
              "                   title      artist        date streams\n",
              "3357          Photograph  Ed Sheeran  2017-01-01  472142\n",
              "3375   Thinking out Loud  Ed Sheeran  2017-01-01  436476\n",
              "11507       Shape of You  Ed Sheeran  2018-03-01   81955\n",
              "12268       Shape of You  Ed Sheeran  2018-03-01  140385\n",
              "12315            Perfect  Ed Sheeran  2018-03-01   88683"
            ],
            "text/html": [
              "<div>\n",
              "<style scoped>\n",
              "    .dataframe tbody tr th:only-of-type {\n",
              "        vertical-align: middle;\n",
              "    }\n",
              "\n",
              "    .dataframe tbody tr th {\n",
              "        vertical-align: top;\n",
              "    }\n",
              "\n",
              "    .dataframe thead th {\n",
              "        text-align: right;\n",
              "    }\n",
              "</style>\n",
              "<table border=\"1\" class=\"dataframe\">\n",
              "  <thead>\n",
              "    <tr style=\"text-align: right;\">\n",
              "      <th></th>\n",
              "      <th>title</th>\n",
              "      <th>artist</th>\n",
              "      <th>date</th>\n",
              "      <th>streams</th>\n",
              "    </tr>\n",
              "  </thead>\n",
              "  <tbody>\n",
              "    <tr>\n",
              "      <th>3357</th>\n",
              "      <td>Photograph</td>\n",
              "      <td>Ed Sheeran</td>\n",
              "      <td>2017-01-01</td>\n",
              "      <td>472142</td>\n",
              "    </tr>\n",
              "    <tr>\n",
              "      <th>3375</th>\n",
              "      <td>Thinking out Loud</td>\n",
              "      <td>Ed Sheeran</td>\n",
              "      <td>2017-01-01</td>\n",
              "      <td>436476</td>\n",
              "    </tr>\n",
              "    <tr>\n",
              "      <th>11507</th>\n",
              "      <td>Shape of You</td>\n",
              "      <td>Ed Sheeran</td>\n",
              "      <td>2018-03-01</td>\n",
              "      <td>81955</td>\n",
              "    </tr>\n",
              "    <tr>\n",
              "      <th>12268</th>\n",
              "      <td>Shape of You</td>\n",
              "      <td>Ed Sheeran</td>\n",
              "      <td>2018-03-01</td>\n",
              "      <td>140385</td>\n",
              "    </tr>\n",
              "    <tr>\n",
              "      <th>12315</th>\n",
              "      <td>Perfect</td>\n",
              "      <td>Ed Sheeran</td>\n",
              "      <td>2018-03-01</td>\n",
              "      <td>88683</td>\n",
              "    </tr>\n",
              "  </tbody>\n",
              "</table>\n",
              "</div>"
            ]
          },
          "metadata": {},
          "execution_count": 107
        }
      ]
    },
    {
      "cell_type": "markdown",
      "source": [
        "**Answer:** The songs of Ed Sheeran that are more than 80000 streams on Spotify are Photograph, Thinking Out Loud, Shape of You and Perfect."
      ],
      "metadata": {
        "id": "t6o6nzNO97i7"
      }
    },
    {
      "cell_type": "markdown",
      "source": [
        "**Q3: What are the most frequent artist names that appear with more than 100000 streams on spotify?**"
      ],
      "metadata": {
        "id": "4bYmm8jbcDG2"
      }
    },
    {
      "cell_type": "markdown",
      "source": [
        "**a) Pandas**"
      ],
      "metadata": {
        "id": "fHPKXjtZi_dG"
      }
    },
    {
      "cell_type": "code",
      "source": [
        "from wordcloud import WordCloud"
      ],
      "metadata": {
        "id": "YvfSJYHIfGp0"
      },
      "execution_count": null,
      "outputs": []
    },
    {
      "cell_type": "code",
      "source": [
        "%%time\n",
        "words = WordCloud(width=700,height=700,min_font_size=20,background_color='white')\n",
        "spam_wc = words.generate(df[df['streams'] > 100000]['artist'].str.cat(sep=\" \"))\n",
        "\n",
        "plt.figure(figsize=(20,10))\n",
        "plt.axis('off')\n",
        "plt.imshow(spam_wc)"
      ],
      "metadata": {
        "colab": {
          "base_uri": "https://localhost:8080/",
          "height": 627
        },
        "id": "SelVis2gek-K",
        "outputId": "b6923b59-a7c9-4e2a-e9df-c190e0c6b422"
      },
      "execution_count": null,
      "outputs": [
        {
          "output_type": "stream",
          "name": "stdout",
          "text": [
            "CPU times: user 22.1 s, sys: 1.19 s, total: 23.2 s\n",
            "Wall time: 24.8 s\n"
          ]
        },
        {
          "output_type": "execute_result",
          "data": {
            "text/plain": [
              "<matplotlib.image.AxesImage at 0x7fb8f3d78250>"
            ]
          },
          "metadata": {},
          "execution_count": 18
        },
        {
          "output_type": "display_data",
          "data": {
            "text/plain": [
              "<Figure size 1440x720 with 1 Axes>"
            ],
            "image/png": "[encoded data removed]"
          },
          "metadata": {
            "needs_background": "light"
          }
        }
      ]
    },
    {
      "cell_type": "markdown",
      "source": [
        "**Pyspark & Koalas**"
      ],
      "metadata": {
        "id": "KSsh5wBjjVLB"
      }
    },
    {
      "cell_type": "markdown",
      "source": [
        "The Wordcloud is unavailable in both Pyspark and Koalas library since the Wordcloud can only be built in Pandas dataframes."
      ],
      "metadata": {
        "id": "fJPs371C03uB"
      }
    },
    {
      "cell_type": "markdown",
      "source": [
        "**Answer:** The artist name that frequently appear with more than 100000 streams on Spotify is mainly Bad Bunny, Post Malone, J Balvin and followed by other artists showed on the figure above."
      ],
      "metadata": {
        "id": "CYYtDIlB--Xf"
      }
    },
    {
      "cell_type": "markdown",
      "source": [
        "**Q4: Which artist has the maximum amount of times who has been in the Top 200?**"
      ],
      "metadata": {
        "id": "rh524931S231"
      }
    },
    {
      "cell_type": "markdown",
      "source": [
        "**a) Pandas**"
      ],
      "metadata": {
        "id": "FhGjGyEnKmT4"
      }
    },
    {
      "cell_type": "code",
      "source": [
        "%%time\n",
        "max = df.groupby(['artist'])['rank'].agg('count').sort_values(ascending=False) \n",
        "new_max = max.head(20)\n",
        "new_max"
      ],
      "metadata": {
        "id": "9-lIgdxVVj2M",
        "colab": {
          "base_uri": "https://localhost:8080/"
        },
        "outputId": "c6a1f216-e744-4b53-dea1-e18ff134a03f"
      },
      "execution_count": null,
      "outputs": [
        {
          "output_type": "stream",
          "name": "stdout",
          "text": [
            "CPU times: user 5.09 s, sys: 143 ms, total: 5.23 s\n",
            "Wall time: 5.26 s\n"
          ]
        },
        {
          "output_type": "execute_result",
          "data": {
            "text/plain": [
              "artist\n",
              "Ed Sheeran         387917\n",
              "Billie Eilish      251825\n",
              "Post Malone        211272\n",
              "Bad Bunny          203403\n",
              "Ariana Grande      189914\n",
              "Dua Lipa           187085\n",
              "Drake              177380\n",
              "Imagine Dragons    157900\n",
              "XXXTENTACION       155458\n",
              "BTS                154338\n",
              "The Weeknd         153292\n",
              "Justin Bieber      130397\n",
              "Travis Scott       122980\n",
              "Juice WRLD         121933\n",
              "Maluma             110762\n",
              "Shawn Mendes       108786\n",
              "Harry Styles       107539\n",
              "Maroon 5           105610\n",
              "Doja Cat           104325\n",
              "Lewis Capaldi      101700\n",
              "Name: rank, dtype: int64"
            ]
          },
          "metadata": {},
          "execution_count": 16
        }
      ]
    },
    {
      "cell_type": "code",
      "source": [
        "%%time\n",
        "plt.figure(figsize = (45,18))\n",
        "plt.bar(new_max.index, new_max.values,color='#4863A0')\n",
        "plt.title('Top Artist in Top 200')\n",
        "plt.xlabel('Count')\n",
        "plt.ylabel('Artist')\n",
        "plt.show()"
      ],
      "metadata": {
        "colab": {
          "base_uri": "https://localhost:8080/",
          "height": 519
        },
        "id": "fmh-9DrUsVKj",
        "outputId": "b4199d0a-436d-4d00-e857-0a6403057ac3"
      },
      "execution_count": null,
      "outputs": [
        {
          "output_type": "display_data",
          "data": {
            "text/plain": [
              "<Figure size 3240x1296 with 1 Axes>"
            ],
            "image/png": "[encoded data removed]"
          },
          "metadata": {
            "needs_background": "light"
          }
        },
        {
          "output_type": "stream",
          "name": "stdout",
          "text": [
            "CPU times: user 661 ms, sys: 14.4 ms, total: 675 ms\n",
            "Wall time: 683 ms\n"
          ]
        }
      ]
    },
    {
      "cell_type": "markdown",
      "source": [
        "**b) PySpark**"
      ],
      "metadata": {
        "id": "3nD8Sn1SKtPJ"
      }
    },
    {
      "cell_type": "code",
      "source": [
        "from pyspark.sql.functions import count as _count"
      ],
      "metadata": {
        "id": "jf1_Q7pSV1Rg"
      },
      "execution_count": 16,
      "outputs": []
    },
    {
      "cell_type": "code",
      "source": [
        "%%time\n",
        "py_max = df_py.groupBy(\"artist\").agg(_count(\"rank\")).orderBy('count(rank)', ascending=False)\n",
        "new = py_max.show(20)\n",
        "new"
      ],
      "metadata": {
        "colab": {
          "base_uri": "https://localhost:8080/"
        },
        "id": "W6gr_Lt36qho",
        "outputId": "f2b40ca5-b291-44f8-d838-c92f193f32e6"
      },
      "execution_count": null,
      "outputs": [
        {
          "output_type": "stream",
          "name": "stdout",
          "text": [
            "+---------------+-----------+\n",
            "|         artist|count(rank)|\n",
            "+---------------+-----------+\n",
            "|     Ed Sheeran|     387917|\n",
            "|  Billie Eilish|     251825|\n",
            "|    Post Malone|     211272|\n",
            "|      Bad Bunny|     203403|\n",
            "|  Ariana Grande|     189914|\n",
            "|       Dua Lipa|     187085|\n",
            "|          Drake|     177380|\n",
            "|Imagine Dragons|     157900|\n",
            "|   XXXTENTACION|     155458|\n",
            "|            BTS|     154338|\n",
            "|     The Weeknd|     153292|\n",
            "|  Justin Bieber|     130397|\n",
            "|   Travis Scott|     122980|\n",
            "|     Juice WRLD|     121933|\n",
            "|         Maluma|     110762|\n",
            "|   Shawn Mendes|     108786|\n",
            "|   Harry Styles|     107539|\n",
            "|       Maroon 5|     105610|\n",
            "|       Doja Cat|     104325|\n",
            "|  Lewis Capaldi|     101700|\n",
            "+---------------+-----------+\n",
            "only showing top 20 rows\n",
            "\n",
            "CPU times: user 522 ms, sys: 47.5 ms, total: 569 ms\n",
            "Wall time: 1min 19s\n"
          ]
        }
      ]
    },
    {
      "cell_type": "code",
      "source": [
        "%%time\n",
        "\n",
        "py_new = df_py.groupby(\"artist\").agg(_count('rank'))\n",
        "count = py_new['count(rank)']\n",
        "py_new = py_new.sort(count.desc())\n",
        "py_new = py_new.toPandas()\n"
      ],
      "metadata": {
        "colab": {
          "base_uri": "https://localhost:8080/"
        },
        "id": "7Pjpz40Vd0jd",
        "outputId": "fcbafc1e-7acc-484b-dc30-37ea6e618be6"
      },
      "execution_count": null,
      "outputs": [
        {
          "output_type": "stream",
          "name": "stdout",
          "text": [
            "CPU times: user 1.08 s, sys: 59.8 ms, total: 1.14 s\n",
            "Wall time: 1min 1s\n"
          ]
        }
      ]
    },
    {
      "cell_type": "code",
      "source": [
        "%%time\n",
        "plt.figure(figsize = (45,18))\n",
        "plt.title('Top Artist in Top 200')\n",
        "sns.barplot(x=py_new['artist'].index[:20], y=py_new['count(rank)'].values[:20])\n",
        "plt.xlabel('Artist')\n",
        "plt.ylabel('Count')\n",
        "plt.show()"
      ],
      "metadata": {
        "colab": {
          "base_uri": "https://localhost:8080/",
          "height": 578
        },
        "id": "HaAPLTnbpmwY",
        "outputId": "0ffbd36b-d4be-4d1d-831f-b445c42d0576"
      },
      "execution_count": null,
      "outputs": [
        {
          "output_type": "display_data",
          "data": {
            "text/plain": [
              "<Figure size 3240x1296 with 1 Axes>"
            ],
            "image/png": "[encoded data removed]"
          },
          "metadata": {
            "needs_background": "light"
          }
        },
        {
          "output_type": "stream",
          "name": "stdout",
          "text": [
            "CPU times: user 701 ms, sys: 32.7 ms, total: 733 ms\n",
            "Wall time: 845 ms\n"
          ]
        }
      ]
    },
    {
      "cell_type": "markdown",
      "source": [
        "**c) Koalas**"
      ],
      "metadata": {
        "id": "gxI-mVv1K5mf"
      }
    },
    {
      "cell_type": "code",
      "source": [
        "%%time\n",
        "ks_max = df_ks.groupby(\"artist\").agg({'rank':'count'}).sort_values(by='rank', ascending=False)\n",
        "ks_max = ks_max[:20]\n",
        "ks_max"
      ],
      "metadata": {
        "colab": {
          "base_uri": "https://localhost:8080/",
          "height": 780
        },
        "id": "DLx5caRmLC3N",
        "outputId": "d3dd26cb-29f6-4a9d-dc63-372376e81e37"
      },
      "execution_count": null,
      "outputs": [
        {
          "output_type": "stream",
          "name": "stderr",
          "text": [
            "/usr/local/lib/python3.8/dist-packages/pyspark/sql/dataframe.py:127: UserWarning: DataFrame constructor is internal. Do not directly use it.\n",
            "  warnings.warn(\"DataFrame constructor is internal. Do not directly use it.\")\n"
          ]
        },
        {
          "output_type": "stream",
          "name": "stdout",
          "text": [
            "CPU times: user 1.44 s, sys: 140 ms, total: 1.58 s\n",
            "Wall time: 3min 10s\n"
          ]
        },
        {
          "output_type": "execute_result",
          "data": {
            "text/plain": [
              "                   rank\n",
              "artist                 \n",
              "Ed Sheeran       387917\n",
              "Billie Eilish    251825\n",
              "Post Malone      211272\n",
              "Bad Bunny        203403\n",
              "Ariana Grande    189914\n",
              "Dua Lipa         187085\n",
              "Drake            177380\n",
              "Imagine Dragons  157900\n",
              "XXXTENTACION     155458\n",
              "BTS              154338\n",
              "The Weeknd       153292\n",
              "Justin Bieber    130397\n",
              "Travis Scott     122980\n",
              "Juice WRLD       121933\n",
              "Maluma           110762\n",
              "Shawn Mendes     108786\n",
              "Harry Styles     107539\n",
              "Maroon 5         105610\n",
              "Doja Cat         104325\n",
              "Lewis Capaldi    101700"
            ],
            "text/html": [
              "<div>\n",
              "<style scoped>\n",
              "    .dataframe tbody tr th:only-of-type {\n",
              "        vertical-align: middle;\n",
              "    }\n",
              "\n",
              "    .dataframe tbody tr th {\n",
              "        vertical-align: top;\n",
              "    }\n",
              "\n",
              "    .dataframe thead th {\n",
              "        text-align: right;\n",
              "    }\n",
              "</style>\n",
              "<table border=\"1\" class=\"dataframe\">\n",
              "  <thead>\n",
              "    <tr style=\"text-align: right;\">\n",
              "      <th></th>\n",
              "      <th>rank</th>\n",
              "    </tr>\n",
              "    <tr>\n",
              "      <th>artist</th>\n",
              "      <th></th>\n",
              "    </tr>\n",
              "  </thead>\n",
              "  <tbody>\n",
              "    <tr>\n",
              "      <th>Ed Sheeran</th>\n",
              "      <td>387917</td>\n",
              "    </tr>\n",
              "    <tr>\n",
              "      <th>Billie Eilish</th>\n",
              "      <td>251825</td>\n",
              "    </tr>\n",
              "    <tr>\n",
              "      <th>Post Malone</th>\n",
              "      <td>211272</td>\n",
              "    </tr>\n",
              "    <tr>\n",
              "      <th>Bad Bunny</th>\n",
              "      <td>203403</td>\n",
              "    </tr>\n",
              "    <tr>\n",
              "      <th>Ariana Grande</th>\n",
              "      <td>189914</td>\n",
              "    </tr>\n",
              "    <tr>\n",
              "      <th>Dua Lipa</th>\n",
              "      <td>187085</td>\n",
              "    </tr>\n",
              "    <tr>\n",
              "      <th>Drake</th>\n",
              "      <td>177380</td>\n",
              "    </tr>\n",
              "    <tr>\n",
              "      <th>Imagine Dragons</th>\n",
              "      <td>157900</td>\n",
              "    </tr>\n",
              "    <tr>\n",
              "      <th>XXXTENTACION</th>\n",
              "      <td>155458</td>\n",
              "    </tr>\n",
              "    <tr>\n",
              "      <th>BTS</th>\n",
              "      <td>154338</td>\n",
              "    </tr>\n",
              "    <tr>\n",
              "      <th>The Weeknd</th>\n",
              "      <td>153292</td>\n",
              "    </tr>\n",
              "    <tr>\n",
              "      <th>Justin Bieber</th>\n",
              "      <td>130397</td>\n",
              "    </tr>\n",
              "    <tr>\n",
              "      <th>Travis Scott</th>\n",
              "      <td>122980</td>\n",
              "    </tr>\n",
              "    <tr>\n",
              "      <th>Juice WRLD</th>\n",
              "      <td>121933</td>\n",
              "    </tr>\n",
              "    <tr>\n",
              "      <th>Maluma</th>\n",
              "      <td>110762</td>\n",
              "    </tr>\n",
              "    <tr>\n",
              "      <th>Shawn Mendes</th>\n",
              "      <td>108786</td>\n",
              "    </tr>\n",
              "    <tr>\n",
              "      <th>Harry Styles</th>\n",
              "      <td>107539</td>\n",
              "    </tr>\n",
              "    <tr>\n",
              "      <th>Maroon 5</th>\n",
              "      <td>105610</td>\n",
              "    </tr>\n",
              "    <tr>\n",
              "      <th>Doja Cat</th>\n",
              "      <td>104325</td>\n",
              "    </tr>\n",
              "    <tr>\n",
              "      <th>Lewis Capaldi</th>\n",
              "      <td>101700</td>\n",
              "    </tr>\n",
              "  </tbody>\n",
              "</table>\n",
              "</div>"
            ]
          },
          "metadata": {},
          "execution_count": 20
        }
      ]
    },
    {
      "cell_type": "code",
      "source": [
        "%%time\n",
        "ks_max = ks_max.toPandas()"
      ],
      "metadata": {
        "colab": {
          "base_uri": "https://localhost:8080/"
        },
        "id": "FeTqkiv19NbJ",
        "outputId": "6238b4eb-02b4-4772-d03f-fc4007fe7b38"
      },
      "execution_count": null,
      "outputs": [
        {
          "output_type": "stream",
          "name": "stderr",
          "text": [
            "/usr/local/lib/python3.8/dist-packages/databricks/koalas/frame.py:4901: FutureWarning: DataFrame.toPandas is deprecated as of DataFrame.to_pandas. Please use the API instead.\n",
            "  warnings.warn(\n"
          ]
        },
        {
          "output_type": "stream",
          "name": "stdout",
          "text": [
            "CPU times: user 21 ms, sys: 1.53 ms, total: 22.6 ms\n",
            "Wall time: 264 ms\n"
          ]
        }
      ]
    },
    {
      "cell_type": "code",
      "source": [
        "%%time\n",
        "plt.figure(figsize = (45,18))\n",
        "ks_max.plot(kind='bar', figsize=(45,18),color='#6495ED')\n",
        "plt.title('Top Artist in Top 200')\n",
        "plt.xlabel('Artist')\n",
        "plt.ylabel('Count')\n",
        "plt.show()"
      ],
      "metadata": {
        "colab": {
          "base_uri": "https://localhost:8080/",
          "height": 650
        },
        "id": "4QVLFbsr-gqn",
        "outputId": "563281da-cc93-4314-f522-acd5b9e65b8c"
      },
      "execution_count": null,
      "outputs": [
        {
          "output_type": "display_data",
          "data": {
            "text/plain": [
              "<Figure size 3240x1296 with 0 Axes>"
            ]
          },
          "metadata": {}
        },
        {
          "output_type": "display_data",
          "data": {
            "text/plain": [
              "<Figure size 3240x1296 with 1 Axes>"
            ],
            "image/png": "[encoded data removed]"
          },
          "metadata": {
            "needs_background": "light"
          }
        },
        {
          "output_type": "stream",
          "name": "stdout",
          "text": [
            "CPU times: user 765 ms, sys: 59.9 ms, total: 825 ms\n",
            "Wall time: 861 ms\n"
          ]
        }
      ]
    },
    {
      "cell_type": "markdown",
      "source": [
        "**Answer:** The artist who has the maximum amount of times in the Top 200 is Ed Sheeran with a number of 387917 times, followed by Billie Eilish with 251825 and lastly by Post Malone with a number of 211272 times."
      ],
      "metadata": {
        "id": "_c8_R3Kr8Pxf"
      }
    },
    {
      "cell_type": "markdown",
      "source": [
        "**Q5: Which song has the highest number of times amount of streams?**"
      ],
      "metadata": {
        "id": "xUT7gfJcS5_X"
      }
    },
    {
      "cell_type": "markdown",
      "source": [
        "**a) Pandas**"
      ],
      "metadata": {
        "id": "_ilSg-e-Kw8R"
      }
    },
    {
      "cell_type": "code",
      "source": [
        "%%time\n",
        "song = df.groupby(['title'])['streams'].agg('count').sort_values(ascending=False) \n",
        "new_song = song.head(10)\n",
        "new_song"
      ],
      "metadata": {
        "id": "UwsU4u5Xj70K",
        "colab": {
          "base_uri": "https://localhost:8080/"
        },
        "outputId": "21b37029-672a-4e4e-9f8d-cea9c93b644b"
      },
      "execution_count": 17,
      "outputs": [
        {
          "output_type": "stream",
          "name": "stdout",
          "text": [
            "CPU times: user 7.08 s, sys: 266 ms, total: 7.35 s\n",
            "Wall time: 7.33 s\n"
          ]
        },
        {
          "output_type": "execute_result",
          "data": {
            "text/plain": [
              "title\n",
              "Shape of You                                     65262\n",
              "Believer                                         58310\n",
              "Perfect                                          52732\n",
              "Someone You Loved                                50975\n",
              "Happier                                          48362\n",
              "Blinding Lights                                  47747\n",
              "Dance Monkey                                     43369\n",
              "Shallow                                          41312\n",
              "Don't Start Now                                  40240\n",
              "Sunflower - Spider-Man: Into the Spider-Verse    39645\n",
              "Name: streams, dtype: int64"
            ]
          },
          "metadata": {},
          "execution_count": 17
        }
      ]
    },
    {
      "cell_type": "code",
      "source": [
        "%%time\n",
        "plt.figure(figsize = (18,20))\n",
        "new_song.plot.pie(autopct=\"%.1f%%\")\n",
        "plt.title('Songs with Highest Streams')"
      ],
      "metadata": {
        "colab": {
          "base_uri": "https://localhost:8080/",
          "height": 1000
        },
        "id": "8PiW3fo6vp9n",
        "outputId": "4c9ecb01-989c-44e1-a5a1-69026dd310db"
      },
      "execution_count": 18,
      "outputs": [
        {
          "output_type": "stream",
          "name": "stdout",
          "text": [
            "CPU times: user 36.7 ms, sys: 1.88 ms, total: 38.6 ms\n",
            "Wall time: 42.9 ms\n"
          ]
        },
        {
          "output_type": "execute_result",
          "data": {
            "text/plain": [
              "Text(0.5, 1.0, 'Songs with Highest Streams')"
            ]
          },
          "metadata": {},
          "execution_count": 18
        },
        {
          "output_type": "display_data",
          "data": {
            "text/plain": [
              "<Figure size 1296x1440 with 1 Axes>"
            ],
            "image/png": "[encoded data removed]"
          },
          "metadata": {}
        }
      ]
    },
    {
      "cell_type": "markdown",
      "source": [
        "**b) PySpark**"
      ],
      "metadata": {
        "id": "yuSfNG96K0ak"
      }
    },
    {
      "cell_type": "code",
      "source": [
        "%%time\n",
        "songs = df_py.groupBy(\"title\").agg(_count(\"streams\")).orderBy('count(streams)', ascending=False)\n",
        "new_songs = songs.show(10)\n",
        "new_songs"
      ],
      "metadata": {
        "colab": {
          "base_uri": "https://localhost:8080/"
        },
        "id": "KlBs_xYUFLGt",
        "outputId": "f7335648-d003-4332-b5d4-c83828b1b375"
      },
      "execution_count": 19,
      "outputs": [
        {
          "output_type": "stream",
          "name": "stdout",
          "text": [
            "+--------------------+--------------+\n",
            "|               title|count(streams)|\n",
            "+--------------------+--------------+\n",
            "|        Shape of You|         65262|\n",
            "|            Believer|         58310|\n",
            "|             Perfect|         52732|\n",
            "|   Someone You Loved|         50975|\n",
            "|             Happier|         48362|\n",
            "|     Blinding Lights|         47747|\n",
            "|        Dance Monkey|         43369|\n",
            "|             Shallow|         41312|\n",
            "|     Don't Start Now|         40240|\n",
            "|Sunflower - Spide...|         39645|\n",
            "+--------------------+--------------+\n",
            "only showing top 10 rows\n",
            "\n",
            "CPU times: user 440 ms, sys: 44 ms, total: 484 ms\n",
            "Wall time: 1min 14s\n"
          ]
        }
      ]
    },
    {
      "cell_type": "code",
      "source": [
        "%%time\n",
        "\n",
        "py_song = df_py.groupby(\"title\").agg(_count('streams'))\n",
        "counted = py_song['count(streams)']\n",
        "py_song = py_song.sort(counted.desc())\n",
        "py_song = py_song.toPandas()"
      ],
      "metadata": {
        "colab": {
          "base_uri": "https://localhost:8080/"
        },
        "id": "EYuvTjYzvxSK",
        "outputId": "3a36699b-0c53-4f6f-8bfb-e654f590abd9"
      },
      "execution_count": 20,
      "outputs": [
        {
          "output_type": "stream",
          "name": "stdout",
          "text": [
            "CPU times: user 1.49 s, sys: 82 ms, total: 1.57 s\n",
            "Wall time: 1min 9s\n"
          ]
        }
      ]
    },
    {
      "cell_type": "code",
      "source": [
        "%%time\n",
        "\n",
        "plt.figure(figsize=(18,12)) \n",
        "labels = py_song.index[:10]\n",
        "values = py_song['count(streams)'].values[:10]\n",
        "colors = ['#4863A0', '#66CDAA', '#FBD5AB', '#F2BB66', '#C2B280', '#A0522D', '#FF6700', '#E55451', '#810541', '#FF1493']\n",
        "plt.pie(values, colors=colors, labels=labels, autopct='%1.1f%%')\n",
        "plt.title('Songs with Highest Streams')\n",
        "plt.show()"
      ],
      "metadata": {
        "colab": {
          "base_uri": "https://localhost:8080/",
          "height": 739
        },
        "id": "18DzN7J2rYxj",
        "outputId": "70e84aa5-69e9-493f-b324-b095fa5d5b4e"
      },
      "execution_count": 21,
      "outputs": [
        {
          "output_type": "display_data",
          "data": {
            "text/plain": [
              "<Figure size 1296x864 with 1 Axes>"
            ],
            "image/png": "[encoded data removed]"
          },
          "metadata": {}
        },
        {
          "output_type": "stream",
          "name": "stdout",
          "text": [
            "CPU times: user 159 ms, sys: 2.67 ms, total: 162 ms\n",
            "Wall time: 167 ms\n"
          ]
        }
      ]
    },
    {
      "cell_type": "markdown",
      "source": [
        "**c) Koalas**"
      ],
      "metadata": {
        "id": "HYdrSQ77K9yL"
      }
    },
    {
      "cell_type": "code",
      "source": [
        "%%time\n",
        "ks_song = df_ks.groupby(\"title\").agg({'streams':'count'})\n",
        "ks_song = ks_song.sort_values(by='streams', ascending=False)\n",
        "ks_song = ks_song[:10]"
      ],
      "metadata": {
        "id": "dbTHdC15K9bh",
        "colab": {
          "base_uri": "https://localhost:8080/"
        },
        "outputId": "26a3e512-2c47-40a7-ab60-9bad39d3aed0"
      },
      "execution_count": null,
      "outputs": [
        {
          "output_type": "stream",
          "name": "stderr",
          "text": [
            "/usr/local/lib/python3.8/dist-packages/pyspark/sql/dataframe.py:148: UserWarning: DataFrame.sql_ctx is an internal property, and will be removed in future releases. Use DataFrame.sparkSession instead.\n",
            "  warnings.warn(\n"
          ]
        },
        {
          "output_type": "stream",
          "name": "stdout",
          "text": [
            "CPU times: user 579 ms, sys: 55.8 ms, total: 635 ms\n",
            "Wall time: 1min 13s\n"
          ]
        },
        {
          "output_type": "stream",
          "name": "stderr",
          "text": [
            "/usr/local/lib/python3.8/dist-packages/pyspark/sql/dataframe.py:127: UserWarning: DataFrame constructor is internal. Do not directly use it.\n",
            "  warnings.warn(\"DataFrame constructor is internal. Do not directly use it.\")\n"
          ]
        }
      ]
    },
    {
      "cell_type": "code",
      "source": [
        "%%time\n",
        "ks_song = ks_song.toPandas()"
      ],
      "metadata": {
        "colab": {
          "base_uri": "https://localhost:8080/"
        },
        "id": "feBW0ZAo90mG",
        "outputId": "3e89e48a-d670-40cf-c5da-2b9d2b819678"
      },
      "execution_count": null,
      "outputs": [
        {
          "output_type": "stream",
          "name": "stderr",
          "text": [
            "/usr/local/lib/python3.8/dist-packages/databricks/koalas/frame.py:4901: FutureWarning: DataFrame.toPandas is deprecated as of DataFrame.to_pandas. Please use the API instead.\n",
            "  warnings.warn(\n"
          ]
        },
        {
          "output_type": "stream",
          "name": "stdout",
          "text": [
            "CPU times: user 27.8 ms, sys: 2.82 ms, total: 30.6 ms\n",
            "Wall time: 563 ms\n"
          ]
        }
      ]
    },
    {
      "cell_type": "code",
      "source": [
        "%%time\n",
        "plt.rcParams['figure.figsize']=(40,10)\n",
        "labels = ks_song.index\n",
        "plt.pie(ks_song,labels=labels, autopct='%1.1f%%')\n",
        "plt.title('Top Artist in Top 200')\n",
        "plt.show()"
      ],
      "metadata": {
        "colab": {
          "base_uri": "https://localhost:8080/",
          "height": 668
        },
        "id": "qBL36qyV91NJ",
        "outputId": "4b1e0e78-0f8f-405a-f2fb-2b151c8198ea"
      },
      "execution_count": null,
      "outputs": [
        {
          "output_type": "stream",
          "name": "stderr",
          "text": [
            "<timed exec>:3: MatplotlibDeprecationWarning: Non-1D inputs to pie() are currently squeeze()d, but this behavior is deprecated since 3.1 and will be removed in 3.3; pass a 1D array instead.\n"
          ]
        },
        {
          "output_type": "display_data",
          "data": {
            "text/plain": [
              "<Figure size 2880x720 with 1 Axes>"
            ],
            "image/png": "[encoded data removed]"
          },
          "metadata": {}
        },
        {
          "output_type": "stream",
          "name": "stdout",
          "text": [
            "CPU times: user 265 ms, sys: 6.1 ms, total: 272 ms\n",
            "Wall time: 295 ms\n"
          ]
        }
      ]
    },
    {
      "cell_type": "markdown",
      "source": [
        "**Answer:** The song which has the highest number of times amount of streams is Shape of You with 65262 streams."
      ],
      "metadata": {
        "id": "OUCWeZOJ8x8t"
      }
    },
    {
      "cell_type": "markdown",
      "source": [
        "#**Conclusion**"
      ],
      "metadata": {
        "id": "38pz8FkDK2sh"
      }
    },
    {
      "cell_type": "markdown",
      "source": [
        "From the analysis that we have done, we can conclude that the best library is PySpark as the running time for PySpark is the least compared to Koalas and Pandas.\n"
      ],
      "metadata": {
        "id": "n8fJNaCmLA68"
      }
    }
  ]
}